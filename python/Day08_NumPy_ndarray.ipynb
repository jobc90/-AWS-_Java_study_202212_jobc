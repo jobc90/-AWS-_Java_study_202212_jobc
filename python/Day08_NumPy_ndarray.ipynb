{
 "cells": [
  {
   "cell_type": "code",
   "execution_count": 2,
   "id": "45d429f1",
   "metadata": {},
   "outputs": [],
   "source": [
    "import numpy as np"
   ]
  },
  {
   "cell_type": "code",
   "execution_count": 4,
   "id": "7e69a0d7",
   "metadata": {},
   "outputs": [
    {
     "name": "stdout",
     "output_type": "stream",
     "text": [
      "[1, 2, 3, 4, 5]\n",
      "[1 2 3 4 5]\n",
      "<class 'numpy.ndarray'>\n"
     ]
    }
   ],
   "source": [
    "a1 = np.array([1, 2, 3, 4, 5])\n",
    "print([1, 2, 3, 4, 5])\n",
    "print(a1)\n",
    "print(type(a1))"
   ]
  },
  {
   "cell_type": "code",
   "execution_count": 16,
   "id": "009b1298",
   "metadata": {},
   "outputs": [
    {
     "name": "stdout",
     "output_type": "stream",
     "text": [
      "[0 1 2 3 4 5 6 7 8 9]\n",
      "<class 'numpy.ndarray'>\n",
      "[ 0  3  6  9 12 15 18 21 24 27 30 33 36 39 42 45 48 51 54 57 60 63 66 69\n",
      " 72 75 78 81 84 87 90 93 96 99]\n",
      "[1.1 1.6 2.1 2.6 3.1 3.6 4.1 4.6 5.1 5.6 6.1 6.6 7.1 7.6 8.1 8.6 9.1 9.6]\n"
     ]
    },
    {
     "ename": "TypeError",
     "evalue": "'float' object cannot be interpreted as an integer",
     "output_type": "error",
     "traceback": [
      "\u001b[1;31m---------------------------------------------------------------------------\u001b[0m",
      "\u001b[1;31mTypeError\u001b[0m                                 Traceback (most recent call last)",
      "Cell \u001b[1;32mIn[16], line 13\u001b[0m\n\u001b[0;32m     10\u001b[0m a4 \u001b[38;5;241m=\u001b[39m np\u001b[38;5;241m.\u001b[39marange(\u001b[38;5;241m1.1\u001b[39m, \u001b[38;5;241m10\u001b[39m, \u001b[38;5;241m0.5\u001b[39m)\n\u001b[0;32m     11\u001b[0m \u001b[38;5;28mprint\u001b[39m(a4)\n\u001b[1;32m---> 13\u001b[0m lista \u001b[38;5;241m=\u001b[39m [i \u001b[38;5;28;01mfor\u001b[39;00m i \u001b[38;5;129;01min\u001b[39;00m \u001b[38;5;28;43mrange\u001b[39;49m\u001b[43m(\u001b[49m\u001b[38;5;241;43m1.3\u001b[39;49m\u001b[43m,\u001b[49m\u001b[43m \u001b[49m\u001b[38;5;241;43m10\u001b[39;49m\u001b[43m,\u001b[49m\u001b[43m \u001b[49m\u001b[38;5;241;43m0.5\u001b[39;49m\u001b[43m)\u001b[49m]\n",
      "\u001b[1;31mTypeError\u001b[0m: 'float' object cannot be interpreted as an integer"
     ]
    }
   ],
   "source": [
    "a2 = np.arange(10)\n",
    "print(a2)\n",
    "print(type(a2))\n",
    "\n",
    "# arange도 start stop step도 가능하다\n",
    "a3 = np.arange(0, 100, 3)\n",
    "print(a3)\n",
    "\n",
    "# 1부터 10아래 0.5씩 증가, step=0.5\n",
    "a4 = np.arange(1.1, 10, 0.5)\n",
    "print(a4)\n",
    "\n",
    "# range는 실수 불가\n",
    "lista = [i for i in range(1.3, 10, 0.5)]"
   ]
  },
  {
   "cell_type": "code",
   "execution_count": 22,
   "id": "4bb27cbb",
   "metadata": {},
   "outputs": [
    {
     "name": "stdout",
     "output_type": "stream",
     "text": [
      "[ 0  0  1  2  2  3  4  5  5  6  7  7  8  9 10]\n"
     ]
    }
   ],
   "source": [
    "# linspace는 start stop의 범위안에 원하는 개수의 숫자를 뽑아준다.\n",
    "a4 = np.linspace(0, 10, 15)\n",
    "print(a4)"
   ]
  },
  {
   "cell_type": "code",
   "execution_count": 24,
   "id": "c54a2f46",
   "metadata": {},
   "outputs": [
    {
     "name": "stdout",
     "output_type": "stream",
     "text": [
      "[0. 0. 0. 0. 0.]\n",
      "[1 1 1 1 1]\n"
     ]
    },
    {
     "data": {
      "text/plain": [
       "array([1., 1., 1., 1., 1.])"
      ]
     },
     "execution_count": 24,
     "metadata": {},
     "output_type": "execute_result"
    }
   ],
   "source": [
    "# 데이터 타입을 변환 가능하다. (dtype = np.int64, astype)\n",
    "\n",
    "a5 = np.zeros(5)\n",
    "print(a5)\n",
    "\n",
    "a6 = np.ones(5, dtype = np.int64)\n",
    "print(a6)\n",
    "a6.astype(np.float64) \n"
   ]
  },
  {
   "cell_type": "code",
   "execution_count": 26,
   "id": "b30d4a14",
   "metadata": {},
   "outputs": [
    {
     "name": "stdout",
     "output_type": "stream",
     "text": [
      "[1.  2.  3.5 4.2]\n",
      "['1' '2' 'abc' 'def']\n"
     ]
    }
   ],
   "source": [
    "lista = [1, 2, 3.5, 4.2]\n",
    "a7 = np.array(lista)\n",
    "print(a7)\n",
    "\n",
    "listb = [1, 2, 'abc', 'def']\n",
    "a8 = np.array(listb)\n",
    "print(a8)\n"
   ]
  },
  {
   "cell_type": "code",
   "execution_count": 31,
   "id": "71fa431e",
   "metadata": {},
   "outputs": [
    {
     "name": "stdout",
     "output_type": "stream",
     "text": [
      "float64\n",
      "1\n",
      "(4,)\n",
      "4\n",
      "8\n",
      "<memory at 0x0000023138B50AC0>\n"
     ]
    }
   ],
   "source": [
    "# ndim으로 데이터 배열의 차원도 알 수 있다.\n",
    "# shape은 튜플형태로 결과를 반환해 준다.\n",
    "print(a7.dtype)\n",
    "print(a7.ndim)\n",
    "print(a7.shape)\n",
    "print(a7.size)\n",
    "\n",
    "print(a7.itemsize)\n",
    "print(a7.data)"
   ]
  },
  {
   "cell_type": "code",
   "execution_count": 35,
   "id": "1f8bc6f4",
   "metadata": {},
   "outputs": [
    {
     "name": "stdout",
     "output_type": "stream",
     "text": [
      "[10 15 20 25 30 35 40 45 50 55 60 65 70 75 80 85 90 95]\n",
      "10\n",
      "[25 30 35 40 45 50 55 60 65 70 75 80 85 90 95]\n",
      "[15 25 35]\n"
     ]
    }
   ],
   "source": [
    "a10 = np.arange(10, 100, 5)\n",
    "print(a10)\n",
    "#특정인덱스\n",
    "print(a10[0])\n",
    "#스타트, 스탑\n",
    "print(a10[3:])\n",
    "#스타트, 스탑, 스텝\n",
    "print(a10[1:7:2])"
   ]
  },
  {
   "cell_type": "code",
   "execution_count": 37,
   "id": "5e0eaa1c",
   "metadata": {},
   "outputs": [
    {
     "name": "stdout",
     "output_type": "stream",
     "text": [
      "[10 15 20 25 30 35 40 45 50 55 60 65 70 75 80 85 90 95]\n",
      "[15 25 45]\n"
     ]
    }
   ],
   "source": [
    "# [[index]]로 원하는 index값을 가져올 수 있다. python list에서는 지원하지 않는 기능\n",
    "a10 = np.arange(10, 100, 5)\n",
    "print(a10)\n",
    "print(a10[[1,3,7]])"
   ]
  },
  {
   "cell_type": "code",
   "execution_count": 42,
   "id": "567f1a0c",
   "metadata": {},
   "outputs": [
    {
     "name": "stdout",
     "output_type": "stream",
     "text": [
      "[10 15 20 25 30 35 40 45 50 55 60 65 70 75 80 85 90 95]\n",
      "[15 25 35 45 55 65 75 85 95]\n",
      "[False  True False  True False  True False  True False  True False  True\n",
      " False  True False  True False  True]\n",
      "(18,)\n",
      "(18,)\n",
      "[15 25 35 45 55 65 75 85 95]\n"
     ]
    }
   ],
   "source": [
    "a10 = np.arange(10, 100, 5)\n",
    "print(a10)\n",
    "print(a10[a10%10 == 5])\n",
    "\n",
    "x = (a10%10 == 5)\n",
    "print(x)\n",
    "print(x.shape)\n",
    "print(a10.shape)\n",
    "print(a10[x])"
   ]
  },
  {
   "cell_type": "code",
   "execution_count": 51,
   "id": "ceda976f",
   "metadata": {},
   "outputs": [
    {
     "name": "stdout",
     "output_type": "stream",
     "text": [
      "[ 0  1  2 10 11 12 13 14]\n"
     ]
    }
   ],
   "source": [
    "lista = [x for x in range(3)]\n",
    "listb = [x for x in range(10, 15)]\n",
    "lista + listb"
   ]
  },
  {
   "cell_type": "code",
   "execution_count": 55,
   "id": "12c15712",
   "metadata": {},
   "outputs": [
    {
     "name": "stdout",
     "output_type": "stream",
     "text": [
      "add : [10 12 14 16 18]\n",
      "[ 0  1  2  3  4 10 11 12 13 14]\n",
      "sub : [-10 -10 -10 -10 -10]\n",
      "mul : [ 0 11 24 39 56]\n",
      "div : [0.         0.09090909 0.16666667 0.23076923 0.28571429]\n"
     ]
    }
   ],
   "source": [
    "a1 = np.arange(5)\n",
    "a2 = np.arange(10, 15)\n",
    "print('add :', a1 + a2)\n",
    "print(   np.concatenate((a1,a2)))\n",
    "print('sub :', a1 - a2)\n",
    "print('mul :', a1*a2)\n",
    "print('div :', a1/a2)"
   ]
  }
 ],
 "metadata": {
  "kernelspec": {
   "display_name": "Python 3 (ipykernel)",
   "language": "python",
   "name": "python3"
  },
  "language_info": {
   "codemirror_mode": {
    "name": "ipython",
    "version": 3
   },
   "file_extension": ".py",
   "mimetype": "text/x-python",
   "name": "python",
   "nbconvert_exporter": "python",
   "pygments_lexer": "ipython3",
   "version": "3.10.9"
  }
 },
 "nbformat": 4,
 "nbformat_minor": 5
}
