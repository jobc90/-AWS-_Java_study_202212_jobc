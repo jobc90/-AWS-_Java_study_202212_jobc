{
 "cells": [
  {
   "cell_type": "code",
   "execution_count": null,
   "id": "1035fa35",
   "metadata": {},
   "outputs": [],
   "source": [
    "import math\n",
    "\n",
    "#평균\n",
    "def mean(num_list):\n",
    "    #return sum(num_list)/len(num_list)\n",
    "    for i in num_list:\n",
    "        avr = sum(num_list)/len(num_list)\n",
    "    return avr\n",
    "\n",
    "#중간값\n",
    "def median(num_list):\n",
    "    n = len(num_list)\n",
    "    if n % 2 == 0:\n",
    "        return (num_list[n//2 - 1] + num_list[n//2]) / 2\n",
    "    else:\n",
    "        return num_list[n//2] \n",
    "#편차   \n",
    "def dev(num_list):\n",
    "    m = mean(num_list)\n",
    "    return [x-m for x in num_list]\n",
    "\n",
    "#분산\n",
    "def var(num_list):\n",
    "    n = len(num_list)\n",
    "    d = dev(num_list)\n",
    "    return sum([x*x for x in d])/(n-1)\n",
    "\n",
    "#표준편차\n",
    "def stdev(num_list):\n",
    "    return math.sqrt(var(num_list))\n",
    "\n",
    "#공분산\n",
    "def covar(list_1, list_2):\n",
    "    n = len(list_1)\n",
    "    list_1_dev = dev(list_1)\n",
    "    list_2_dev = dev(list_2)\n",
    "    return sum(x * y for x, y in zip(list_1_dev, list_2_dev))/(n-1)\n",
    "\n",
    "#상관도\n",
    "def corel(list_1, list_2):\n",
    "    return covar(list_1, list_2)/(stdev(list_1)*stdev(list_2))"
   ]
  }
 ],
 "metadata": {
  "kernelspec": {
   "display_name": "Python 3 (ipykernel)",
   "language": "python",
   "name": "python3"
  },
  "language_info": {
   "codemirror_mode": {
    "name": "ipython",
    "version": 3
   },
   "file_extension": ".py",
   "mimetype": "text/x-python",
   "name": "python",
   "nbconvert_exporter": "python",
   "pygments_lexer": "ipython3",
   "version": "3.10.9"
  }
 },
 "nbformat": 4,
 "nbformat_minor": 5
}
