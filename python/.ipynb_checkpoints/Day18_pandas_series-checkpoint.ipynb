{
 "cells": [
  {
   "cell_type": "code",
   "execution_count": 2,
   "id": "0a279c5b",
   "metadata": {},
   "outputs": [],
   "source": [
    "import numpy as np\n",
    "import pandas as pd\n",
    "import requests"
   ]
  },
  {
   "cell_type": "code",
   "execution_count": 3,
   "id": "767c82fe",
   "metadata": {},
   "outputs": [
    {
     "name": "stdout",
     "output_type": "stream",
     "text": [
      "       0    1    2    3               4\n",
      "0    5.1  3.5  1.4  0.2     Iris-setosa\n",
      "1    4.9  3.0  1.4  0.2     Iris-setosa\n",
      "2    4.7  3.2  1.3  0.2     Iris-setosa\n",
      "3    4.6  3.1  1.5  0.2     Iris-setosa\n",
      "4    5.0  3.6  1.4  0.2     Iris-setosa\n",
      "..   ...  ...  ...  ...             ...\n",
      "145  6.7  3.0  5.2  2.3  Iris-virginica\n",
      "146  6.3  2.5  5.0  1.9  Iris-virginica\n",
      "147  6.5  3.0  5.2  2.0  Iris-virginica\n",
      "148  6.2  3.4  5.4  2.3  Iris-virginica\n",
      "149  5.9  3.0  5.1  1.8  Iris-virginica\n",
      "\n",
      "[150 rows x 5 columns]\n"
     ]
    }
   ],
   "source": [
    "iris_df = pd.read_csv('iris.data', header = None)\n",
    "\n",
    "print(iris_df)"
   ]
  },
  {
   "cell_type": "code",
   "execution_count": 4,
   "id": "9d10b828",
   "metadata": {},
   "outputs": [
    {
     "name": "stdout",
     "output_type": "stream",
     "text": [
      "0    a\n",
      "1    b\n",
      "2    c\n",
      "3    d\n",
      "4    e\n",
      "dtype: object\n",
      "<class 'pandas.core.frame.DataFrame'> <class 'pandas.core.series.Series'>\n"
     ]
    }
   ],
   "source": [
    "s1 = pd.Series(list('abcde'))\n",
    "print(s1)\n",
    "print(type(iris_df), type(s1))"
   ]
  },
  {
   "cell_type": "code",
   "execution_count": 5,
   "id": "0db5a52a",
   "metadata": {
    "scrolled": true
   },
   "outputs": [
    {
     "name": "stdout",
     "output_type": "stream",
     "text": [
      "6    16\n",
      "7    17\n",
      "8    18\n",
      "9    19\n",
      "dtype: int64\n"
     ]
    }
   ],
   "source": [
    "s2 = pd.Series([1,1.0,'a'])\n",
    "s3 = pd.Series([x for x in range(10,20)])\n",
    "\n",
    "print(s3[s3>15])"
   ]
  },
  {
   "cell_type": "code",
   "execution_count": 6,
   "id": "55b9f67d",
   "metadata": {},
   "outputs": [
    {
     "name": "stdout",
     "output_type": "stream",
     "text": [
      "1\n",
      "int64\n",
      "(10,)\n",
      "int64\n"
     ]
    }
   ],
   "source": [
    "print(s3.ndim)\n",
    "print(s3.dtype)\n",
    "print(s3.shape)\n",
    "s3_f = s3.astype(float)\n",
    "print(s3.dtype)"
   ]
  },
  {
   "cell_type": "code",
   "execution_count": 7,
   "id": "7eebccf9",
   "metadata": {},
   "outputs": [
    {
     "name": "stdout",
     "output_type": "stream",
     "text": [
      "[10 11 12 13 14 15 16 17 18 19] <class 'numpy.ndarray'>\n"
     ]
    }
   ],
   "source": [
    "s3_np = s3.to_numpy()\n",
    "print(s3_np, type(s3_np))"
   ]
  },
  {
   "cell_type": "code",
   "execution_count": 8,
   "id": "f307798f",
   "metadata": {},
   "outputs": [
    {
     "name": "stdout",
     "output_type": "stream",
     "text": [
      "0    30\n",
      "1    33\n",
      "2    36\n",
      "3    39\n",
      "4    42\n",
      "5    45\n",
      "6    48\n",
      "7    51\n",
      "8    54\n",
      "9    57\n",
      "dtype: int64\n"
     ]
    }
   ],
   "source": [
    "print(s3*3)"
   ]
  },
  {
   "cell_type": "code",
   "execution_count": 9,
   "id": "f5806062",
   "metadata": {},
   "outputs": [
    {
     "name": "stdout",
     "output_type": "stream",
     "text": [
      "      a    b  c\n",
      "0  10.0  100  a\n",
      "1  11.0  101  b\n",
      "2  12.0  102  c\n",
      "3  13.0  103  d\n",
      "4  14.0  104  e\n"
     ]
    }
   ],
   "source": [
    "### data frame\n",
    "\n",
    "s1 = pd.Series([x for x in range(10,20)])\n",
    "s2 = pd.Series([x for x in range(100,120)])\n",
    "s3 = pd.Series(list('abcdefghijk'))\n",
    "df1 = pd.DataFrame({'a': s1, 'b': s2, 'c': s3})\n",
    "#print(df1)\n",
    "#print(df1[['a', 'b', 'c']])\n",
    "#print(df1[2:]['a'])\n",
    "print(df1[:5])"
   ]
  },
  {
   "cell_type": "code",
   "execution_count": 10,
   "id": "a46d8c5b",
   "metadata": {},
   "outputs": [
    {
     "name": "stdout",
     "output_type": "stream",
     "text": [
      "      a    b  c\n",
      "0  10.0  100  a\n",
      "1  11.0  101  b\n",
      "2  12.0  102  c\n",
      "3  13.0  103  d\n",
      "4  14.0  104  e\n",
      "     a    b    c\n",
      "10 NaN  110    k\n",
      "11 NaN  111  NaN\n",
      "12 NaN  112  NaN\n",
      "13 NaN  113  NaN\n",
      "14 NaN  114  NaN\n",
      "15 NaN  115  NaN\n",
      "16 NaN  116  NaN\n",
      "17 NaN  117  NaN\n",
      "18 NaN  118  NaN\n",
      "19 NaN  119  NaN\n"
     ]
    }
   ],
   "source": [
    "print(df1.head())\n",
    "print(df1.tail(10))"
   ]
  },
  {
   "cell_type": "code",
   "execution_count": 11,
   "id": "aa8d9025",
   "metadata": {},
   "outputs": [
    {
     "name": "stdout",
     "output_type": "stream",
     "text": [
      "      a  c\n",
      "3  13.0  d\n",
      "4  14.0  e\n",
      "5  15.0  f\n",
      "6  16.0  g\n",
      "7  17.0  h\n",
      "8  18.0  i\n",
      "9  19.0  j\n"
     ]
    }
   ],
   "source": [
    "#print(df1)\n",
    "#print(df1[3:10][['a', 'c']])\n",
    "#print(df1.loc[3:10, ['a', 'c']])\n",
    "print(df1.iloc[3:10, [0, 2]])"
   ]
  },
  {
   "cell_type": "code",
   "execution_count": 12,
   "id": "6870e130",
   "metadata": {},
   "outputs": [
    {
     "name": "stdout",
     "output_type": "stream",
     "text": [
      "       0    1    2    3               4\n",
      "0    5.1  3.5  1.4  0.2     Iris-setosa\n",
      "1    4.9  3.0  1.4  0.2     Iris-setosa\n",
      "2    4.7  3.2  1.3  0.2     Iris-setosa\n",
      "3    4.6  3.1  1.5  0.2     Iris-setosa\n",
      "4    5.0  3.6  1.4  0.2     Iris-setosa\n",
      "..   ...  ...  ...  ...             ...\n",
      "145  6.7  3.0  5.2  2.3  Iris-virginica\n",
      "146  6.3  2.5  5.0  1.9  Iris-virginica\n",
      "147  6.5  3.0  5.2  2.0  Iris-virginica\n",
      "148  6.2  3.4  5.4  2.3  Iris-virginica\n",
      "149  5.9  3.0  5.1  1.8  Iris-virginica\n",
      "\n",
      "[150 rows x 5 columns]\n"
     ]
    }
   ],
   "source": [
    "import numpy as np\n",
    "import pandas as pd\n",
    "\n",
    "url = 'https://archive.ics.uci.edu/ml/machine-learning-databases/iris/iris.data'\n",
    "irisdf = pd.read_csv(url, header=None)\n",
    "print(iris_df)"
   ]
  },
  {
   "cell_type": "code",
   "execution_count": 13,
   "id": "8bc1268a",
   "metadata": {},
   "outputs": [
    {
     "name": "stdout",
     "output_type": "stream",
     "text": [
      "RangeIndex(start=0, stop=150, step=1)\n",
      "Int64Index([0, 1, 2, 3, 4], dtype='int64')\n",
      "     a    b    c    d            e\n",
      "0  5.1  3.5  1.4  0.2  Iris-setosa\n",
      "1  4.9  3.0  1.4  0.2  Iris-setosa\n",
      "2  4.7  3.2  1.3  0.2  Iris-setosa\n",
      "3  4.6  3.1  1.5  0.2  Iris-setosa\n",
      "4  5.0  3.6  1.4  0.2  Iris-setosa\n"
     ]
    }
   ],
   "source": [
    "print(iris_df.index)\n",
    "print(iris_df.columns)\n",
    "iris_df.columns = list('abcde')\n",
    "print(iris_df.head())"
   ]
  },
  {
   "cell_type": "code",
   "execution_count": 14,
   "id": "6671da83",
   "metadata": {},
   "outputs": [],
   "source": [
    "#새로운 column 생성\n",
    "#iris_df['x'] = iris_df['a']/iris_df['b']\n",
    "iris_df.insert(2, 'x2', iris_df['a']/iris_df['b'])"
   ]
  },
  {
   "cell_type": "code",
   "execution_count": 15,
   "id": "f3a38829",
   "metadata": {},
   "outputs": [
    {
     "name": "stdout",
     "output_type": "stream",
     "text": [
      "       a    b        x2    c    d               e\n",
      "0    5.1  3.5  1.457143  1.4  0.2     Iris-setosa\n",
      "1    4.9  3.0  1.633333  1.4  0.2     Iris-setosa\n",
      "2    4.7  3.2  1.468750  1.3  0.2     Iris-setosa\n",
      "3    4.6  3.1  1.483871  1.5  0.2     Iris-setosa\n",
      "4    5.0  3.6  1.388889  1.4  0.2     Iris-setosa\n",
      "..   ...  ...       ...  ...  ...             ...\n",
      "145  6.7  3.0  2.233333  5.2  2.3  Iris-virginica\n",
      "146  6.3  2.5  2.520000  5.0  1.9  Iris-virginica\n",
      "147  6.5  3.0  2.166667  5.2  2.0  Iris-virginica\n",
      "148  6.2  3.4  1.823529  5.4  2.3  Iris-virginica\n",
      "149  5.9  3.0  1.966667  5.1  1.8  Iris-virginica\n",
      "\n",
      "[150 rows x 6 columns]\n",
      "     a    b        x2    c    d\n",
      "0  5.1  3.5  1.457143  1.4  0.2\n",
      "1  4.9  3.0  1.633333  1.4  0.2\n",
      "2  4.7  3.2  1.468750  1.3  0.2\n",
      "3  4.6  3.1  1.483871  1.5  0.2\n",
      "4  5.0  3.6  1.388889  1.4  0.2\n"
     ]
    }
   ],
   "source": [
    "#column 삭제\n",
    "\n",
    "print(iris_df)\n",
    "iris_df_d = iris_df.drop('e', axis=1)\n",
    "print(iris_df_d.head())"
   ]
  },
  {
   "cell_type": "code",
   "execution_count": 16,
   "id": "5701b370",
   "metadata": {},
   "outputs": [
    {
     "name": "stdout",
     "output_type": "stream",
     "text": [
      "   a    b\n",
      "0  a  NaN\n",
      "1  b    F\n",
      "2  c    Y\n",
      "3  d    X\n",
      "4  e    Z\n"
     ]
    }
   ],
   "source": [
    "s1 = pd.Series(list('abcde'), index=[x for x in range(5)])\n",
    "s2 = pd.Series(list('XYZF'), index=[3,2,4,1])\n",
    "df1 = pd.DataFrame({'a': s1, 'b': s2})\n",
    "print(df1)"
   ]
  },
  {
   "cell_type": "code",
   "execution_count": 17,
   "id": "57fbf28e",
   "metadata": {},
   "outputs": [
    {
     "name": "stdout",
     "output_type": "stream",
     "text": [
      "       a      b\n",
      "0  False   True\n",
      "1  False  False\n",
      "2  False  False\n",
      "3  False  False\n",
      "4  False  False\n"
     ]
    }
   ],
   "source": [
    "print(df1.isna())"
   ]
  }
 ],
 "metadata": {
  "kernelspec": {
   "display_name": "Python 3 (ipykernel)",
   "language": "python",
   "name": "python3"
  },
  "language_info": {
   "codemirror_mode": {
    "name": "ipython",
    "version": 3
   },
   "file_extension": ".py",
   "mimetype": "text/x-python",
   "name": "python",
   "nbconvert_exporter": "python",
   "pygments_lexer": "ipython3",
   "version": "3.10.9"
  }
 },
 "nbformat": 4,
 "nbformat_minor": 5
}
