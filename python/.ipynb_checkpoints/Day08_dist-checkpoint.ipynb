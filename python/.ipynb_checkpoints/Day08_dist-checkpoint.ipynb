{
 "cells": [
  {
   "cell_type": "code",
   "execution_count": 5,
   "id": "df551f33",
   "metadata": {},
   "outputs": [
    {
     "name": "stdout",
     "output_type": "stream",
     "text": [
      "15.132745950421556\n",
      "x : 2 4\n",
      "y : 15 225\n",
      "15.132745950421556\n",
      "15.132745950421556\n"
     ]
    }
   ],
   "source": [
    "import math\n",
    "import numpy as np\n",
    "\n",
    "x1 =3\n",
    "y1 = 10\n",
    "\n",
    "x2 = 5\n",
    "y2 = 25\n",
    "\n",
    "a = math.sqrt((x2-x1)**2 + (y2-y1)**2)\n",
    "print(a) #15.132745950421556\n",
    "\n",
    "# python list version\n",
    "def dist(p1, p2):\n",
    "    print('x :', (p2[0] - p1[0]), (p2[0] - p1[0])**2)\n",
    "    print('y :', (p2[1] - p1[1]), (p2[1] - p1[1])**2)\n",
    "    return math.sqrt((p2[0] - p1[0])**2 + (p2[1] - p1[1])**2)\n",
    "\n",
    "def dist_np(p1, p2):\n",
    "    i = p2 - p1\n",
    "    i = sum(i*i)\n",
    "    return math.sqrt(i)\n",
    "\n",
    "def dist_np2(p1, p2):\n",
    "    return math.sqrt(sum((p2 - p1)**2))\n",
    "        \n",
    "\n",
    "b = dist([x1, y1], [x2, y2])\n",
    "print(b)\n",
    "\n",
    "c = dist_np(np.array([x1, y1]), np.array([x2, y2]))\n",
    "print(c)"
   ]
  },
  {
   "cell_type": "code",
   "execution_count": 2,
   "id": "b2cba074",
   "metadata": {},
   "outputs": [
    {
     "name": "stdout",
     "output_type": "stream",
     "text": [
      "['자동차정비업체명', '자동차정비업체종류', '소재지도로명주소', '소재지지번주소', '위도', '경도', '사업등록일자', '면적', '영업상태', '폐업일자', '휴업시작일자', '휴업종료일자', '운영시작시각', '운영종료시각', '전화번호', '관리기관명', '관리기관전화번호', '데이터기준일자', '제공기관코드', '제공기관명']\n",
      "['서면카센타', '3', '경상북도 울진군 금강송면 불영계곡로 1684', '', '36.93385095', '129.2462157', '2006-11-27', '650', '1', '', '', '', '09:00', '18:00', '054-781-0744', '경상북도 울진군', '054-789-6636', '2021-10-22', '1613000', '국토교통부']\n",
      "36.93385095\n",
      "129.2462157\n"
     ]
    }
   ],
   "source": [
    "csv_data = []\n",
    "\n",
    "with open('전국자동차정비업체표준데이터.csv') as f:\n",
    "    for line in f:\n",
    "#        line_num = line_num + 1\n",
    "#        if line_num == 2:\n",
    "#            continue\n",
    "        t = line[:-1].split(',')\n",
    "#        del t[1]\n",
    "        csv_data.append(t)       \n",
    "#print(csv_data[:3])\n",
    "print(csv_data[0])\n",
    "\n",
    "print(csv_data[1])\n",
    "\n",
    "\n",
    "\n",
    "csv_data = csv_data[1:]\n",
    "print(csv_data[0][4])\n",
    "print(csv_data[0][5])"
   ]
  },
  {
   "cell_type": "code",
   "execution_count": 3,
   "id": "2ecc7e3d",
   "metadata": {},
   "outputs": [
    {
     "name": "stdout",
     "output_type": "stream",
     "text": [
      "[36.93385095, 36.9337494, 36.93372085]\n",
      "[129.2462157, 127.4605018, 127.8917746]\n"
     ]
    },
    {
     "ename": "NameError",
     "evalue": "name 'dist_np2' is not defined",
     "output_type": "error",
     "traceback": [
      "\u001b[1;31m---------------------------------------------------------------------------\u001b[0m",
      "\u001b[1;31mNameError\u001b[0m                                 Traceback (most recent call last)",
      "Cell \u001b[1;32mIn[3], line 26\u001b[0m\n\u001b[0;32m     23\u001b[0m \u001b[38;5;28mprint\u001b[39m(x_list[:\u001b[38;5;241m3\u001b[39m])\n\u001b[0;32m     24\u001b[0m \u001b[38;5;28mprint\u001b[39m(y_list[:\u001b[38;5;241m3\u001b[39m])\n\u001b[1;32m---> 26\u001b[0m d \u001b[38;5;241m=\u001b[39m \u001b[43mdist_np2\u001b[49m(np\u001b[38;5;241m.\u001b[39marray([x_list[\u001b[38;5;241m0\u001b[39m], y_list[\u001b[38;5;241m0\u001b[39m]]), np\u001b[38;5;241m.\u001b[39marray([x_list[\u001b[38;5;241m1\u001b[39m], y_list[\u001b[38;5;241m1\u001b[39m]]))\n\u001b[0;32m     27\u001b[0m \u001b[38;5;28mprint\u001b[39m(d)\n\u001b[0;32m     29\u001b[0m d_list \u001b[38;5;241m=\u001b[39m []\n",
      "\u001b[1;31mNameError\u001b[0m: name 'dist_np2' is not defined"
     ]
    }
   ],
   "source": [
    "x_list = []\n",
    "y_list = []\n",
    "for e in csv_data:\n",
    "    \n",
    "    try:\n",
    "        x_list.append(e[4])\n",
    "        y_list.append(e[5])\n",
    "    except:\n",
    "        pass\n",
    "    \n",
    "for i, n in enumerate(x_list):\n",
    "    try:\n",
    "        x_list[i] = float(n)\n",
    "    except:\n",
    "        x_list[i] = 0\n",
    "        \n",
    "for i, n in enumerate(y_list):\n",
    "    try:\n",
    "        y_list[i] = float(n)\n",
    "    except:\n",
    "        y_list[i] = 0\n",
    "        \n",
    "print(x_list[:3])\n",
    "print(y_list[:3])\n",
    "\n",
    "d = dist_np2(np.array([x_list[0], y_list[0]]), np.array([x_list[1], y_list[1]]))\n",
    "print(d)\n",
    "\n",
    "d_list = []\n",
    "for i in x_list:\n",
    "    for e in y_list:\n",
    "        d_list.append(dist_np2(np.array([i, e]), np.array([i+1, e+1])))\n",
    "print(d_list[:3])\n"
   ]
  },
  {
   "cell_type": "code",
   "execution_count": 27,
   "id": "b5359a51",
   "metadata": {},
   "outputs": [
    {
     "name": "stdout",
     "output_type": "stream",
     "text": [
      "rank close : 1 현대동구서비스(주) 0.00422751591405875\n",
      "rank close : 2 월드자동차공업사 0.004664402222051449\n",
      "rank close : 3 동진카센터 0.005492081395315601\n",
      "rank close : 4 (주)현대종합정비 0.005953129867528799\n",
      "rank close : 5 신원자동차공업사 0.006143105629974679\n",
      "\n",
      "rank far : 1 현대자동차공업사 294.940526194299\n",
      "rank far : 2 세기모터스 292.90589374707025\n",
      "rank far : 3 쌍용서비스프라자신천코너 157.82756283922654\n",
      "rank far : 4 주안점 기아오토큐 153.90478547390916\n",
      "rank far : 5 오토엠에스 남울산점 152.82439396827328\n"
     ]
    }
   ],
   "source": [
    "location_dict = dict(zip(x_list, y_list))\n",
    "locations = list(location_dict.items())\n",
    "#print(locations[1])\n",
    "# d = dist_np2(np.array(locations[1]), np.array(locations[2]))\n",
    "# print(d)\n",
    "#[35.123, 129.56]\n",
    "q = (35.1531, 129.0596)\n",
    "d = []\n",
    "name = []\n",
    "for i in locations:\n",
    "    d.append(dist_np2(np.array(i), np.array(q)))\n",
    "    \n",
    "for i in csv_data:\n",
    "    name.append(i[0])\n",
    "\n",
    "# for i in csv_data:\n",
    "#     index = name.index((float(i[4]), float(i[5])))\n",
    "#     print(csv_data[index][i])\n",
    "\n",
    "name_dict = dict(zip(d, name))\n",
    "# print(name_dict)\n",
    "\n",
    "far_name = []\n",
    "\n",
    "\n",
    "d.sort() \n",
    "#print(len(d))\n",
    "\n",
    "close_name = d[0:5]\n",
    "#close = name_dict[close_name[0]]\n",
    "#print(close)\n",
    "close = []\n",
    "for i in close_name:\n",
    "    close.append(name_dict[i])\n",
    "for i in range(5):\n",
    "    print('rank close :', i +1,close[i], d[i])\n",
    "    \n",
    "print()\n",
    "\n",
    "d.sort(reverse = True)\n",
    "far_name = d[0:5]\n",
    "far = []\n",
    "for i in far_name:\n",
    "    far.append(name_dict[i])\n",
    "for i in range(5):\n",
    "    print('rank far :', i +1,far[i], d[i])\n",
    "\n",
    "\n"
   ]
  }
 ],
 "metadata": {
  "kernelspec": {
   "display_name": "Python 3 (ipykernel)",
   "language": "python",
   "name": "python3"
  },
  "language_info": {
   "codemirror_mode": {
    "name": "ipython",
    "version": 3
   },
   "file_extension": ".py",
   "mimetype": "text/x-python",
   "name": "python",
   "nbconvert_exporter": "python",
   "pygments_lexer": "ipython3",
   "version": "3.10.9"
  }
 },
 "nbformat": 4,
 "nbformat_minor": 5
}
