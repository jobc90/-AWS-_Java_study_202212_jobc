{
 "cells": [
  {
   "cell_type": "code",
   "execution_count": 28,
   "id": "8ab1e9f7",
   "metadata": {},
   "outputs": [
    {
     "name": "stdout",
     "output_type": "stream",
     "text": [
      "10.5\n",
      "datatype:str\n",
      "{'x': 10, 'y': 20, 'z': 30}\n",
      "10\n",
      "10\n",
      "{'x': 10, 'y': 50, 'z': 30}\n",
      "{'x': 10, 'y': 50, 'z': 30, 'newkey': 1234}\n",
      "dict_keys(['x', 'y', 'z', 'newkey'])\n",
      "dict_values([10, 50, 30, 1234])\n",
      "dict_items([('x', 10), ('y', 50), ('z', 30), ('newkey', 1234)])\n",
      "x 10\n",
      "y 50\n",
      "z 30\n",
      "newkey 1234\n"
     ]
    }
   ],
   "source": [
    "#int(), float(), bool(), str()\n",
    "\n",
    "#예외처리 try except\n",
    "try:\n",
    "    a = [20.5, '10.5']\n",
    "    for i in a:\n",
    "        int(i)\n",
    "\n",
    "except:\n",
    "    print(i)\n",
    "\n",
    "#isinstance로 데이터타입을 물어볼 수 있다.\n",
    "a = 'string'\n",
    "if isinstance(a, type([])):\n",
    "    print('datatype:list')\n",
    "elif isinstance(a, type('')):\n",
    "    print('datatype:str')\n",
    "    \n",
    "    \n",
    "#lsit, tuple, set, dictionary\n",
    "\n",
    "#dictionary : key - value\n",
    "dict1 = {'a':1, 'b':2, 'c':3}\n",
    "\n",
    "key_list = list('xyz')\n",
    "value_list = [10, 20, 30]\n",
    "\n",
    "x = zip(key_list, value_list) #[('x',10), ('y',20), ('z',30)]\n",
    "dict2 = dict(x)\n",
    "print(dict2)\n",
    "\n",
    "print(dict2['x']) #없는 키값을 주면 에러가 난다.\n",
    "print(dict2.get('x')) #없는 키값을 줘도 none값이 출력된다.\n",
    "\n",
    "dict2['y'] = 50 # key에 해당되는 value를 바꿀 수 있다.\n",
    "print(dict2)\n",
    "\n",
    "dict2['newkey'] = 1234\n",
    "print(dict2)\n",
    "\n",
    "klist = dict2.keys()\n",
    "vlist = dict2.values()\n",
    "\n",
    "print(klist)\n",
    "print(vlist)\n",
    "print(dict2.items())\n",
    "\n",
    "for e in dict2:\n",
    "    print(e, dict2[e])"
   ]
  },
  {
   "cell_type": "code",
   "execution_count": 9,
   "id": "6d7c5ce8",
   "metadata": {},
   "outputs": [
    {
     "name": "stdout",
     "output_type": "stream",
     "text": [
      "False\n"
     ]
    }
   ],
   "source": [
    "#조건문\n",
    "#if: - else:\n",
    "#if: - elif: - else:\n",
    "\n",
    "if '':\n",
    "    print('True')\n",
    "else:\n",
    "    print('False') # 0, 비어있는 문자열 / list"
   ]
  },
  {
   "cell_type": "code",
   "execution_count": 10,
   "id": "430264cb",
   "metadata": {},
   "outputs": [
    {
     "name": "stdout",
     "output_type": "stream",
     "text": [
      "0 a\n",
      "1 b\n",
      "2 c\n",
      "3 d\n",
      "4 e\n",
      "['a']\n"
     ]
    }
   ],
   "source": [
    "#반복문\n",
    "# for - range() / list; enumerate(나열되는 데이터) 나열되는 데이터에 인덱스를 부여해 tuple로 데이터를 반환해준다.\n",
    "# while - 조건\n",
    "\n",
    "lista = list('abcde')\n",
    "for i, c in enumerate(lista):\n",
    "    print(i, c)\n",
    "\n",
    "#while - 조건\n",
    "\n",
    "while len(lista) > 1:\n",
    "    lista.remove(lista[-1])\n",
    "print(lista)"
   ]
  },
  {
   "cell_type": "code",
   "execution_count": 17,
   "id": "b2323ef1",
   "metadata": {},
   "outputs": [
    {
     "name": "stdout",
     "output_type": "stream",
     "text": [
      "const\n",
      "=======\n",
      "<__main__.myclass2 object at 0x0000029705B2F610>\n",
      "=======\n",
      "dest\n"
     ]
    }
   ],
   "source": [
    "#함수, 클래스(여러개의 함수를 묶을 수 있다.)\n",
    "def myfunction1(n):\n",
    "    print('myfunction1', n)\n",
    "    return n*5\n",
    "    \n",
    "class myclass:\n",
    "    def mymethod1(self):\n",
    "        print('mymethod1')\n",
    "        \n",
    "#다른 클래스를 상속받을 수 있다        \n",
    "class myclass2(myclass):\n",
    "    def __init__(self):\n",
    "        print('const')\n",
    "        \n",
    "    def __del__(self):\n",
    "        print('dest')\n",
    "        \n",
    "    def __str__(self):\n",
    "        return 'myclass2'\n",
    "    \n",
    "x = myclass2()    # __init__ const\n",
    "print('=======')\n",
    "print(x)          # __str__\n",
    "print('=======')\n",
    "del x             # __del__ dest"
   ]
  },
  {
   "cell_type": "code",
   "execution_count": 18,
   "id": "4c256d79",
   "metadata": {},
   "outputs": [],
   "source": [
    "# file read\n",
    "with open('lott.csv') as f:\n",
    "    for line in f:\n",
    "        pass\n",
    "        #print\n",
    "# file write\n",
    "with open('test.txt', 'w') as f:         # 'w'; mode : 'w'rite / 'r'ead / 'b'inary\n",
    "    for i in range(3, 10):               # 'wb' : write binary   \n",
    "        f.write('test string {}\\n'.format(i))"
   ]
  },
  {
   "cell_type": "code",
   "execution_count": 19,
   "id": "e6a2429f",
   "metadata": {},
   "outputs": [
    {
     "name": "stdout",
     "output_type": "stream",
     "text": [
      "['a', 'b', 'c', 'd']\n"
     ]
    }
   ],
   "source": [
    "import pickle\n",
    "\n",
    "lista = list('abcd')\n",
    "\n",
    "# write\n",
    "with open('pickle_test.pickle', 'wb') as f:\n",
    "    pickle.dump(lista, f)\n",
    "    \n",
    "# read\n",
    "with open('pickle_test.pickle', 'rb') as f:\n",
    "    listb = pickle.load(f)\n",
    "print(listb)"
   ]
  }
 ],
 "metadata": {
  "kernelspec": {
   "display_name": "Python 3 (ipykernel)",
   "language": "python",
   "name": "python3"
  },
  "language_info": {
   "codemirror_mode": {
    "name": "ipython",
    "version": 3
   },
   "file_extension": ".py",
   "mimetype": "text/x-python",
   "name": "python",
   "nbconvert_exporter": "python",
   "pygments_lexer": "ipython3",
   "version": "3.10.9"
  }
 },
 "nbformat": 4,
 "nbformat_minor": 5
}
