{
 "cells": [
  {
   "cell_type": "code",
   "execution_count": 3,
   "id": "0e375dea",
   "metadata": {},
   "outputs": [
    {
     "name": "stdout",
     "output_type": "stream",
     "text": [
      "[[ 1  2  3]\n",
      " [10 20 30]]\n",
      "2\n",
      "(2, 3)\n",
      "6\n"
     ]
    }
   ],
   "source": [
    "import numpy as np\n",
    "\n",
    "a1 = np.array([[1, 2, 3], [10, 20, 30]])\n",
    "print(a1)\n",
    "print(a1.ndim)\n",
    "print(a1.shape)\n",
    "print(a1.size)"
   ]
  },
  {
   "cell_type": "code",
   "execution_count": 29,
   "id": "3942258d",
   "metadata": {},
   "outputs": [
    {
     "name": "stdout",
     "output_type": "stream",
     "text": [
      "[[ 0  1  2  3  4]\n",
      " [ 5  6  7  8  9]\n",
      " [10 11 12 13 14]\n",
      " [15 16 17 18 19]]\n",
      "\n",
      "\n",
      "[[ 1  2  3]\n",
      " [11 12 13]]\n"
     ]
    }
   ],
   "source": [
    "a2 =np.arange(20).reshape(4, 5)\n",
    "print(a2)\n",
    "print()\n",
    "#print(a2.shape)\n",
    "print()\n",
    "# print(a2[1])\n",
    "# print(a2[1, 2])\n",
    "# print(a2[:, 1])\n",
    "# print(a2[:, 1:4])\n",
    "# print(a2[:, 1:4:2])\n",
    "# print(a2[1, :])\n",
    "# print(a2[1:3, :])\n",
    "# print(a2[::2, :])\n",
    "print(a2[::2, 1:4])"
   ]
  },
  {
   "cell_type": "code",
   "execution_count": 34,
   "id": "f639eeb9",
   "metadata": {},
   "outputs": [
    {
     "name": "stdout",
     "output_type": "stream",
     "text": [
      "[[ 0  1  2  3  4]\n",
      " [ 5  6  7  8  9]\n",
      " [10 11 12 13 14]\n",
      " [15 16 17 18 19]]\n",
      "[30 34 38 42 46]\n",
      "[10 35 60 85]\n"
     ]
    }
   ],
   "source": [
    "print(a2)\n",
    "# print(a2.shape)  # axis\n",
    "# print(a2.sum())\n",
    "print(a2.sum(axis=0))\n",
    "print(a2.sum(axis=1))"
   ]
  },
  {
   "cell_type": "code",
   "execution_count": 35,
   "id": "8cc4ea96",
   "metadata": {},
   "outputs": [
    {
     "name": "stdout",
     "output_type": "stream",
     "text": [
      "[[ 0  1  2  3  4]\n",
      " [ 5  6  7  8  9]\n",
      " [10 11 12 13 14]\n",
      " [15 16 17 18 19]] (20,)\n",
      "[[ 0  5 10 15]\n",
      " [ 1  6 11 16]\n",
      " [ 2  7 12 17]\n",
      " [ 3  8 13 18]\n",
      " [ 4  9 14 19]] (5, 4)\n"
     ]
    }
   ],
   "source": [
    "print(a2, a3.shape)\n",
    "a3 = a2.T\n",
    "print(a3, a3.shape)"
   ]
  },
  {
   "cell_type": "code",
   "execution_count": 36,
   "id": "6174cf40",
   "metadata": {},
   "outputs": [
    {
     "name": "stdout",
     "output_type": "stream",
     "text": [
      "[[ 0  1  2  3  4]\n",
      " [ 5  6  7  8  9]\n",
      " [10 11 12 13 14]\n",
      " [15 16 17 18 19]] (4, 5)\n"
     ]
    },
    {
     "data": {
      "text/plain": [
       "array([[ 0,  5, 10, 15],\n",
       "       [ 1,  6, 11, 16],\n",
       "       [ 2,  7, 12, 17],\n",
       "       [ 3,  8, 13, 18],\n",
       "       [ 4,  9, 14, 19]])"
      ]
     },
     "execution_count": 36,
     "metadata": {},
     "output_type": "execute_result"
    }
   ],
   "source": [
    "print(a2, a2.shape)\n",
    "np.moveaxis(a2, [0], [1])"
   ]
  },
  {
   "cell_type": "code",
   "execution_count": 13,
   "id": "a38e670b",
   "metadata": {},
   "outputs": [
    {
     "name": "stdout",
     "output_type": "stream",
     "text": [
      "[  0   1   2 100   4   5   6   7   8   9  10  11  12  13  14  15  16  17\n",
      "  18  19]\n",
      "[[ 0  1  2  3  4]\n",
      " [ 5  6  7  8  9]\n",
      " [10 11 12 13 14]\n",
      " [15 16 17 18 19]]\n",
      "[  0   1   2 200   4   5   6   7   8   9  10  11  12  13  14  15  16  17\n",
      "  18  19]\n",
      "[[  0   1   2 200   4]\n",
      " [  5   6   7   8   9]\n",
      " [ 10  11  12  13  14]\n",
      " [ 15  16  17  18  19]]\n"
     ]
    }
   ],
   "source": [
    "a3 = a2.flatten() #표면으로 보이는 자신만 바꾼다.\n",
    "\n",
    "a3[3] = 100\n",
    "print(a3)\n",
    "print(a2)\n",
    "\n",
    "a4 = a2.ravel() #참조값까지 바꾼다.\n",
    "\n",
    "a4[3] = 200\n",
    "print(a4)\n",
    "print(a2)\n"
   ]
  },
  {
   "cell_type": "code",
   "execution_count": 53,
   "id": "b31369ec",
   "metadata": {},
   "outputs": [
    {
     "name": "stdout",
     "output_type": "stream",
     "text": [
      "[[ 7  8]\n",
      " [12 13]\n",
      " [17 18]]\n",
      "[36 39]\n",
      "\n",
      "[12. 13.]\n"
     ]
    }
   ],
   "source": [
    "a10 = np.arange(5,20)\n",
    "#print(a10, a10.shape)\n",
    "\n",
    "# shape (3,5) 의 차원 ndarray로 만들기\n",
    "a10 = np.arange(5,20).reshape(3,5)\n",
    "# print(a10, a10.shape)\n",
    "\n",
    "# print(a10[:, 2:4])\n",
    "\n",
    "a11 = a10[:, 2:4]\n",
    "print(a11)\n",
    "print(a11.sum(axis=0))\n",
    "print()\n",
    "print(np.mean(a11, axis=0))"
   ]
  },
  {
   "cell_type": "code",
   "execution_count": 59,
   "id": "17bc0c0b",
   "metadata": {},
   "outputs": [
    {
     "name": "stdout",
     "output_type": "stream",
     "text": [
      "[[  0   1   2   3   4 100 101 102 103 104]\n",
      " [  5   6   7   8   9 105 106 107 108 109]]\n",
      "[[  0   1   2   3   4 100 101 102 103 104]\n",
      " [  5   6   7   8   9 105 106 107 108 109]]\n",
      "[[  0   1   2   3   4]\n",
      " [  5   6   7   8   9]\n",
      " [100 101 102 103 104]\n",
      " [105 106 107 108 109]]\n"
     ]
    }
   ],
   "source": [
    "a1 = np.arange(0, 10).reshape(2,5)\n",
    "a2 = np.arange(100, 110).reshape(2,5)\n",
    "#print(a1)\n",
    "#print(a2)\n",
    "a3 = np.concatenate((a1, a2), axis=1) # concatenate : array를 합치는것\n",
    "print(a3)\n",
    "a4 = np.hstack((a1,a2)) # hstack : array를 수평으로 합치는것\n",
    "print(a4)\n",
    "a5 = np.vstack((a1,a2)) # vstack : array를 수직으로 합치는것\n",
    "print(a5)"
   ]
  },
  {
   "cell_type": "code",
   "execution_count": 70,
   "id": "15320831",
   "metadata": {},
   "outputs": [
    {
     "name": "stdout",
     "output_type": "stream",
     "text": [
      "[[  0   1   2   3   4 100 101 102 103 104]\n",
      " [  5   6   7   8   9 105 106 107 108 109]]\n",
      "[array([[0, 1],\n",
      "       [5, 6]]), array([[2, 3],\n",
      "       [7, 8]]), array([[  4, 100],\n",
      "       [  9, 105]]), array([[101, 102],\n",
      "       [106, 107]]), array([[103, 104],\n",
      "       [108, 109]])]\n",
      "[[  0   5]\n",
      " [  1   6]\n",
      " [  2   7]\n",
      " [  3   8]\n",
      " [  4   9]\n",
      " [100 105]\n",
      " [101 106]\n",
      " [102 107]\n",
      " [103 108]\n",
      " [104 109]]\n"
     ]
    }
   ],
   "source": [
    "print(a4)\n",
    "a6 = np.hsplit(a4, 5)\n",
    "print(a6)\n",
    "\n",
    "a7 = a4.T\n",
    "np.vsplit(a7, 5)\n",
    "print(a7)"
   ]
  },
  {
   "cell_type": "code",
   "execution_count": 78,
   "id": "6d3fb78a",
   "metadata": {},
   "outputs": [
    {
     "name": "stdout",
     "output_type": "stream",
     "text": [
      "[[ 0  1  2  3  4]\n",
      " [ 5  6  7  8  9]\n",
      " [10 11 12 13 14]\n",
      " [15 16 17 18 19]]\n",
      "[False  True False  True]\n"
     ]
    }
   ],
   "source": [
    "a2 = np.arange(20).reshape(4,5)\n",
    "print(a2)\n",
    "filter1 = (a2[:, 0]%10==5)\n",
    "print(a2[filter1])"
   ]
  }
 ],
 "metadata": {
  "kernelspec": {
   "display_name": "Python 3 (ipykernel)",
   "language": "python",
   "name": "python3"
  },
  "language_info": {
   "codemirror_mode": {
    "name": "ipython",
    "version": 3
   },
   "file_extension": ".py",
   "mimetype": "text/x-python",
   "name": "python",
   "nbconvert_exporter": "python",
   "pygments_lexer": "ipython3",
   "version": "3.10.9"
  }
 },
 "nbformat": 4,
 "nbformat_minor": 5
}
