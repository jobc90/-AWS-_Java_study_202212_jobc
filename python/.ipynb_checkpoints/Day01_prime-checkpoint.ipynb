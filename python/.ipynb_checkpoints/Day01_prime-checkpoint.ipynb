{
 "cells": [
  {
   "cell_type": "code",
   "execution_count": 29,
   "id": "3d394f28",
   "metadata": {},
   "outputs": [
    {
     "name": "stdout",
     "output_type": "stream",
     "text": [
      "소수입니다.\n"
     ]
    }
   ],
   "source": [
    "# 소수찾기\n",
    "n=23\n",
    "flag = 0\n",
    "for i in range(2, n):\n",
    "    if n%i == 0:\n",
    "        print('소수가 아닙니다.')\n",
    "        flag = 1\n",
    "        break\n",
    "if flag == 0:\n",
    "    print('소수입니다.')"
   ]
  },
  {
   "cell_type": "code",
   "execution_count": null,
   "id": "207a2c2d",
   "metadata": {},
   "outputs": [],
   "source": [
    "# 1000 아래 모든 소수를 list_prime에 넣기."
   ]
  }
 ],
 "metadata": {
  "kernelspec": {
   "display_name": "Python 3 (ipykernel)",
   "language": "python",
   "name": "python3"
  },
  "language_info": {
   "codemirror_mode": {
    "name": "ipython",
    "version": 3
   },
   "file_extension": ".py",
   "mimetype": "text/x-python",
   "name": "python",
   "nbconvert_exporter": "python",
   "pygments_lexer": "ipython3",
   "version": "3.10.9"
  }
 },
 "nbformat": 4,
 "nbformat_minor": 5
}
