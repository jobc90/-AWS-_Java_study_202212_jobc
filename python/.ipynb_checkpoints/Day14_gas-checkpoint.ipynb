{
 "cells": [
  {
   "cell_type": "markdown",
   "id": "a443edd4",
   "metadata": {},
   "source": [
    "### kosis 부산광역시 가스공급량 2010-2020\n",
    "- 년도별 도시가스/프로판 판매량 비율\n",
    "  프로판 가스보다 도시가스 사용량이 점점 늘어나는가\n",
    "\n",
    "- 년도별 도시가스, 년도별 프로판 사용량 상관도\n",
    "  도시가스 사용량이 점점 많아지고 있는가\n",
    "  프로판 가스 사용량은 점점 줄어들고 있는가\n",
    "\n",
    "- 도시가스\n",
    "\t년도별 겨울(10, 11, 12, 1, 2, 3) 평균사용량/\n",
    "\t비겨울(4, 5, 6, 7, 8, 9) 평균사용량\n",
    "\t--> test (평균 사용량에 차이가 있는가.) \n",
    "\n",
    "### 같은 분석을, 프로판/부탄 가스를 대상으로 실행."
   ]
  },
  {
   "cell_type": "code",
   "execution_count": 45,
   "id": "5c30c540",
   "metadata": {},
   "outputs": [],
   "source": [
    "import numpy as np\n",
    "import math\n",
    "import pickle\n",
    "import matplotlib.pyplot as plt\n",
    "scipy import stats\n",
    "\n",
    "def my_split(s):\n",
    "    block_start = False\n",
    "    start_index = 0\n",
    "    ret_list=[]\n",
    "    for i, c in enumerate(s):\n",
    "        if block_start==False:\n",
    "            if c==',':\n",
    "                ret_list.append(s[start_index:i])\n",
    "                start_index=i+1\n",
    "            elif c=='\"':\n",
    "                block_start=True\n",
    "                start_index = i\n",
    "        else:\n",
    "            if c=='\"':\n",
    "                block_start=False\n",
    "    if s[-1]!=',':\n",
    "        ret_list.append(s[start_index:])\n",
    "    return ret_list\n",
    "\n",
    "def split_len(data_list):\n",
    "    len_list=[]\n",
    "    for e in data_list:\n",
    "        len_list.append(len(e))\n",
    "    #print(set(len_list))\n",
    "    if len(set(len_list))>1:\n",
    "        for i in set(len_list):\n",
    "            print(i, len_list.count(i))\n",
    "    return set(len_list)\n",
    "\n",
    "def dist_np(p1, p2): #  [3,10]  [5,25]\n",
    "    return math.sqrt(sum((p2-p1)**2))\n",
    "\n",
    "def process_product_names(s):\n",
    "    r = []\n",
    "    remove_after = ['(', ' 외', ' 외']\n",
    "    split_at = ['+', ',']\n",
    "    for c in remove_after:\n",
    "        if c in s:\n",
    "            s = s[:s.index(c)]\n",
    "        \n",
    "    for c in split_at:\n",
    "        if c in s:\n",
    "            r = r + s.split(c)\n",
    "            \n",
    "    if len(r) == 0:\n",
    "        r.append(s)\n",
    "    \n",
    "    return r\n",
    "\n",
    "# sample1 = 'productA+productB'\n",
    "# sample2 = 'productA,productB'\n",
    "# sample3 = 'product(A+B)'\n",
    "# sample4 = 'product 외 abc'\n",
    "# sample5 = 'product'\n",
    "\n",
    "# print(process_product_names(sample1)) #['productA', 'productB']\n",
    "# print(process_product_names(sample2))\n",
    "# print(process_product_names(sample3))\n",
    "# print(process_product_names(sample4))\n",
    "# print(process_product_names(sample5))"
   ]
  },
  {
   "cell_type": "code",
   "execution_count": null,
   "id": "ee948ea4",
   "metadata": {},
   "outputs": [],
   "source": [
    "np_data = np.array(csv_data)\n",
    "print(np_data[:3])\n",
    "imark = [x*12 for x in range(1,12)]\n",
    "np.add.reduce\n",
    "print(np_data[:7])"
   ]
  },
  {
   "cell_type": "code",
   "execution_count": 46,
   "id": "1696ae8f",
   "metadata": {},
   "outputs": [
    {
     "name": "stdout",
     "output_type": "stream",
     "text": [
      "(0, '\"시점\"')\n",
      "(1, '\"월별(1)\"')\n",
      "(2, '판매소수 (개)')\n",
      "(3, '판매량')\n",
      "(4, '판매소수 (개)')\n",
      "(5, '판매량')\n",
      "(6, '판매소수 (개)')\n",
      "(7, '판매량')\n"
     ]
    }
   ],
   "source": [
    "csv_data = []\n",
    "with open ('가스공급량_20230217170926.csv') as f:\n",
    "    for line in f:\n",
    "          csv_data.append(my_split(line[:-1]))\n",
    "\n",
    "\n",
    "\n",
    "\n",
    "\n",
    "for e in enumerate(csv_data[1]):\n",
    "    print(e)\n"
   ]
  },
  {
   "cell_type": "code",
   "execution_count": 47,
   "id": "c02992eb",
   "metadata": {},
   "outputs": [
    {
     "name": "stdout",
     "output_type": "stream",
     "text": [
      "114671\n"
     ]
    }
   ],
   "source": [
    "print(csv_data[5][3])"
   ]
  },
  {
   "cell_type": "code",
   "execution_count": 48,
   "id": "6e11436a",
   "metadata": {},
   "outputs": [
    {
     "name": "stdout",
     "output_type": "stream",
     "text": [
      "['179086', '139496', '143581', '114671', '79649', '70646', '68554', '65293', '62398', '77985', '113800', '160555', '200683', '144076', '145930', '103965', '83355', '74141', '70168', '64615', '66426', '81153', '99188', '164254', '178441', '173008', '144653', '103329', '83927', '74280', '75623', '68263', '71611', '83074', '122244', '181273', '191681', '152480', '129637', '114523', '88225', '72520', '73740', '64914', '63962', '81581', '117201', '167572', '175047', '150507', '143724', '101976', '84307', '71273', '74293', '67698', '70148', '84946', '109302', '179852', '177213', '150835', '147748', '107320', '79993', '74101', '76227', '65733', '69305', '84487', '108315', '155704', '192790', '172558', '148808', '103696', '85581', '75733', '73754', '66741', '70137', '82216', '122259', '166731', '188340', '176003', '156492', '108379', '82001', '79125', '76376', '72262', '75554', '82870', '125300', '204669', '215573', '186204', '157745', '108188', '93931', '77279', '77269', '71037', '72533', '94793', '125270', '182018', '210982', '167223', '144388', '121169', '90821', '79148', '78992', '73847', '73547', '87861', '117687', '182975', '190840', '167473', '149045', '115783', '84634', '73876', '77494', '70507', '70848', '85288', '122942', '200163']\n"
     ]
    }
   ],
   "source": [
    "gas = []\n",
    "for i in csv_data[2:]:\n",
    "    gas.append(i[3])\n",
    "    \n",
    "print(gas)\n"
   ]
  },
  {
   "cell_type": "code",
   "execution_count": 49,
   "id": "0606b87d",
   "metadata": {},
   "outputs": [
    {
     "name": "stdout",
     "output_type": "stream",
     "text": [
      "['8775', '8745', '8092', '8105', '7787', '7137', '5928', '6023', '6742', '6366', '8560', '9397', '12137', '10072', '13017', '11192', '10446', '6815', '8118', '9076', '7839', '5006', '5304', '8328', '12039', '11690', '10885', '7606', '6928', '6794', '6593', '7709', '7473', '7410', '8610', '10557', '7937', '6419', '6179', '5672', '5071', '4794', '4722', '3721', '4614', '4733', '6550', '7920', '7329', '6464', '6276', '5096', '4745', '4213', '4165', '3551', '3689', '4531', '4499', '7295', '8213', '7989', '7926', '5888', '6223', '5126', '6679', '5363', '5959', '6147', '6231', '7185', '8257', '7529', '8590', '7173', '7128', '5771', '6296', '6309', '8023', '6513', '7826', '7881', '11785', '10765', '9131', '6776', '6551', '6264', '6612', '7716', '7537', '8051', '9304', '12070', '12211', '9931', '9752', '7445', '7550', '6135', '6195', '6167', '6845', '8016', '8899', '11501', '13267', '10295', '10083', '8309', '6597', '5345', '7028', '6902', '6771', '9717', '9885', '11923', '12510', '9459', '9237', '7298', '8253', '5905', '7009', '6317', '7368', '8634', '10871', '13058']\n"
     ]
    }
   ],
   "source": [
    "pro = []\n",
    "for i in csv_data[2:]:\n",
    "    pro.append(i[5])\n",
    "    \n",
    "print(pro)"
   ]
  }
 ],
 "metadata": {
  "kernelspec": {
   "display_name": "Python 3 (ipykernel)",
   "language": "python",
   "name": "python3"
  },
  "language_info": {
   "codemirror_mode": {
    "name": "ipython",
    "version": 3
   },
   "file_extension": ".py",
   "mimetype": "text/x-python",
   "name": "python",
   "nbconvert_exporter": "python",
   "pygments_lexer": "ipython3",
   "version": "3.10.9"
  }
 },
 "nbformat": 4,
 "nbformat_minor": 5
}
