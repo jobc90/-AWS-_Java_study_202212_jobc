{
 "cells": [
  {
   "cell_type": "markdown",
   "id": "654d96ff",
   "metadata": {},
   "source": [
    "### 공인중개사 / 개업공인중개사 비율\n",
    "### 공제미가입 중개사 count, 전체 대비 비율\n",
    "\n",
    "- ㅇㅇ공인중개...중 흔한 상호면\n",
    "- ㅇㅇ공인중개...가 아닌것은 따로 저장."
   ]
  },
  {
   "cell_type": "code",
   "execution_count": 13,
   "id": "126eb66b",
   "metadata": {},
   "outputs": [],
   "source": [
    "import numpy as np\n",
    "import math\n",
    "import pickle\n",
    "\n",
    "def my_split(s):\n",
    "    block_start = False\n",
    "    start_index = 0\n",
    "    ret_list=[]\n",
    "    for i, c in enumerate(s):\n",
    "        if block_start==False:\n",
    "            if c==',':\n",
    "                ret_list.append(s[start_index:i])\n",
    "                start_index=i+1\n",
    "            elif c=='\"':\n",
    "                block_start=True\n",
    "                start_index = i\n",
    "        else:\n",
    "            if c=='\"':\n",
    "                block_start=False\n",
    "    if s[-1]!=',':\n",
    "        ret_list.append(s[start_index:])\n",
    "    return ret_list\n",
    "\n",
    "def split_len(data_list):\n",
    "    len_list=[]\n",
    "    for e in data_list:\n",
    "        len_list.append(len(e))\n",
    "    #print(set(len_list))\n",
    "    if len(set(len_list))>1:\n",
    "        for i in set(len_list):\n",
    "            print(i, len_list.count(i))\n",
    "    return set(len_list)\n",
    "\n",
    "def dist_np(p1, p2): #  [3,10]  [5,25]\n",
    "    return math.sqrt(sum((p2-p1)**2))\n",
    "\n",
    "def process_product_names(s):\n",
    "    r = []\n",
    "    remove_after = ['(', ' 외', ' 외']\n",
    "    split_at = ['+', ',']\n",
    "    for c in remove_after:\n",
    "        if c in s:\n",
    "            s = s[:s.index(c)]\n",
    "        \n",
    "    for c in split_at:\n",
    "        if c in s:\n",
    "            r = r + s.split(c)\n",
    "            \n",
    "    if len(r) == 0:\n",
    "        r.append(s)\n",
    "    \n",
    "    return r\n",
    "\n",
    "# sample1 = 'productA+productB'\n",
    "# sample2 = 'productA,productB'\n",
    "# sample3 = 'product(A+B)'\n",
    "# sample4 = 'product 외 abc'\n",
    "# sample5 = 'product'\n",
    "\n",
    "# print(process_product_names(sample1)) #['productA', 'productB']\n",
    "# print(process_product_names(sample2))\n",
    "# print(process_product_names(sample3))\n",
    "# print(process_product_names(sample4))\n",
    "# print(process_product_names(sample5))"
   ]
  },
  {
   "cell_type": "code",
   "execution_count": 12,
   "id": "d4ca1114",
   "metadata": {},
   "outputs": [
    {
     "name": "stdout",
     "output_type": "stream",
     "text": [
      "{17}\n",
      "1\n",
      "(0, '중개사무소명')\n",
      "(1, '개설등록번호')\n",
      "(2, '개업공인중개사종별구분')\n",
      "(3, '소재지도로명주소')\n",
      "(4, '소재지지번주소')\n",
      "(5, '전화번호')\n",
      "(6, '개설등록일자')\n",
      "(7, '공제가입유무')\n",
      "(8, '대표자명')\n",
      "(9, '위도')\n",
      "(10, '경도')\n",
      "(11, '중개보조원수')\n",
      "(12, '소속공인중개사수')\n",
      "(13, '홈페이지주소')\n",
      "(14, '데이터기준일자')\n",
      "(15, '제공기관코드')\n",
      "(16, '제공기관명')\n"
     ]
    }
   ],
   "source": [
    "csv_data = []\n",
    "with open ('전국공인중개사사무소표준데이터.csv') as f:\n",
    "    for line in f:\n",
    "          csv_data.append(my_split(line[:-1]))\n",
    "\n",
    "print(len(split_len(csv_data)))\n",
    "\n",
    "\n",
    "\n",
    "for e in enumerate(csv_data[0]):\n",
    "    print(e)"
   ]
  },
  {
   "cell_type": "code",
   "execution_count": 8,
   "id": "580b5983",
   "metadata": {},
   "outputs": [
    {
     "name": "stdout",
     "output_type": "stream",
     "text": [
      "[['중개사무소명' '개설등록번호' '개업공인중개사종별구분' '소재지도로명주소' '소재지지번주소' '전화번호' '개설등록일자'\n",
      "  '공제가입유무']\n",
      " ['제일공인중개사사무소' '26710-2015-00005' '공인중개사' '부산광역시 기장군 정관읍 구연로 26' '' ''\n",
      "  '2015-01-07' 'Y']\n",
      " ['늘채움부동산공인중개사사무소' '26710-2015-00013' '공인중개사'\n",
      "  '\"부산광역시 기장군 기장읍 차성남로 91, 1층 일부\"' '' '' '2015-01-21' 'Y']]\n"
     ]
    }
   ],
   "source": [
    "np_data = np.array(csv_data)\n",
    "\n",
    "np_data = np_data[:, :8]\n",
    "print(np_data[:3])"
   ]
  },
  {
   "cell_type": "code",
   "execution_count": 18,
   "id": "b2bc248a",
   "metadata": {},
   "outputs": [
    {
     "name": "stdout",
     "output_type": "stream",
     "text": [
      "['개업공인중개사' '공인중개사' '법인']\n",
      "[ 5085 23757   527]\n",
      "[17.31417481 80.89141612  1.79440907]\n"
     ]
    }
   ],
   "source": [
    "btypes = np_data[1:, 2]\n",
    "#print(btypes[:3])\n",
    "#print(np.unique(btypes, return_counts=True))\n",
    "btype_name, btype_count = np.unique(btypes, return_counts=True)\n",
    "print(btype_name)\n",
    "print(btype_count)\n",
    "print(btype_count*100 / sum(btype_count))"
   ]
  },
  {
   "cell_type": "code",
   "execution_count": 19,
   "id": "926ed817",
   "metadata": {},
   "outputs": [
    {
     "data": {
      "text/plain": [
       "(array(['N', 'Y'], dtype='<U74'), array([   30, 29339], dtype=int64))"
      ]
     },
     "execution_count": 19,
     "metadata": {},
     "output_type": "execute_result"
    }
   ],
   "source": [
    "y_n = np_data[1:, 7]\n",
    "np.unique(y_n, return_counts=True)"
   ]
  },
  {
   "cell_type": "code",
   "execution_count": null,
   "id": "d01b3619",
   "metadata": {},
   "outputs": [],
   "source": [
    "names = np_data[1: 0]\n",
    "name_head = []\n",
    "else_list = []\n",
    "for n in names:\n",
    "    if '공인중개사' in n:\n",
    "        name_head.append(n[n:index('공인중개사')])\n",
    "    else:\n",
    "        else_list.append(n)"
   ]
  }
 ],
 "metadata": {
  "kernelspec": {
   "display_name": "Python 3 (ipykernel)",
   "language": "python",
   "name": "python3"
  },
  "language_info": {
   "codemirror_mode": {
    "name": "ipython",
    "version": 3
   },
   "file_extension": ".py",
   "mimetype": "text/x-python",
   "name": "python",
   "nbconvert_exporter": "python",
   "pygments_lexer": "ipython3",
   "version": "3.10.9"
  }
 },
 "nbformat": 4,
 "nbformat_minor": 5
}
