{
 "cells": [
  {
   "cell_type": "code",
   "execution_count": 31,
   "id": "2471339d",
   "metadata": {},
   "outputs": [
    {
     "name": "stdout",
     "output_type": "stream",
     "text": [
      "[['5', '17', '26', '27', '35', '38', '1'], ['21', '26', '30', '32', '33', '35', '44'], ['6', '12', '31', '35', '38', '43', '17']]\n"
     ]
    },
    {
     "data": {
      "text/plain": [
       "1"
      ]
     },
     "execution_count": 31,
     "metadata": {},
     "output_type": "execute_result"
    }
   ],
   "source": [
    "csv_data=[]\n",
    "with open('lott.csv') as f:\n",
    "    for line in f:\n",
    "        csv_data.append(line[0:-1].split(','))\n",
    "        #csv_data.append(line.replace('\\n', '').split(','))\n",
    "print(csv_data[:3])\n",
    "int(csv_data[0][-1])\n",
    "\n"
   ]
  },
  {
   "cell_type": "code",
   "execution_count": 32,
   "id": "0638fa77",
   "metadata": {},
   "outputs": [
    {
     "name": "stdout",
     "output_type": "stream",
     "text": [
      "[[5, 17, 26, 27, 35, 38, 1], [21, 26, 30, 32, 33, 35, 44], [6, 12, 31, 35, 38, 43, 17]]\n"
     ]
    }
   ],
   "source": [
    "for e in csv_data:\n",
    "    for i, s in enumerate(e):\n",
    "        e[i] = int(s)\n",
    "print(csv_data[:3])"
   ]
  },
  {
   "cell_type": "code",
   "execution_count": 76,
   "id": "225359eb",
   "metadata": {},
   "outputs": [
    {
     "name": "stdout",
     "output_type": "stream",
     "text": [
      "21.285714285714285\n"
     ]
    }
   ],
   "source": [
    "import math\n",
    "\n",
    "def mean(num_list):\n",
    "    #return sum(num_list)/len(num_list)\n",
    "    for i in num_list:\n",
    "        avr = sum(num_list)/len(num_list)\n",
    "    return avr\n",
    "\n",
    "def mean_2(num_list):\n",
    "    sum_value = 0\n",
    "    for i in num_list:\n",
    "        sum_value = sum_value + i\n",
    "    return sum_value/len(num_list)\n",
    "\n",
    "game1 = csv_data[0]\n",
    "print(mean(game1))\n",
    "\n"
   ]
  },
  {
   "cell_type": "code",
   "execution_count": 71,
   "id": "c5f1f989",
   "metadata": {},
   "outputs": [
    {
     "name": "stdout",
     "output_type": "stream",
     "text": [
      "[1, 5, 17, 26, 27, 35, 38]\n",
      "21.285714285714285\n",
      "0.7967914438502673\n",
      "None\n",
      "[1, 5, 17, 26, 27, 35, 38]\n",
      "26\n",
      "26\n",
      "26.5\n"
     ]
    }
   ],
   "source": [
    "# /는 나누기, //는 몫만 가져오고 나머지는 버린다.\n",
    "def median(num_list):\n",
    "    n = len(num_list)\n",
    "    if n % 2 == 0:\n",
    "        return (num_list[n//2 - 1] + num_list[n//2]) / 2\n",
    "    else:\n",
    "        return num_list[n//2] \n",
    "\n",
    "game1 = csv_data[0]\n",
    "print(game1)\n",
    "print(mean(game1))\n",
    "print(mean_2(game1))\n",
    "print(game1.sort())\n",
    "print(game1)\n",
    "print(game1[3])\n",
    "print(median(game1))\n",
    "print(median([5, 17, 26, 27, 35, 38]))\n",
    "\n",
    "# assert함수는 해당 결과가 맞는지 표시해 주는 테스트 함수이다.\n",
    "assert median([1, 5, 17, 26, 27, 35, 38]) == 26"
   ]
  },
  {
   "cell_type": "code",
   "execution_count": null,
   "id": "039050b2",
   "metadata": {},
   "outputs": [],
   "source": [
    "#in-place\n",
    "list_a = [1, 5, 17, 26, 27, 35, 38]\n",
    "print(sorted(list_a))\n",
    "print('after sorted: ', list_a)\n",
    "\n",
    "list_a.sort()\n",
    "print(list_a)"
   ]
  },
  {
   "cell_type": "code",
   "execution_count": 73,
   "id": "17d9b1cf",
   "metadata": {},
   "outputs": [
    {
     "name": "stdout",
     "output_type": "stream",
     "text": [
      "list_a:  [1, 5, 17, 26, 27, 35, 38]\n",
      "list_b:  [1, 5, 17, 26, 27, 35, 38]\n",
      "list_a:  [100, 5, 17, 26, 27, 35, 38]\n",
      "list_b:  [100, 5, 17, 26, 27, 35, 38]\n",
      "list_a:  [1, 5, 17, 26, 27, 35, 38]\n",
      "list_b:  []\n",
      "list_a:  [100, 5, 17, 26, 27, 35, 38]\n",
      "list_b:  []\n"
     ]
    }
   ],
   "source": [
    "# reference\n",
    "list_a = [1, 5, 17, 26, 27, 35, 38]\n",
    "list_b = list_a # shallow copy, 얕은 복사\n",
    "print('list_a: ', list_a)\n",
    "print('list_b: ', list_b)\n",
    "list_a[0] = 100\n",
    "print('list_a: ', list_a)\n",
    "print('list_b: ', list_b)\n",
    "\n",
    "list_a = [1, 5, 17, 26, 27, 35, 38]\n",
    "list_b = [] # shallow copy, 얕은 복사\n",
    "print('list_a: ', list_a)\n",
    "print('list_b: ', list_b)\n",
    "list_a[0] = 100\n",
    "print('list_a: ', list_a)\n",
    "print('list_b: ', list_b)"
   ]
  },
  {
   "cell_type": "code",
   "execution_count": 78,
   "id": "6aa7cf80",
   "metadata": {},
   "outputs": [
    {
     "name": "stdout",
     "output_type": "stream",
     "text": [
      "[-20.285714285714285, -16.285714285714285, -4.285714285714285, 4.714285714285715, 5.714285714285715, 13.714285714285715, 16.714285714285715]\n",
      "202.90476190476193\n",
      "14.244464254746893\n"
     ]
    }
   ],
   "source": [
    "#편차\n",
    "def dev(num_list):\n",
    "    m = mean(num_list)\n",
    "    return [x-m for x in num_list]\n",
    "#분산\n",
    "def var(num_list):\n",
    "    n = len(num_list)\n",
    "    d = dev(num_list)\n",
    "    return sum([x*x for x in d])/(n-1)\n",
    "\n",
    "#표준편차\n",
    "def stdev(num_list):\n",
    "    return math.sqrt(var(num_list))\n",
    "\n",
    "\n",
    "print(dev([1, 5, 17, 26, 27, 35, 38]))\n",
    "print(var([1, 5, 17, 26, 27, 35, 38]))\n",
    "print(stdev([1, 5, 17, 26, 27, 35, 38]))"
   ]
  }
 ],
 "metadata": {
  "kernelspec": {
   "display_name": "Python 3 (ipykernel)",
   "language": "python",
   "name": "python3"
  },
  "language_info": {
   "codemirror_mode": {
    "name": "ipython",
    "version": 3
   },
   "file_extension": ".py",
   "mimetype": "text/x-python",
   "name": "python",
   "nbconvert_exporter": "python",
   "pygments_lexer": "ipython3",
   "version": "3.10.9"
  }
 },
 "nbformat": 4,
 "nbformat_minor": 5
}
