{
 "cells": [
  {
   "cell_type": "code",
   "execution_count": 11,
   "id": "74a74fd4",
   "metadata": {},
   "outputs": [
    {
     "data": {
      "text/html": [
       "<div>\n",
       "<style scoped>\n",
       "    .dataframe tbody tr th:only-of-type {\n",
       "        vertical-align: middle;\n",
       "    }\n",
       "\n",
       "    .dataframe tbody tr th {\n",
       "        vertical-align: top;\n",
       "    }\n",
       "\n",
       "    .dataframe thead th {\n",
       "        text-align: right;\n",
       "    }\n",
       "</style>\n",
       "<table border=\"1\" class=\"dataframe\">\n",
       "  <thead>\n",
       "    <tr style=\"text-align: right;\">\n",
       "      <th></th>\n",
       "      <th>구매가</th>\n",
       "      <th>유지비용</th>\n",
       "      <th>문개수</th>\n",
       "      <th>탑승인원</th>\n",
       "      <th>수납공간</th>\n",
       "      <th>안전도</th>\n",
       "      <th>만족도</th>\n",
       "    </tr>\n",
       "  </thead>\n",
       "  <tbody>\n",
       "    <tr>\n",
       "      <th>0</th>\n",
       "      <td>vhigh</td>\n",
       "      <td>vhigh</td>\n",
       "      <td>2</td>\n",
       "      <td>2</td>\n",
       "      <td>small</td>\n",
       "      <td>low</td>\n",
       "      <td>unacc</td>\n",
       "    </tr>\n",
       "    <tr>\n",
       "      <th>1</th>\n",
       "      <td>vhigh</td>\n",
       "      <td>vhigh</td>\n",
       "      <td>2</td>\n",
       "      <td>2</td>\n",
       "      <td>small</td>\n",
       "      <td>med</td>\n",
       "      <td>unacc</td>\n",
       "    </tr>\n",
       "    <tr>\n",
       "      <th>2</th>\n",
       "      <td>vhigh</td>\n",
       "      <td>vhigh</td>\n",
       "      <td>2</td>\n",
       "      <td>2</td>\n",
       "      <td>small</td>\n",
       "      <td>high</td>\n",
       "      <td>unacc</td>\n",
       "    </tr>\n",
       "    <tr>\n",
       "      <th>3</th>\n",
       "      <td>vhigh</td>\n",
       "      <td>vhigh</td>\n",
       "      <td>2</td>\n",
       "      <td>2</td>\n",
       "      <td>med</td>\n",
       "      <td>low</td>\n",
       "      <td>unacc</td>\n",
       "    </tr>\n",
       "    <tr>\n",
       "      <th>4</th>\n",
       "      <td>vhigh</td>\n",
       "      <td>vhigh</td>\n",
       "      <td>2</td>\n",
       "      <td>2</td>\n",
       "      <td>med</td>\n",
       "      <td>med</td>\n",
       "      <td>unacc</td>\n",
       "    </tr>\n",
       "    <tr>\n",
       "      <th>...</th>\n",
       "      <td>...</td>\n",
       "      <td>...</td>\n",
       "      <td>...</td>\n",
       "      <td>...</td>\n",
       "      <td>...</td>\n",
       "      <td>...</td>\n",
       "      <td>...</td>\n",
       "    </tr>\n",
       "    <tr>\n",
       "      <th>1723</th>\n",
       "      <td>low</td>\n",
       "      <td>low</td>\n",
       "      <td>5more</td>\n",
       "      <td>more</td>\n",
       "      <td>med</td>\n",
       "      <td>med</td>\n",
       "      <td>good</td>\n",
       "    </tr>\n",
       "    <tr>\n",
       "      <th>1724</th>\n",
       "      <td>low</td>\n",
       "      <td>low</td>\n",
       "      <td>5more</td>\n",
       "      <td>more</td>\n",
       "      <td>med</td>\n",
       "      <td>high</td>\n",
       "      <td>vgood</td>\n",
       "    </tr>\n",
       "    <tr>\n",
       "      <th>1725</th>\n",
       "      <td>low</td>\n",
       "      <td>low</td>\n",
       "      <td>5more</td>\n",
       "      <td>more</td>\n",
       "      <td>big</td>\n",
       "      <td>low</td>\n",
       "      <td>unacc</td>\n",
       "    </tr>\n",
       "    <tr>\n",
       "      <th>1726</th>\n",
       "      <td>low</td>\n",
       "      <td>low</td>\n",
       "      <td>5more</td>\n",
       "      <td>more</td>\n",
       "      <td>big</td>\n",
       "      <td>med</td>\n",
       "      <td>good</td>\n",
       "    </tr>\n",
       "    <tr>\n",
       "      <th>1727</th>\n",
       "      <td>low</td>\n",
       "      <td>low</td>\n",
       "      <td>5more</td>\n",
       "      <td>more</td>\n",
       "      <td>big</td>\n",
       "      <td>high</td>\n",
       "      <td>vgood</td>\n",
       "    </tr>\n",
       "  </tbody>\n",
       "</table>\n",
       "<p>1728 rows × 7 columns</p>\n",
       "</div>"
      ],
      "text/plain": [
       "        구매가   유지비용    문개수  탑승인원   수납공간   안전도    만족도\n",
       "0     vhigh  vhigh      2     2  small   low  unacc\n",
       "1     vhigh  vhigh      2     2  small   med  unacc\n",
       "2     vhigh  vhigh      2     2  small  high  unacc\n",
       "3     vhigh  vhigh      2     2    med   low  unacc\n",
       "4     vhigh  vhigh      2     2    med   med  unacc\n",
       "...     ...    ...    ...   ...    ...   ...    ...\n",
       "1723    low    low  5more  more    med   med   good\n",
       "1724    low    low  5more  more    med  high  vgood\n",
       "1725    low    low  5more  more    big   low  unacc\n",
       "1726    low    low  5more  more    big   med   good\n",
       "1727    low    low  5more  more    big  high  vgood\n",
       "\n",
       "[1728 rows x 7 columns]"
      ]
     },
     "execution_count": 11,
     "metadata": {},
     "output_type": "execute_result"
    }
   ],
   "source": [
    "import numpy as np\n",
    "import pandas as pd\n",
    "import matplotlib.pyplot as plt\n",
    "\n",
    "url = 'https://archive.ics.uci.edu/ml/machine-learning-databases/car/car.data'\n",
    "pd_data = pd.read_csv(url, header=None)\n",
    "pd_data.columns = ['구매가', '유지비용', '문개수', '탑승인원', '수납공간', '안전도', '만족도']\n",
    "pd_data"
   ]
  },
  {
   "cell_type": "markdown",
   "id": "236c67f5",
   "metadata": {},
   "source": [
    "* 구매가가 만족도에 미치는 영항\n",
    "\n",
    "* 수납공간이 크면 탑승인원도 많은가"
   ]
  },
  {
   "cell_type": "code",
   "execution_count": 3,
   "id": "d248cb4f",
   "metadata": {},
   "outputs": [
    {
     "name": "stderr",
     "output_type": "stream",
     "text": [
      "C:\\Users\\ITPS\\AppData\\Local\\Temp\\ipykernel_3300\\318786983.py:2: UserWarning: No data for colormapping provided via 'c'. Parameters 'vmin', 'vmax' will be ignored\n",
      "  axe.scatter(pd_data['구매가'], pd_data['만족도'], s=5, c='red', vmin=0, vmax=100)\n"
     ]
    },
    {
     "data": {
      "text/plain": [
       "<matplotlib.collections.PathCollection at 0x23878788970>"
      ]
     },
     "execution_count": 3,
     "metadata": {},
     "output_type": "execute_result"
    },
    {
     "data": {
      "image/png": "[encoded data removed]",
      "text/plain": [
       "<Figure size 640x480 with 1 Axes>"
      ]
     },
     "metadata": {},
     "output_type": "display_data"
    }
   ],
   "source": [
    "_, axe = plt.subplots()\n",
    "axe.scatter(pd_data['구매가'], pd_data['만족도'], s=5, c='red', vmin=0, vmax=100)\n",
    "\n",
    "\n",
    "\n"
   ]
  },
  {
   "cell_type": "code",
   "execution_count": 42,
   "id": "5bef8e12",
   "metadata": {},
   "outputs": [
    {
     "name": "stdout",
     "output_type": "stream",
     "text": [
      "      구매가    만족도  안전도\n",
      "4     low  unacc  258\n",
      "2     low    acc   89\n",
      "3     low   good   46\n",
      "5     low  vgood   39\n",
      "8     med  unacc  268\n",
      "6     med    acc  115\n",
      "7     med   good   23\n",
      "9     med  vgood   26\n",
      "1    high  unacc  324\n",
      "0    high    acc  108\n",
      "11  vhigh  unacc  360\n",
      "10  vhigh    acc   72\n"
     ]
    },
    {
     "data": {
      "text/plain": [
       "<matplotlib.collections.PathCollection at 0x2380103c4f0>"
      ]
     },
     "execution_count": 42,
     "metadata": {},
     "output_type": "execute_result"
    },
    {
     "data": {
      "image/png": "[encoded data removed]",
      "text/plain": [
       "<Figure size 1280x480 with 3 Axes>"
      ]
     },
     "metadata": {},
     "output_type": "display_data"
    }
   ],
   "source": [
    "fig = plt.figure(figsize=(6.4*2, 4.8))\n",
    "left = fig.add_subplot(1,2,1)\n",
    "#left.scatter(pd_data['구매가'], pd_data['만족도'], s=5, c='red')\n",
    "\n",
    "right_top = fig.add_subplot(2,2,2)\n",
    "filter2 = pd_data['구매가']=='vhigh'\n",
    "s2 = pd_data.loc[filter2, '만족도'].value_counts()\n",
    "# right_top.bar(s2.index, s2)\n",
    "# print(s2.values)\n",
    "s3 = pd.Series(list(s2.values)+[0,0], index=['unacc', 'acc', 'good', 'vgood'])\n",
    "right_top.bar(s3.index, s3)\n",
    "# print(s3)\n",
    "\n",
    "\n",
    "right_bot = fig.add_subplot(2,2,4)\n",
    "filter1 = pd_data['구매가']=='low'\n",
    "s1 = pd_data.loc[filter1, '만족도'].value_counts()\n",
    "right_bot.bar(s1.index, s1)\n",
    "\n",
    "from pandas.api.types import CategoricalDtype\n",
    "\n",
    "price_category = CategoricalDtype(categories=[\"low\", \"med\", \"high\", \"vhigh\"], ordered=True)\n",
    "eval_category = CategoricalDtype(categories=[\"unacc\", \"acc\", \"good\", \"vgood\"], ordered=True)\n",
    "\n",
    "\n",
    "g1 = pd_data.groupby(['구매가', '만족도'])\n",
    "s4 = g1['안전도'].count()\n",
    "s4 = s4.reset_index()\n",
    "s4['구매가'] = s4['구매가'].astype(price_category)\n",
    "s4['만족도'] = s4['만족도'].astype(eval_category)\n",
    "s4.sort_values(['구매가','만족도'], inplace=True)\n",
    "print(s4)\n",
    "left.scatter(s4['구매가'], s4['만족도'], s=s4['안전도'])"
   ]
  }
 ],
 "metadata": {
  "kernelspec": {
   "display_name": "Python 3 (ipykernel)",
   "language": "python",
   "name": "python3"
  },
  "language_info": {
   "codemirror_mode": {
    "name": "ipython",
    "version": 3
   },
   "file_extension": ".py",
   "mimetype": "text/x-python",
   "name": "python",
   "nbconvert_exporter": "python",
   "pygments_lexer": "ipython3",
   "version": "3.10.9"
  }
 },
 "nbformat": 4,
 "nbformat_minor": 5
}
