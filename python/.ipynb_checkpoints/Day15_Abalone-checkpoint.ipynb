{
 "cells": [
  {
   "cell_type": "markdown",
   "id": "4ffce2e1",
   "metadata": {},
   "source": [
    "### UCI 전복\n",
    "\n",
    "https://archive.ics.uci.edu/ml/machine-learning-databases/abalone/abalone.data\n",
    "\n",
    "1. [함수]requests 패키지를 이용해 데이터 가져와서 ndarray로 변환.\n",
    "\n",
    "2. [함수] 성별이 'M'인 데이터를 필터, Length 와 Diameter 간 상관도를 반환\n",
    "\n",
    "3. __name__ 값이 __main__ 이면, 1, 2 함수를 실행, 2번함수의 반환값을 프린트."
   ]
  },
  {
   "cell_type": "code",
   "execution_count": 3,
   "id": "f816a763",
   "metadata": {},
   "outputs": [],
   "source": [
    "import numpy as np\n",
    "import math\n",
    "import pickle\n",
    "import matplotlib.pyplot as plt\n",
    "import requests\n",
    "from scipy import stats\n",
    "\n",
    "def my_split(s):\n",
    "    block_start = False\n",
    "    start_index = 0\n",
    "    ret_list=[]\n",
    "    for i, c in enumerate(s):\n",
    "        if block_start==False:\n",
    "            if c==',':\n",
    "                ret_list.append(s[start_index:i])\n",
    "                start_index=i+1\n",
    "            elif c=='\"':\n",
    "                block_start=True\n",
    "                start_index = i\n",
    "        else:\n",
    "            if c=='\"':\n",
    "                block_start=False\n",
    "    if s[-1]!=',':\n",
    "        ret_list.append(s[start_index:])\n",
    "    return ret_list\n",
    "\n",
    "def split_len(data_list):\n",
    "    len_list=[]\n",
    "    for e in data_list:\n",
    "        len_list.append(len(e))\n",
    "    print(set(len_list))\n",
    "    if len(set(len_list))>1:\n",
    "        for i in set(len_list):\n",
    "            print(i, len_list.count(i))\n",
    "\n",
    "def dist_np(p1, p2): #  [3,10]  [5,25]\n",
    "    return math.sqrt(sum((p2-p1)**2))\n",
    "\n",
    "def process_product_names(s):\n",
    "    r = []\n",
    "    remove_after = ['(', ' 외', ' 외']\n",
    "    split_at = ['+', ',']\n",
    "    for c in remove_after:\n",
    "        if c in s:\n",
    "            s = s[:s.index(c)]\n",
    "        \n",
    "    for c in split_at:\n",
    "        if c in s:\n",
    "            r = r + s.split(c)\n",
    "            \n",
    "    if len(r) == 0:\n",
    "        r.append(s)\n",
    "    \n",
    "    return r\n"
   ]
  },
  {
   "cell_type": "code",
   "execution_count": 33,
   "id": "a91dc2fb",
   "metadata": {
    "scrolled": true
   },
   "outputs": [
    {
     "name": "stdout",
     "output_type": "stream",
     "text": [
      "[['M' '0.455' '0.365' ... '0.101' '0.15' '15']\n",
      " ['M' '0.35' '0.265' ... '0.0485' '0.07' '7']\n",
      " ['F' '0.53' '0.42' ... '0.1415' '0.21' '9']\n",
      " ...\n",
      " ['M' '0.6' '0.475' ... '0.2875' '0.308' '9']\n",
      " ['F' '0.625' '0.485' ... '0.261' '0.296' '10']\n",
      " ['M' '0.71' '0.555' ... '0.3765' '0.495' '12']]\n"
     ]
    }
   ],
   "source": [
    "abalone_np = requests.get('https://archive.ics.uci.edu/ml/machine-learning-databases/abalone/abalone.data')\n",
    "#print(abalone_np.text)\n",
    "\n",
    "np.set_printoptions(precision=5, suppress=True)\n",
    "\n",
    "raw_data=[]\n",
    "for line in abalone_np.text.split('\\n'):\n",
    "    raw_data.append(line.split(','))\n",
    "    \n",
    "#print(raw_data)\n",
    "# t = set()            \n",
    "# for e in raw_data:\n",
    "#     t.add(len(e))\n",
    "# print(t)\n",
    "\n",
    "np_data = np.array(raw_data[:-1])\n",
    "print(np_data)\n",
    "#np_data = np_data[:, 0:].astype(np.float64)\n",
    "#print(np_data[:3])\n",
    "#print(np_data)\n"
   ]
  },
  {
   "cell_type": "code",
   "execution_count": 47,
   "id": "6cd0dcfd",
   "metadata": {},
   "outputs": [],
   "source": [
    "import requests\n",
    "import numpy as np"
   ]
  },
  {
   "cell_type": "code",
   "execution_count": 50,
   "id": "4ef6f5d7",
   "metadata": {},
   "outputs": [],
   "source": [
    "\n",
    "def fetch_uci_data(url):\n",
    "    d = requests.get(url)\n",
    "    t = []\n",
    "    for line in d.text.split('\\n'):\n",
    "        if len(line) !=0:\n",
    "            t.append(line.split(','))\n",
    "    return np.array(t)\n",
    "    \n",
    "def get_corr(d):\n",
    "    male_filter = (d[:, 0]=='M')\n",
    "    male_samples = d[male_filter]\n",
    "    male_length = male_samples[:, 1].astype(np.float64)\n",
    "    male_diameter = male_samples[:, 2].astype(np.float64)\n",
    "    return np.corrcoef(male_length, male_diameter)"
   ]
  },
  {
   "cell_type": "code",
   "execution_count": 51,
   "id": "1ea09630",
   "metadata": {},
   "outputs": [
    {
     "name": "stdout",
     "output_type": "stream",
     "text": [
      "0.9819071375281404\n"
     ]
    }
   ],
   "source": [
    "url = 'https://archive.ics.uci.edu/ml/machine-learning-databases/abalone/abalone.data'\n",
    "\n",
    "if __name__ =='__main__':\n",
    "    np_data = fetch_uci_data(url)\n",
    "    corr_value = get_corr(np_data)\n",
    "    print(corr_value[0, 1])"
   ]
  },
  {
   "cell_type": "code",
   "execution_count": 43,
   "id": "abcf4325",
   "metadata": {},
   "outputs": [
    {
     "name": "stdout",
     "output_type": "stream",
     "text": [
      "['F' 'I' 'M'] [1307 1342 1528]\n",
      "[31.2904  32.12832 36.58128]\n"
     ]
    }
   ],
   "source": [
    "# #bool리스트로 원하는 컬럼만 담기\n",
    "# s = np_data[:, :1]\n",
    "# filter_s = s!=' '\n",
    "# s_f = s[filter_s]\n",
    "# s_f_name, s_f_count = np.unique(s_f, return_counts=True)\n",
    "# print(s_f_name, s_f_count)\n",
    "# print(s_f_count*100 / sum(s_f_count))"
   ]
  },
  {
   "cell_type": "code",
   "execution_count": 44,
   "id": "e0c2f476",
   "metadata": {},
   "outputs": [],
   "source": [
    "# filter_s = (np_data[:, :1]=='M')"
   ]
  },
  {
   "cell_type": "code",
   "execution_count": 57,
   "id": "72805367",
   "metadata": {},
   "outputs": [],
   "source": [
    "import sqlite3\n",
    "\n",
    "con = sqlite3.connect(\"test.db\")\n",
    "\n",
    "cur = con.cursor()\n",
    "\n",
    "#con.execute('CREATE TABLE abalone(length real, diameter real)')\n",
    "con.execute('INSERT INTO abalone(length, diameter) values(10.0, 20.0)')\n",
    "\n",
    "\n",
    "con.commit()\n",
    "con.close()"
   ]
  },
  {
   "cell_type": "code",
   "execution_count": 58,
   "id": "e3178b00",
   "metadata": {},
   "outputs": [
    {
     "name": "stdout",
     "output_type": "stream",
     "text": [
      "[(10.0, 20.0)]\n"
     ]
    }
   ],
   "source": [
    "con = sqlite3.connect(\"test.db\")\n",
    "cur = con.cursor()\n",
    "res = cur.execute(\"SELECT * from abalone\")\n",
    "print(res.fetchall())"
   ]
  }
 ],
 "metadata": {
  "kernelspec": {
   "display_name": "Python 3 (ipykernel)",
   "language": "python",
   "name": "python3"
  },
  "language_info": {
   "codemirror_mode": {
    "name": "ipython",
    "version": 3
   },
   "file_extension": ".py",
   "mimetype": "text/x-python",
   "name": "python",
   "nbconvert_exporter": "python",
   "pygments_lexer": "ipython3",
   "version": "3.10.9"
  }
 },
 "nbformat": 4,
 "nbformat_minor": 5
}
