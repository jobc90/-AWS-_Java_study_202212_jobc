{
 "cells": [
  {
   "cell_type": "markdown",
   "id": "16c34adb",
   "metadata": {},
   "source": [
    "# heading1\n",
    "## heading2\n",
    "### heading3\n",
    "\n",
    "heading\n",
    "======\n",
    "\n",
    "heading\n",
    "----------"
   ]
  },
  {
   "cell_type": "markdown",
   "id": "356f856f",
   "metadata": {},
   "source": [
    "문장1 문장2 문장 3 \n",
    "문장4\n",
    "\n",
    "문단x\n",
    "\n",
    "1. ㅁㅁㅁ\n",
    "- ㅁㅁ\n",
    "- ㅁㅁ\n",
    "1. ㅁㅁㅁㅁ\n",
    "-   1968./ A great year!\n",
    "1. ㅁㅁㅁㅁㅁ\n",
    "\n",
    "* mathjax\n",
    "$$\n",
    " y = \\hat x + 9*z(i) + \\sum i\n",
    "$$"
   ]
  },
  {
   "cell_type": "code",
   "execution_count": null,
   "id": "8d3f377e",
   "metadata": {},
   "outputs": [],
   "source": []
  }
 ],
 "metadata": {
  "kernelspec": {
   "display_name": "Python 3 (ipykernel)",
   "language": "python",
   "name": "python3"
  },
  "language_info": {
   "codemirror_mode": {
    "name": "ipython",
    "version": 3
   },
   "file_extension": ".py",
   "mimetype": "text/x-python",
   "name": "python",
   "nbconvert_exporter": "python",
   "pygments_lexer": "ipython3",
   "version": "3.10.9"
  }
 },
 "nbformat": 4,
 "nbformat_minor": 5
}
