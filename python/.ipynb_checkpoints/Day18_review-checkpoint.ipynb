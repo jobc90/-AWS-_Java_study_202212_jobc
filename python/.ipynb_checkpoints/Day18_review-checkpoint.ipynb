{
 "cells": [
  {
   "cell_type": "code",
   "execution_count": 2,
   "id": "0d4888b0",
   "metadata": {},
   "outputs": [
    {
     "name": "stdout",
     "output_type": "stream",
     "text": [
      "[]\n",
      "['a']\n"
     ]
    }
   ],
   "source": [
    "# python list\n",
    "\n",
    "lista = []\n",
    "print(lista)\n",
    "\n",
    "lista.append('a')\n",
    "print(lista)"
   ]
  },
  {
   "cell_type": "code",
   "execution_count": 11,
   "id": "9aa9dc87",
   "metadata": {},
   "outputs": [
    {
     "name": "stdout",
     "output_type": "stream",
     "text": [
      "['a'] <class 'numpy.ndarray'>\n",
      "[0 1 2 3 4]\n",
      "[1 2 3]\n",
      "[1 4]\n",
      "[0 2 4]\n",
      "[3 4]\n"
     ]
    }
   ],
   "source": [
    "# numpy ndarray\n",
    "import numpy as np\n",
    "\n",
    "#ndarray는 데이터 추가제거는 어렵고 주어진 데이터를 사용해서 계산을 쉽게하는 목적이다.\n",
    "array1 = np.array(lista)\n",
    "array2 = np.array([1,2,3,4])\n",
    "array3 = np.array([x for x in range(5)])\n",
    "\n",
    "# array1.append('c')\n",
    "# print(array1)\n",
    "\n",
    "print(array1, type(array1))\n",
    "print(array3)\n",
    "print(array3[1:4])\n",
    "print(array3[[1,4]])\n",
    "print(array3[array3%2==0])\n",
    "print(array3[array3>2])\n"
   ]
  },
  {
   "cell_type": "code",
   "execution_count": 15,
   "id": "4bafbba8",
   "metadata": {},
   "outputs": [
    {
     "name": "stdout",
     "output_type": "stream",
     "text": [
      "3\n",
      "4\n",
      "[3 4]\n"
     ]
    }
   ],
   "source": [
    "# for, if\n",
    "# for i in array3:\n",
    "#     print(i)\n",
    "    \n",
    "for i in range(5):\n",
    "    if i > 2:\n",
    "        print(i)\n",
    "        \n",
    "print(array3[array3>2])"
   ]
  },
  {
   "cell_type": "code",
   "execution_count": 21,
   "id": "95083fcc",
   "metadata": {},
   "outputs": [
    {
     "name": "stdout",
     "output_type": "stream",
     "text": [
      "return_value: 100\n"
     ]
    },
    {
     "ename": "AssertionError",
     "evalue": "",
     "output_type": "error",
     "traceback": [
      "\u001b[1;31m---------------------------------------------------------------------------\u001b[0m",
      "\u001b[1;31mAssertionError\u001b[0m                            Traceback (most recent call last)",
      "Cell \u001b[1;32mIn[21], line 9\u001b[0m\n\u001b[0;32m      6\u001b[0m return_value \u001b[38;5;241m=\u001b[39m function_name(\u001b[38;5;241m10\u001b[39m)\n\u001b[0;32m      7\u001b[0m \u001b[38;5;28mprint\u001b[39m(\u001b[38;5;124m'\u001b[39m\u001b[38;5;124mreturn_value:\u001b[39m\u001b[38;5;124m'\u001b[39m, return_value)\n\u001b[1;32m----> 9\u001b[0m \u001b[38;5;28;01massert\u001b[39;00m function_name(\u001b[38;5;241m100\u001b[39m)\u001b[38;5;241m==\u001b[39m\u001b[38;5;241m1001\u001b[39m\n",
      "\u001b[1;31mAssertionError\u001b[0m: "
     ]
    }
   ],
   "source": [
    "# function\n",
    "\n",
    "def function_name(n):\n",
    "    return n*10\n",
    "    \n",
    "return_value = function_name(10)\n",
    "print('return_value:', return_value)\n",
    "\n",
    "assert function_name(100)==1001"
   ]
  },
  {
   "cell_type": "code",
   "execution_count": 45,
   "id": "adcf6ffa",
   "metadata": {},
   "outputs": [
    {
     "name": "stdout",
     "output_type": "stream",
     "text": [
      "98\n",
      "52\n",
      "68\n",
      "[98 52 68]\n",
      "3\n",
      "[71, 42, 43, 6, 20, 17, 43, 71, 42, 89]\n"
     ]
    }
   ],
   "source": [
    "import random\n",
    "\n",
    "random.seed(123)\n",
    "\n",
    "listb = []\n",
    "for i in range(10):\n",
    "    listb.append(random.randint(0, 100))\n",
    "    \n",
    "for i in listb:\n",
    "    if i >50:\n",
    "        print(i)\n",
    "        \n",
    "        \n",
    "listb_np = np.array(listb)\n",
    "print(listb_np[listb_np>50])\n",
    "print(len(listb_np[listb_np>50]))\n",
    "\n",
    "# _는 사용하지 않는 변수를 대신할 때 사용한다.\n",
    "listc = [random.randint(0, 100) for _ in range(10)]\n",
    "print(listc)\n"
   ]
  }
 ],
 "metadata": {
  "kernelspec": {
   "display_name": "Python 3 (ipykernel)",
   "language": "python",
   "name": "python3"
  },
  "language_info": {
   "codemirror_mode": {
    "name": "ipython",
    "version": 3
   },
   "file_extension": ".py",
   "mimetype": "text/x-python",
   "name": "python",
   "nbconvert_exporter": "python",
   "pygments_lexer": "ipython3",
   "version": "3.10.9"
  }
 },
 "nbformat": 4,
 "nbformat_minor": 5
}
