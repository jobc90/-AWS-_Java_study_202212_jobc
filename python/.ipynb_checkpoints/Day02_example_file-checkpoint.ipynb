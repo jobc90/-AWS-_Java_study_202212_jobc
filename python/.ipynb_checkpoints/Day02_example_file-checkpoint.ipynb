{
 "cells": [
  {
   "cell_type": "code",
   "execution_count": 63,
   "id": "6441818b",
   "metadata": {},
   "outputs": [
    {
     "ename": "AttributeError",
     "evalue": "'list' object has no attribute 'split'",
     "output_type": "error",
     "traceback": [
      "\u001b[1;31m---------------------------------------------------------------------------\u001b[0m",
      "\u001b[1;31mAttributeError\u001b[0m                            Traceback (most recent call last)",
      "Cell \u001b[1;32mIn[63], line 18\u001b[0m\n\u001b[0;32m     15\u001b[0m \u001b[38;5;66;03m#print(address)\u001b[39;00m\n\u001b[0;32m     17\u001b[0m \u001b[38;5;28;01mfor\u001b[39;00m i \u001b[38;5;129;01min\u001b[39;00m address:\n\u001b[1;32m---> 18\u001b[0m     address_list \u001b[38;5;241m=\u001b[39m \u001b[43maddress\u001b[49m\u001b[38;5;241;43m.\u001b[39;49m\u001b[43msplit\u001b[49m()\n\u001b[0;32m     19\u001b[0m     g_list\u001b[38;5;241m.\u001b[39mappend(address_list[\u001b[38;5;241m0\u001b[39m])\n\u001b[0;32m     20\u001b[0m \u001b[38;5;28mprint\u001b[39m(g_list)\n",
      "\u001b[1;31mAttributeError\u001b[0m: 'list' object has no attribute 'split'"
     ]
    }
   ],
   "source": [
    "\n",
    "data_list = []\n",
    "with open('전국건강증진센터표준데이터.csv', encoding='cp949') as f:\n",
    "    for line in f:\n",
    "        data_list.append(line.split(','))\n",
    "data_list = data_list [1:]\n",
    "\n",
    "\n",
    "address = []\n",
    "address_list = []\n",
    "g_list = []\n",
    "for i in data_list:\n",
    "    address.append(i[2])\n",
    "    \n",
    "del address[132]\n",
    "#print(address)\n",
    "\n",
    "for i in address:\n",
    "    address_list = address.split()\n",
    "    g_list.append(address_list[0])\n",
    "print(g_list)\n",
    "\n",
    "\n",
    "\n"
   ]
  }
 ],
 "metadata": {
  "kernelspec": {
   "display_name": "Python 3 (ipykernel)",
   "language": "python",
   "name": "python3"
  },
  "language_info": {
   "codemirror_mode": {
    "name": "ipython",
    "version": 3
   },
   "file_extension": ".py",
   "mimetype": "text/x-python",
   "name": "python",
   "nbconvert_exporter": "python",
   "pygments_lexer": "ipython3",
   "version": "3.10.9"
  }
 },
 "nbformat": 4,
 "nbformat_minor": 5
}
