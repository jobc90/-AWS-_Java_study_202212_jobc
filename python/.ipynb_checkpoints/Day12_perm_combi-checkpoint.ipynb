{
 "cells": [
  {
   "cell_type": "code",
   "execution_count": null,
   "id": "d285df63",
   "metadata": {},
   "outputs": [],
   "source": [
    "def fact(n):\n",
    "    ret = 1\n",
    "    while n>1:\n",
    "        ret *= n\n",
    "        n -= 1\n",
    "    return ret"
   ]
  },
  {
   "cell_type": "code",
   "execution_count": null,
   "id": "56edf819",
   "metadata": {},
   "outputs": [],
   "source": [
    "# permutation (순열)\n",
    "\n",
    "# 1에서부터 6까지 숫자가 적힌 공이 든 박스에서 2개의 공을 꺼낼때\n",
    "# 나올수 있는 모든 경우의 수 : 6*5\n",
    "# -- without replacement\n",
    "\n",
    "# n = 6\n",
    "# r = 2\n",
    "\n",
    "# n!/(n-r)!"
   ]
  },
  {
   "cell_type": "code",
   "execution_count": null,
   "id": "5a06ee7f",
   "metadata": {},
   "outputs": [],
   "source": [
    "# 제귀함수 : 자기 자신을 부르는(사용하는) 함수\n",
    "def fact_r(n):\n",
    "    if n==2:\n",
    "        return n\n",
    "    return fact_r(n-1)*n"
   ]
  }
 ],
 "metadata": {
  "kernelspec": {
   "display_name": "Python 3 (ipykernel)",
   "language": "python",
   "name": "python3"
  },
  "language_info": {
   "codemirror_mode": {
    "name": "ipython",
    "version": 3
   },
   "file_extension": ".py",
   "mimetype": "text/x-python",
   "name": "python",
   "nbconvert_exporter": "python",
   "pygments_lexer": "ipython3",
   "version": "3.10.9"
  }
 },
 "nbformat": 4,
 "nbformat_minor": 5
}
