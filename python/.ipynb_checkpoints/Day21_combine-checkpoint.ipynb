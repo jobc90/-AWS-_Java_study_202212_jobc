{
 "cells": [
  {
   "cell_type": "code",
   "execution_count": 1,
   "id": "751b4647",
   "metadata": {},
   "outputs": [],
   "source": [
    "import numpy as np\n",
    "import pandas as pd"
   ]
  },
  {
   "cell_type": "code",
   "execution_count": 9,
   "id": "6b2f2d92",
   "metadata": {},
   "outputs": [
    {
     "name": "stdout",
     "output_type": "stream",
     "text": [
      "  Key   A   B\n",
      "5  k0  A0  B0\n",
      "6  k1  A1  B1\n",
      "7  k2  A2  B2\n",
      "8  k3  A3  B3\n",
      "      A   B\n",
      "Key        \n",
      "k0   A0  B0\n",
      "k1   A1  B1\n",
      "k2   A2  B2\n",
      "k3   A3  B3\n",
      "  Key   A   B\n",
      "0  k0  A0  B0\n",
      "1  k1  A1  B1\n",
      "2  k2  A2  B2\n",
      "3  k3  A3  B3\n",
      "         B\n",
      "Key A     \n",
      "k0  A0  B0\n",
      "k1  A1  B1\n",
      "k2  A2  B2\n",
      "k3  A3  B3\n",
      "  Key   A   B\n",
      "0  k0  A0  B0\n",
      "1  k1  A1  B1\n",
      "2  k2  A2  B2\n",
      "3  k3  A3  B3\n"
     ]
    }
   ],
   "source": [
    "# index\n",
    "df1 = pd.DataFrame({\n",
    "    'Key': ['k0', 'k1', 'k2', 'k3'],\n",
    "    'A': ['A0', 'A1', 'A2', 'A3'],\n",
    "    'B': ['B0', 'B1', 'B2', 'B3']\n",
    "}, index=[5,6,7,8])\n",
    "print(df1)\n",
    "# print(df1.index)\n",
    "\n",
    "# df1.index = df1['key']\n",
    "# df1.drop('key', axis=1, inplace=True)\n",
    "# print(df1)\n",
    "\n",
    "df1.set_index('Key', inplace=True)\n",
    "print(df1)\n",
    "\n",
    "df1.reset_index(inplace=True)\n",
    "print(df1)\n",
    "\n",
    "df1.set_index(['Key', 'A'], inplace=True)\n",
    "print(df1)\n",
    "df1.reset_index(level=0, inplace=True)\n",
    "print(df1)"
   ]
  }
 ],
 "metadata": {
  "kernelspec": {
   "display_name": "Python 3 (ipykernel)",
   "language": "python",
   "name": "python3"
  },
  "language_info": {
   "codemirror_mode": {
    "name": "ipython",
    "version": 3
   },
   "file_extension": ".py",
   "mimetype": "text/x-python",
   "name": "python",
   "nbconvert_exporter": "python",
   "pygments_lexer": "ipython3",
   "version": "3.10.9"
  }
 },
 "nbformat": 4,
 "nbformat_minor": 5
}
