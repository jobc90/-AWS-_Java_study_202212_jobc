{
 "cells": [
  {
   "cell_type": "code",
   "execution_count": 23,
   "id": "557f501f",
   "metadata": {},
   "outputs": [
    {
     "data": {
      "text/plain": [
       "62"
      ]
     },
     "execution_count": 23,
     "metadata": {},
     "output_type": "execute_result"
    }
   ],
   "source": [
    "#random library 전체를 들고올 때\n",
    "import random\n",
    "\n",
    "random.randrange(0, 100, 2)"
   ]
  },
  {
   "cell_type": "code",
   "execution_count": 25,
   "id": "b90c5959",
   "metadata": {},
   "outputs": [
    {
     "data": {
      "text/plain": [
       "92"
      ]
     },
     "execution_count": 25,
     "metadata": {},
     "output_type": "execute_result"
    }
   ],
   "source": [
    "#random library에서 randrange 함수 하나만 사용하고 싶을 때\n",
    "from random import randrange\n",
    "\n",
    "randrange(0, 100, 2)"
   ]
  },
  {
   "cell_type": "code",
   "execution_count": 44,
   "id": "8a5d7e1f",
   "metadata": {},
   "outputs": [
    {
     "data": {
      "text/plain": [
       "40"
      ]
     },
     "execution_count": 44,
     "metadata": {},
     "output_type": "execute_result"
    }
   ],
   "source": [
    "import random as rd\n",
    "\n",
    "rd.randrange(0, 100, 5)\n"
   ]
  }
 ],
 "metadata": {
  "kernelspec": {
   "display_name": "Python 3 (ipykernel)",
   "language": "python",
   "name": "python3"
  },
  "language_info": {
   "codemirror_mode": {
    "name": "ipython",
    "version": 3
   },
   "file_extension": ".py",
   "mimetype": "text/x-python",
   "name": "python",
   "nbconvert_exporter": "python",
   "pygments_lexer": "ipython3",
   "version": "3.10.9"
  }
 },
 "nbformat": 4,
 "nbformat_minor": 5
}
