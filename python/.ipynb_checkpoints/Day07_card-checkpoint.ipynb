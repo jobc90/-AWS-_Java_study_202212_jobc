{
 "cells": [
  {
   "cell_type": "code",
   "execution_count": 39,
   "id": "e34ab4d6",
   "metadata": {},
   "outputs": [
    {
     "name": "stdout",
     "output_type": "stream",
     "text": [
      "[1, 3, 4, 2, 5, 6]\n"
     ]
    }
   ],
   "source": [
    "import random\n",
    "\n",
    "lista = [1,2,3,4,5,6]\n",
    "random.shuffle(lista)\n",
    "print(lista)"
   ]
  },
  {
   "cell_type": "code",
   "execution_count": 195,
   "id": "c1943082",
   "metadata": {},
   "outputs": [
    {
     "name": "stdout",
     "output_type": "stream",
     "text": [
      "['♣', '◆', '♥', '♠']\n",
      "['Ace', '2', '3', '4', '5', '6', '7', '8', '9', '10', 'Jack', 'Queen', 'King']\n"
     ]
    }
   ],
   "source": [
    "suits = ['♣', '◆', '♥', '♠']\n",
    "#rank = ['ace', '2'...'10', 'Jack', 'Queen', 'King']\n",
    "rank = [str(i) for i in range(2, 11)]\n",
    "rank = ['Ace'] + rank + ['Jack', 'Queen', 'King']\n",
    "\n",
    "print(suits)\n",
    "print(rank)"
   ]
  },
  {
   "cell_type": "code",
   "execution_count": 196,
   "id": "d7ddf59b",
   "metadata": {},
   "outputs": [
    {
     "name": "stdout",
     "output_type": "stream",
     "text": [
      "{'♣-Ace': 1, '♣-2': 2, '♣-3': 3, '♣-4': 4, '♣-5': 5, '♣-6': 6, '♣-7': 7, '♣-8': 8, '♣-9': 9, '♣-10': 10, '♣-Jack': 10, '♣-Queen': 10, '♣-King': 10, '◆-Ace': 1, '◆-2': 2, '◆-3': 3, '◆-4': 4, '◆-5': 5, '◆-6': 6, '◆-7': 7, '◆-8': 8, '◆-9': 9, '◆-10': 10, '◆-Jack': 10, '◆-Queen': 10, '◆-King': 10, '♥-Ace': 1, '♥-2': 2, '♥-3': 3, '♥-4': 4, '♥-5': 5, '♥-6': 6, '♥-7': 7, '♥-8': 8, '♥-9': 9, '♥-10': 10, '♥-Jack': 10, '♥-Queen': 10, '♥-King': 10, '♠-Ace': 1, '♠-2': 2, '♠-3': 3, '♠-4': 4, '♠-5': 5, '♠-6': 6, '♠-7': 7, '♠-8': 8, '♠-9': 9, '♠-10': 10, '♠-Jack': 10, '♠-Queen': 10, '♠-King': 10}\n"
     ]
    }
   ],
   "source": [
    "Deck = []               # 'Clover-Ace', 'Clover-2'.......\n",
    "\n",
    "for i in suits:\n",
    "    for e in rank:\n",
    "        Deck.append(str(i) + '-'+ str(e))\n",
    "    \n",
    "score_list = ([i+1 for i in range(10)] + [10]*3)*4\n",
    "score_dict = dict(zip(Deck, score_list))\n",
    "#print(Deck) \n",
    "#print(score_list)\n",
    "\n",
    "def score_hand(hand):\n",
    "    score = 0\n",
    "    for card in hand:\n",
    "        score = score + score_dict[card]\n",
    "    return score\n",
    "\n",
    "print(score_dict)"
   ]
  },
  {
   "cell_type": "code",
   "execution_count": 197,
   "id": "6500bfa9",
   "metadata": {},
   "outputs": [
    {
     "name": "stdout",
     "output_type": "stream",
     "text": [
      "['◆-3', '♠-Queen', '♠-6', '♠-8', '♣-10', '♥-5', '◆-5', '♥-8', '♥-Ace', '♥-4', '♠-10', '◆-Ace', '◆-Queen', '♥-7', '♠-2', '◆-6', '♥-Queen', '♠-9', '♣-3', '♥-Jack', '♠-Ace', '♣-King', '◆-8', '◆-9', '♣-Ace', '◆-Jack', '♣-6', '♣-8', '◆-7', '♣-Jack', '♣-9', '♥-6', '♠-3', '♠-4', '♣-2', '♥-10', '♠-King', '♣-4', '♣-5', '♣-7', '♠-7', '♣-Queen', '◆-2', '♥-2', '♥-3', '♥-9', '♠-Jack', '♥-King', '◆-King', '◆-10', '♠-5', '◆-4']\n"
     ]
    }
   ],
   "source": [
    "random.shuffle(Deck)\n",
    "print(Deck)"
   ]
  },
  {
   "cell_type": "code",
   "execution_count": 198,
   "id": "8d066d88",
   "metadata": {},
   "outputs": [
    {
     "data": {
      "text/plain": [
       "'◆-4'"
      ]
     },
     "execution_count": 198,
     "metadata": {},
     "output_type": "execute_result"
    }
   ],
   "source": [
    "Deck.pop()"
   ]
  },
  {
   "cell_type": "code",
   "execution_count": 200,
   "id": "13fcb084",
   "metadata": {},
   "outputs": [],
   "source": [
    "import random\n",
    "\n",
    "suits = ['♣', '◆', '♥', '♠']\n",
    "rank = [str(i) for i in range(2, 11)]\n",
    "rank = ['Ace'] + rank + ['Jack', 'Queen', 'King']\n",
    "\n",
    "Deck = []               # 'Clover-Ace', 'Clover-2'.......\n",
    "\n",
    "for i in suits:\n",
    "    for e in rank:\n",
    "        Deck.append(str(i) + '-'+ str(e))\n",
    "    \n",
    "score_list = ([i+1 for i in range(10)] + [10]*3)*4\n",
    "score_dict = dict(zip(Deck, score_list))\n",
    "\n",
    "\n",
    "def score_hand(hand):\n",
    "    score = 0\n",
    "    for card in hand:\n",
    "        score = score + score_dict[card]\n",
    "    return score\n"
   ]
  },
  {
   "cell_type": "code",
   "execution_count": 201,
   "id": "f78da67f",
   "metadata": {},
   "outputs": [
    {
     "name": "stdout",
     "output_type": "stream",
     "text": [
      "Game Start\n",
      "\n",
      "Dealer Hands\n",
      "['♥-9', '♣-King'] 19\n",
      "\n",
      "\n",
      "Player hands\n",
      "['♠-8', '♣-10'] 18\n",
      "Deal(1) or Stop(0):1\n",
      "['♠-8', '♣-10', '♠-2'] 20\n"
     ]
    }
   ],
   "source": [
    "print('Game Start\\n')\n",
    "random.shuffle(Deck)\n",
    "print('Dealer Hands')\n",
    "dealer_hand = [Deck.pop() for _ in range(2)]\n",
    "print(dealer_hand, score_hand(dealer_hand))\n",
    "    \n",
    "print('\\n\\nPlayer hands')\n",
    "player_hand = [Deck.pop() for _ in range(2)]\n",
    "print(player_hand, score_hand(player_hand))\n",
    "\n",
    "if score_hand(player_hand) < 21:\n",
    "    ans = int(input('Deal(1) or Stop(0):'))\n",
    "    if ans == 1:\n",
    "        player_hand.append(Deck.pop())\n",
    "        print(player_hand, score_hand(player_hand))"
   ]
  }
 ],
 "metadata": {
  "kernelspec": {
   "display_name": "Python 3 (ipykernel)",
   "language": "python",
   "name": "python3"
  },
  "language_info": {
   "codemirror_mode": {
    "name": "ipython",
    "version": 3
   },
   "file_extension": ".py",
   "mimetype": "text/x-python",
   "name": "python",
   "nbconvert_exporter": "python",
   "pygments_lexer": "ipython3",
   "version": "3.10.9"
  }
 },
 "nbformat": 4,
 "nbformat_minor": 5
}
