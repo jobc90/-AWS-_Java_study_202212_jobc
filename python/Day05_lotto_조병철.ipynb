{
 "cells": [
  {
   "cell_type": "code",
   "execution_count": 70,
   "id": "28ece4c4",
   "metadata": {},
   "outputs": [
    {
     "name": "stdout",
     "output_type": "stream",
     "text": [
      "[['5', '17', '26', '27', '35', '38', '1'], ['21', '26', '30', '32', '33', '35', '44'], ['6', '12', '31', '35', '38', '43', '17']]\n"
     ]
    },
    {
     "data": {
      "text/plain": [
       "1"
      ]
     },
     "execution_count": 70,
     "metadata": {},
     "output_type": "execute_result"
    }
   ],
   "source": [
    "csv_data=[]\n",
    "with open('lott.csv') as f:\n",
    "    for line in f:\n",
    "        csv_data.append(line[0:-1].split(','))\n",
    "        #csv_data.append(line.replace('\\n', '').split(','))\n",
    "print(csv_data[:3])\n",
    "int(csv_data[0][-1])\n"
   ]
  },
  {
   "cell_type": "code",
   "execution_count": 91,
   "id": "ccfd527b",
   "metadata": {},
   "outputs": [
    {
     "name": "stdout",
     "output_type": "stream",
     "text": [
      "5\n",
      "1 146\n",
      "2 141\n",
      "3 140\n",
      "4 140\n",
      "5 140\n",
      "6 134\n",
      "7 138\n",
      "8 136\n",
      "9 113\n",
      "10 140\n",
      "11 143\n",
      "12 155\n",
      "13 149\n",
      "14 150\n",
      "15 144\n",
      "16 138\n",
      "17 152\n",
      "18 155\n",
      "19 138\n",
      "20 147\n",
      "21 142\n",
      "22 121\n",
      "23 125\n",
      "24 139\n",
      "25 134\n",
      "26 142\n",
      "27 152\n",
      "28 126\n",
      "29 133\n",
      "30 125\n",
      "31 142\n",
      "32 121\n",
      "33 146\n",
      "34 161\n",
      "35 137\n",
      "36 142\n",
      "37 146\n",
      "38 139\n",
      "39 150\n",
      "40 145\n",
      "41 131\n",
      "42 138\n",
      "43 148\n",
      "44 141\n"
     ]
    }
   ],
   "source": [
    "#1. 빈도수 (mode): 숫자별 카운트 (몇번이나 나왔나..)\n",
    "#2. 회차별 - 평균값, 표준편차\n",
    "\n",
    "for e in csv_data:\n",
    "    for i, s in enumerate(e):\n",
    "        e[i] = int(s)\n",
    "#print(csv_data)\n",
    "print(csv_data[0][0])\n",
    "\n",
    "num_list = []\n",
    "\n",
    "\n",
    "\n",
    "for i in csv_data:\n",
    "    for n in range(6):\n",
    "        num_list.append(i[n])\n",
    "\n",
    "num_list.count(1)       \n",
    "\n",
    "    \n",
    "num_count = []\n",
    "\n",
    "for i in range(1, 45):\n",
    "    num_count.append(num_list.count(i))\n",
    "    \n",
    "    print(i, num_list.count(i))\n",
    "    \n",
    "#d1 = dict(zip(num_list, num_count))    \n",
    "    \n"
   ]
  },
  {
   "cell_type": "code",
   "execution_count": null,
   "id": "ac488328",
   "metadata": {},
   "outputs": [],
   "source": []
  }
 ],
 "metadata": {
  "kernelspec": {
   "display_name": "Python 3 (ipykernel)",
   "language": "python",
   "name": "python3"
  },
  "language_info": {
   "codemirror_mode": {
    "name": "ipython",
    "version": 3
   },
   "file_extension": ".py",
   "mimetype": "text/x-python",
   "name": "python",
   "nbconvert_exporter": "python",
   "pygments_lexer": "ipython3",
   "version": "3.10.9"
  }
 },
 "nbformat": 4,
 "nbformat_minor": 5
}
