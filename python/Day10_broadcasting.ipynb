{
 "cells": [
  {
   "cell_type": "code",
   "execution_count": 5,
   "id": "6d7625e3",
   "metadata": {},
   "outputs": [
    {
     "name": "stdout",
     "output_type": "stream",
     "text": [
      "[0 1 2 3 4 5 6 7 8 9] [100 101 102 103 104 105 106 107 108 109]\n",
      "[100 102 104 106 108 110 112 114 116 118]\n",
      "[5 5 5 5 5 5 5 5 5 5]\n",
      "[ 5  6  7  8  9 10 11 12 13 14]\n",
      "[ 5  6  7  8  9 10 11 12 13 14]\n"
     ]
    }
   ],
   "source": [
    "import numpy as np\n",
    "\n",
    "a1 = np.arange(10)\n",
    "a2 = np.arange(100,110)\n",
    "print(a1, a2)\n",
    "print(a1 + a2)\n",
    "a3 = np.array([5]*10)\n",
    "print(a3)\n",
    "print(a1 + a3)\n",
    "print(a1 + 5)"
   ]
  },
  {
   "cell_type": "code",
   "execution_count": 7,
   "id": "b5ca4a07",
   "metadata": {},
   "outputs": [
    {
     "name": "stdout",
     "output_type": "stream",
     "text": [
      "[  0   2   4   6   8  10  12  14  16  18  20  22  24  26  28  30  32  34\n",
      "  36  38  40  42  44  46  48  50  52  54  56  58  60  62  64  66  68  70\n",
      "  72  74  76  78  80  82  84  86  88  90  92  94  96  98 100]\n",
      "7905\n"
     ]
    }
   ],
   "source": [
    "#f(x) = 3x+5\n",
    "#x=0에서 100사이 짝수일때 f(x)의 합.\n",
    "x = np.arange(0,101,2)\n",
    "print(x)\n",
    "print(sum(3*x+5))"
   ]
  },
  {
   "cell_type": "code",
   "execution_count": 8,
   "id": "9874819a",
   "metadata": {},
   "outputs": [
    {
     "name": "stdout",
     "output_type": "stream",
     "text": [
      "[[ 0  1  2  3  4  5]\n",
      " [ 6  7  8  9 10 11]\n",
      " [12 13 14 15 16 17]\n",
      " [18 19 20 21 22 23]\n",
      " [24 25 26 27 28 29]]\n",
      "[0 1 2 3 4 5]\n",
      "[[100 101 102 103 104 105]\n",
      " [106 107 108 109 110 111]\n",
      " [112 113 114 115 116 117]\n",
      " [118 119 120 121 122 123]\n",
      " [124 125 126 127 128 129]]\n"
     ]
    }
   ],
   "source": [
    "a2 = np.arange(30).reshape(5,6)\n",
    "print(a2)\n",
    "\n",
    "a3 = np.arange(6)\n",
    "print(a3)\n",
    "\n",
    "a4 = np.arange(100,130). reshape(5,6)\n",
    "print(a4)"
   ]
  },
  {
   "cell_type": "code",
   "execution_count": 9,
   "id": "12f7d499",
   "metadata": {},
   "outputs": [
    {
     "name": "stdout",
     "output_type": "stream",
     "text": [
      "[[ 0  2  4  6  8 10]\n",
      " [ 6  8 10 12 14 16]\n",
      " [12 14 16 18 20 22]\n",
      " [18 20 22 24 26 28]\n",
      " [24 26 28 30 32 34]]\n"
     ]
    }
   ],
   "source": [
    "print(a2 + a3)\n",
    "\n",
    "# a2 : (5,6)\n",
    "# 스칼라\n",
    "# a3 : (6,)\n",
    "# a4 : (5,6)"
   ]
  },
  {
   "cell_type": "code",
   "execution_count": 12,
   "id": "206998af",
   "metadata": {},
   "outputs": [
    {
     "name": "stdout",
     "output_type": "stream",
     "text": [
      "(3, 5, 7, 8)\n"
     ]
    }
   ],
   "source": [
    "a10 = np.arange(3*5*7*8).reshape(3,5,7,8)\n",
    "print(a10.shape)\n",
    "# 스칼라\n",
    "# (8,)\n",
    "# (7, 8)\n",
    "# (5, 7, 8)\n",
    "# (3, 5, 7, 8)"
   ]
  },
  {
   "cell_type": "code",
   "execution_count": 36,
   "id": "38610f0b",
   "metadata": {},
   "outputs": [
    {
     "name": "stdout",
     "output_type": "stream",
     "text": [
      "[ 34 106 178 250 322]\n"
     ]
    }
   ],
   "source": [
    "a15 = np.arange(15).reshape(5,3)\n",
    "#print(a15)\n",
    "# axis1 3개의 값 중\n",
    "# - 첫번째는 곱하기 2\n",
    "# - 두번째는 곱하기 10\n",
    "# - 세번째는 곱하기 12\n",
    "# axis0을 따라 합계 구하기\n",
    "\n",
    "x = np.array([2, 10, 12])\n",
    "#print(x)\n",
    "x1 = a15*x\n",
    "print(np.sum(x1, axis = 1))\n",
    "\n"
   ]
  }
 ],
 "metadata": {
  "kernelspec": {
   "display_name": "Python 3 (ipykernel)",
   "language": "python",
   "name": "python3"
  },
  "language_info": {
   "codemirror_mode": {
    "name": "ipython",
    "version": 3
   },
   "file_extension": ".py",
   "mimetype": "text/x-python",
   "name": "python",
   "nbconvert_exporter": "python",
   "pygments_lexer": "ipython3",
   "version": "3.10.9"
  }
 },
 "nbformat": 4,
 "nbformat_minor": 5
}
