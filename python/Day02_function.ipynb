{
 "cells": [
  {
   "cell_type": "code",
   "execution_count": 1,
   "id": "da7add77",
   "metadata": {},
   "outputs": [
    {
     "name": "stdout",
     "output_type": "stream",
     "text": [
      "myfunction\n"
     ]
    }
   ],
   "source": [
    "# 함수\n",
    "#define\n",
    "def function_name():\n",
    "    print('myfunction')\n",
    "#실행\n",
    "function_name()"
   ]
  },
  {
   "cell_type": "code",
   "execution_count": 16,
   "id": "3116dbca",
   "metadata": {},
   "outputs": [
    {
     "name": "stdout",
     "output_type": "stream",
     "text": [
      "myfn1\n",
      "abc\n",
      "10 20\n",
      "10 20\n",
      "1\n",
      "2\n",
      "3\n",
      "4\n",
      "[1, 2, 3, 4]\n",
      "a b c\n",
      "a b c\n",
      "fn8 start\n",
      "abc def\n",
      "myfn9\n",
      "None\n",
      "10\n",
      "(10, 20)\n"
     ]
    }
   ],
   "source": [
    "# function argument\n",
    "# 매개변수\n",
    "def myfn1():\n",
    "    print('myfn1')\n",
    "    \n",
    "myfn1()\n",
    "\n",
    "#포지션 argument\n",
    "def myfn2(arg1):\n",
    "    print(arg1)\n",
    "\n",
    "myfn2('abc')\n",
    "\n",
    "def myfn3(arg1, arg2):\n",
    "    print(arg1, arg2)\n",
    "\n",
    "myfn3(10, 20)\n",
    "\n",
    "#키워드 argument\n",
    "def myfn4(arg1='a', arg2='b'):\n",
    "    print(arg1, arg2)\n",
    "    \n",
    "myfn4(arg1=10, arg2=20)\n",
    "\n",
    "def myfn5(*arg1):\n",
    "    for i in arg1:\n",
    "        print(i)\n",
    "\n",
    "myfn5(1, 2, 3, 4)\n",
    "myfn5([1, 2, 3, 4])\n",
    "\n",
    "\n",
    "# *뒤에는 키워드 argument를 쓰겠다는 표시\n",
    "def myfn6(arg1, *, arg2, arg3):\n",
    "    print(arg1, arg2, arg3)\n",
    "\n",
    "myfn6('a', arg2 = 'b', arg3 = 'c')\n",
    "\n",
    "# /앞에는 포지션 argument를 쓰겠다는 표시\n",
    "def myfn7(arg1, /, arg2, arg3):\n",
    "    print(arg1, arg2, arg3)\n",
    "    \n",
    "myfn6('a', arg2 = 'b', arg3 = 'c')\n",
    "\n",
    "# 함수도 매개변수로 넣을 수 있다.\n",
    "def myfn8(arg1, arg2):\n",
    "    print(arg1)\n",
    "    arg2('abc', 'def')\n",
    "\n",
    "myfn8('fn8 start', myfn4)\n",
    "\n",
    "# function return\n",
    "\n",
    "def myfn9():\n",
    "    print('myfn9')\n",
    "\n",
    "ret_value = myfn9()\n",
    "print(ret_value)\n",
    "\n",
    "def myfn10():\n",
    "    return 10\n",
    "\n",
    "ret_value = myfn10()\n",
    "print(ret_value)\n",
    "\n",
    "def myfn11():\n",
    "    return 10, 20\n",
    "\n",
    "ret_value = myfn11()\n",
    "print(ret_value)"
   ]
  }
 ],
 "metadata": {
  "kernelspec": {
   "display_name": "Python 3 (ipykernel)",
   "language": "python",
   "name": "python3"
  },
  "language_info": {
   "codemirror_mode": {
    "name": "ipython",
    "version": 3
   },
   "file_extension": ".py",
   "mimetype": "text/x-python",
   "name": "python",
   "nbconvert_exporter": "python",
   "pygments_lexer": "ipython3",
   "version": "3.10.9"
  }
 },
 "nbformat": 4,
 "nbformat_minor": 5
}
