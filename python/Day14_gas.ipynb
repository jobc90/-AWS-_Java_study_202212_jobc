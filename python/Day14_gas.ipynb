{
 "cells": [
  {
   "cell_type": "markdown",
   "id": "a443edd4",
   "metadata": {},
   "source": [
    "### kosis 부산광역시 가스공급량 2010-2020\n",
    "- 년도별 도시가스/프로판 판매량 비율\n",
    "  프로판 가스보다 도시가스 사용량이 점점 늘어나는가\n",
    "\n",
    "- 년도별 도시가스, 년도별 프로판 사용량 상관도\n",
    "  도시가스 사용량이 점점 많아지고 있는가\n",
    "  프로판 가스 사용량은 점점 줄어들고 있는가\n",
    "\n",
    "- 도시가스\n",
    "\t년도별 겨울(10, 11, 12, 1, 2, 3) 평균사용량/\n",
    "\t비겨울(4, 5, 6, 7, 8, 9) 평균사용량\n",
    "\t--> test (평균 사용량에 차이가 있는가.) \n",
    "\n",
    "### 같은 분석을, 프로판/부탄 가스를 대상으로 실행."
   ]
  },
  {
   "cell_type": "code",
   "execution_count": 2,
   "id": "5c30c540",
   "metadata": {},
   "outputs": [],
   "source": [
    "import numpy as np\n",
    "import math\n",
    "import pickle\n",
    "import matplotlib.pyplot as plt\n",
    "from scipy import stats\n",
    "\n",
    "def my_split(s):\n",
    "    block_start = False\n",
    "    start_index = 0\n",
    "    ret_list=[]\n",
    "    for i, c in enumerate(s):\n",
    "        if block_start==False:\n",
    "            if c==',':\n",
    "                ret_list.append(s[start_index:i])\n",
    "                start_index=i+1\n",
    "            elif c=='\"':\n",
    "                block_start=True\n",
    "                start_index = i\n",
    "        else:\n",
    "            if c=='\"':\n",
    "                block_start=False\n",
    "    if s[-1]!=',':\n",
    "        ret_list.append(s[start_index:])\n",
    "    return ret_list\n",
    "\n",
    "def split_len(data_list):\n",
    "    len_list=[]\n",
    "    for e in data_list:\n",
    "        len_list.append(len(e))\n",
    "    #print(set(len_list))\n",
    "    if len(set(len_list))>1:\n",
    "        for i in set(len_list):\n",
    "            print(i, len_list.count(i))\n",
    "    return set(len_list)\n",
    "\n",
    "def dist_np(p1, p2): #  [3,10]  [5,25]\n",
    "    return math.sqrt(sum((p2-p1)**2))\n",
    "\n",
    "def process_product_names(s):\n",
    "    r = []\n",
    "    remove_after = ['(', ' 외', ' 외']\n",
    "    split_at = ['+', ',']\n",
    "    for c in remove_after:\n",
    "        if c in s:\n",
    "            s = s[:s.index(c)]\n",
    "        \n",
    "    for c in split_at:\n",
    "        if c in s:\n",
    "            r = r + s.split(c)\n",
    "            \n",
    "    if len(r) == 0:\n",
    "        r.append(s)\n",
    "    \n",
    "    return r\n",
    "\n",
    "# sample1 = 'productA+productB'\n",
    "# sample2 = 'productA,productB'\n",
    "# sample3 = 'product(A+B)'\n",
    "# sample4 = 'product 외 abc'\n",
    "# sample5 = 'product'\n",
    "\n",
    "# print(process_product_names(sample1)) #['productA', 'productB']\n",
    "# print(process_product_names(sample2))\n",
    "# print(process_product_names(sample3))\n",
    "# print(process_product_names(sample4))\n",
    "# print(process_product_names(sample5))"
   ]
  },
  {
   "cell_type": "code",
   "execution_count": 3,
   "id": "ee948ea4",
   "metadata": {},
   "outputs": [
    {
     "name": "stdout",
     "output_type": "stream",
     "text": [
      "{8}\n",
      "[[     1 179086    311   8775     64  26227]\n",
      " [     1 139496    311   8745     64  23518]\n",
      " [     1 143581    311   8092     64  23959]]\n"
     ]
    }
   ],
   "source": [
    "np.set_printoptions(precision=5, suppress=True)\n",
    "\n",
    "raw_data=[]\n",
    "with open ('가스공급량_20230217170926.csv') as f:\n",
    "    for line in f:\n",
    "          raw_data.append(line[:-1].split(','))\n",
    "t = set()            \n",
    "for e in raw_data:\n",
    "    t.add(len(e))\n",
    "print(t)\n",
    "\n",
    "np_data = np.array(raw_data[2:])\n",
    "np_data = np_data[:, 2:].astype(np.int64)\n",
    "print(np_data[:3])"
   ]
  },
  {
   "cell_type": "code",
   "execution_count": 46,
   "id": "1696ae8f",
   "metadata": {},
   "outputs": [
    {
     "name": "stdout",
     "output_type": "stream",
     "text": [
      "(0, '\"시점\"')\n",
      "(1, '\"월별(1)\"')\n",
      "(2, '판매소수 (개)')\n",
      "(3, '판매량')\n",
      "(4, '판매소수 (개)')\n",
      "(5, '판매량')\n",
      "(6, '판매소수 (개)')\n",
      "(7, '판매량')\n"
     ]
    }
   ],
   "source": [
    "by_year = np.add.redu"
   ]
  }
 ],
 "metadata": {
  "kernelspec": {
   "display_name": "Python 3 (ipykernel)",
   "language": "python",
   "name": "python3"
  },
  "language_info": {
   "codemirror_mode": {
    "name": "ipython",
    "version": 3
   },
   "file_extension": ".py",
   "mimetype": "text/x-python",
   "name": "python",
   "nbconvert_exporter": "python",
   "pygments_lexer": "ipython3",
   "version": "3.10.9"
  }
 },
 "nbformat": 4,
 "nbformat_minor": 5
}
