{
 "cells": [
  {
   "cell_type": "markdown",
   "id": "94666753",
   "metadata": {},
   "source": [
    "### 전국일방통행도로표준데이터\n",
    "- 데이터 전처리\n",
    "    : 시도명, 지정사유, 지정연도, 도로폭, 도로차로수, 보차분리여부\n",
    "\n",
    "- 결측치 처리(column 개별 기준)\n",
    "\n",
    "- 오류치 처리 (unit의 차이)\n",
    "\n",
    "- 이상치 처리 (iqr 사용)\n",
    "\n",
    "- 전처리 내용 정리"
   ]
  },
  {
   "cell_type": "code",
   "execution_count": 2,
   "id": "a04ebd72",
   "metadata": {},
   "outputs": [
    {
     "name": "stdout",
     "output_type": "stream",
     "text": [
      "Index(['시도명', '시군구명', '도로명', '지정사유', '지정연도', '도로폭', '도로연장', '도로차로수', '보차분리여부',\n",
      "       '시작점위도', '시작점경도', '종료점위도', '종료점경도', '도로안내표지일련번호', '관리기관명', '관리기관전화번호',\n",
      "       '데이터기준일자', '제공기관코드', '제공기관명'],\n",
      "      dtype='object')\n"
     ]
    }
   ],
   "source": [
    "import numpy as np\n",
    "import pandas as pd\n",
    "import requests\n",
    "import matplotlib.pyplot as plt\n",
    "\n",
    "pd_rawdata = pd.read_csv('전국일방통행도로표준데이터.csv', encoding='cp949')\n",
    "# EDA : Exploratory Data Aanalysis\n",
    "print(pd_rawdata.columns)"
   ]
  },
  {
   "cell_type": "code",
   "execution_count": 3,
   "id": "88496d9d",
   "metadata": {},
   "outputs": [
    {
     "name": "stdout",
     "output_type": "stream",
     "text": [
      "Index(['시도명', '지정사유', '지정연도', '도로폭', '도로차로수', '보차분리여부'], dtype='object')\n",
      "시도명        object\n",
      "지정사유       object\n",
      "지정연도      float64\n",
      "도로폭       float64\n",
      "도로차로수     float64\n",
      "보차분리여부     object\n",
      "dtype: object\n",
      "0       Y\n",
      "1       Y\n",
      "2       Y\n",
      "3       Y\n",
      "4       Y\n",
      "       ..\n",
      "2154    N\n",
      "2155    N\n",
      "2156    N\n",
      "2157    N\n",
      "2158    N\n",
      "Name: 보차분리여부, Length: 2159, dtype: object\n"
     ]
    }
   ],
   "source": [
    "column_selection = ['시도명', '지정사유', '지정연도', '도로폭', '도로차로수', '보차분리여부']\n",
    "pd_data = pd_rawdata[column_selection]\n",
    "\n",
    "print(pd_data.columns)\n",
    "print(pd_data.dtypes)\n",
    "print(pd_data['보차분리여부'])"
   ]
  },
  {
   "cell_type": "code",
   "execution_count": 5,
   "id": "f8782b5e",
   "metadata": {},
   "outputs": [
    {
     "name": "stdout",
     "output_type": "stream",
     "text": [
      "시도명         object\n",
      "지정사유        object\n",
      "지정연도       float64\n",
      "도로폭        float64\n",
      "도로차로수      float64\n",
      "보차분리여부    category\n",
      "dtype: object\n"
     ]
    },
    {
     "name": "stderr",
     "output_type": "stream",
     "text": [
      "C:\\Users\\ITPS\\AppData\\Local\\Temp\\ipykernel_6120\\3253091795.py:3: SettingWithCopyWarning: \n",
      "A value is trying to be set on a copy of a slice from a DataFrame.\n",
      "Try using .loc[row_indexer,col_indexer] = value instead\n",
      "\n",
      "See the caveats in the documentation: https://pandas.pydata.org/pandas-docs/stable/user_guide/indexing.html#returning-a-view-versus-a-copy\n",
      "  pd_data['보차분리여부'] = pd_data['보차분리여부'].astype('category')\n"
     ]
    }
   ],
   "source": [
    "# Y or N 값이기 때문에 category로 자료형 변경\n",
    "\n",
    "pd_data['보차분리여부'] = pd_data['보차분리여부'].astype('category')\n",
    "print(pd_data.dtypes)"
   ]
  },
  {
   "cell_type": "code",
   "execution_count": 6,
   "id": "cb850320",
   "metadata": {},
   "outputs": [
    {
     "name": "stdout",
     "output_type": "stream",
     "text": [
      "True     1609\n",
      "False     550\n",
      "Name: 지정연도, dtype: int64\n",
      "시도명         object\n",
      "지정사유        object\n",
      "지정연도        object\n",
      "도로폭        float64\n",
      "도로차로수      float64\n",
      "보차분리여부    category\n",
      "dtype: object\n"
     ]
    },
    {
     "name": "stderr",
     "output_type": "stream",
     "text": [
      "C:\\Users\\ITPS\\AppData\\Local\\Temp\\ipykernel_6120\\2873691969.py:7: SettingWithCopyWarning: \n",
      "A value is trying to be set on a copy of a slice from a DataFrame.\n",
      "Try using .loc[row_indexer,col_indexer] = value instead\n",
      "\n",
      "See the caveats in the documentation: https://pandas.pydata.org/pandas-docs/stable/user_guide/indexing.html#returning-a-view-versus-a-copy\n",
      "  pd_data['지정연도'] = pd_data['지정연도'].astype(np.object_)\n",
      "C:\\Users\\ITPS\\AppData\\Local\\Temp\\ipykernel_6120\\2873691969.py:9: SettingWithCopyWarning: \n",
      "A value is trying to be set on a copy of a slice from a DataFrame\n",
      "\n",
      "See the caveats in the documentation: https://pandas.pydata.org/pandas-docs/stable/user_guide/indexing.html#returning-a-view-versus-a-copy\n",
      "  pd_data['지정연도'].replace(np.NaN, '알 수 없음', inplace=True)\n"
     ]
    }
   ],
   "source": [
    "# 지정연도 2159개의 값 중 1609개의 null값\n",
    "# 유의미한 데이터로 보기에는 힘듦\n",
    "# 년도만 표기되고 날짜는 표기되지 않아 오브젝트로 자료형 처리\n",
    "# 지정연도 결측치 처리 -> 지정연도를 추측할 데이터가 없으므로 '알 수 없음'으로 처리\n",
    "print(pd_data['지정연도'].isna().value_counts())\n",
    "\n",
    "pd_data['지정연도'] = pd_data['지정연도'].astype(np.object_)\n",
    "\n",
    "pd_data['지정연도'].replace(np.NaN, '알 수 없음', inplace=True)\n",
    "\n",
    "print(pd_data.dtypes)"
   ]
  },
  {
   "cell_type": "code",
   "execution_count": 7,
   "id": "22d3e3f9",
   "metadata": {},
   "outputs": [
    {
     "name": "stderr",
     "output_type": "stream",
     "text": [
      "C:\\Users\\ITPS\\AppData\\Local\\Temp\\ipykernel_6120\\99041670.py:2: SettingWithCopyWarning: \n",
      "A value is trying to be set on a copy of a slice from a DataFrame\n",
      "\n",
      "See the caveats in the documentation: https://pandas.pydata.org/pandas-docs/stable/user_guide/indexing.html#returning-a-view-versus-a-copy\n",
      "  pd_data['지정사유'].replace(np.NaN, '사유없음', inplace=True)\n"
     ]
    }
   ],
   "source": [
    "\n",
    "# 지정사유 결측치 처리 -> 사유를 추측할 데이터가 없으므로 '사유없음'으로 처리\n",
    "pd_data['지정사유'].replace(np.NaN, '사유없음', inplace=True)"
   ]
  },
  {
   "cell_type": "code",
   "execution_count": 8,
   "id": "c773b5ec",
   "metadata": {},
   "outputs": [
    {
     "name": "stdout",
     "output_type": "stream",
     "text": [
      "[32.]\n",
      "[nan]\n",
      "[ 4. nan]\n"
     ]
    },
    {
     "name": "stderr",
     "output_type": "stream",
     "text": [
      "C:\\Users\\ITPS\\AppData\\Local\\Temp\\ipykernel_6120\\3365862967.py:18: SettingWithCopyWarning: \n",
      "A value is trying to be set on a copy of a slice from a DataFrame\n",
      "\n",
      "See the caveats in the documentation: https://pandas.pydata.org/pandas-docs/stable/user_guide/indexing.html#returning-a-view-versus-a-copy\n",
      "  pd_data['도로차로수'].replace(np.NaN, '5', inplace=True)\n"
     ]
    }
   ],
   "source": [
    "# 도로차로수 결측치 처리\n",
    "# 도로폭32m의 도로차로수가 NaN으로 입력되어 있음.\n",
    "# 가장 가까운값의 도로차로수 값을 얻었을 때, 24m의 도로폭이 4차선의 값을 가짐.\n",
    "# 8미터의 도로폭 차이를 생각해 봤을때, 최소 5차선 이상의 값을 가진다고 판단하여 5차선으로 수정\n",
    "\n",
    "df = pd.DataFrame(pd_data)\n",
    "value = df.loc[df['도로차로수'].isna(), '도로폭'].values\n",
    "print(value)\n",
    "\n",
    "filtered_df = df[df['도로폭'] == 32]\n",
    "values = filtered_df['도로차로수'].values\n",
    "print(values)\n",
    "\n",
    "value = df.loc[df['도로폭'].between(24, 40), '도로차로수'].values\n",
    "print(value)\n",
    "\n",
    "\n",
    "pd_data['도로차로수'].replace(np.NaN, '5', inplace=True)"
   ]
  },
  {
   "cell_type": "code",
   "execution_count": 15,
   "id": "4f0cd8a4",
   "metadata": {},
   "outputs": [
    {
     "name": "stdout",
     "output_type": "stream",
     "text": [
      "(2159,)\n"
     ]
    },
    {
     "data": {
      "text/plain": [
       "<bound method NDFrame.describe of 0       1.0\n",
       "1       1.0\n",
       "2       1.0\n",
       "3       1.0\n",
       "4       1.0\n",
       "       ... \n",
       "2154    1.0\n",
       "2155    1.0\n",
       "2156    1.0\n",
       "2157    1.0\n",
       "2158    1.0\n",
       "Name: 도로차로수, Length: 2159, dtype: object>"
      ]
     },
     "execution_count": 15,
     "metadata": {},
     "output_type": "execute_result"
    }
   ],
   "source": [
    "print(pd_data['도로차로수'].shape)\n",
    "pd_data['도로차로수'].describe"
   ]
  },
  {
   "cell_type": "code",
   "execution_count": 21,
   "id": "1fd07d1b",
   "metadata": {},
   "outputs": [
    {
     "name": "stdout",
     "output_type": "stream",
     "text": [
      "['경기도' '경상북도' '제주특별자치도' '인천광역시' '강원도' '경상남도' '서울특별시' '충청남도' '전라남도' '전라북도'\n",
      " '광주광역시' '충청북도']\n",
      "False\n",
      "['경기도' '경상북도' '제주특별자치도' '인천광역시' '강원도' '경상남도' '서울특별시' '충청남도' '전라남도' '전라북도'\n",
      " '광주광역시' '충청북도']\n",
      "False\n"
     ]
    }
   ],
   "source": [
    "pd_raw = pd_data\n",
    "\n",
    "#시도명\n",
    "print(pd_data['시도명'].unique())\n",
    "print(pd_data['시도명'].hasnans)\n",
    "\n",
    "#결측치: 없음\n",
    "\n",
    "# 오류치: 10 --> '강원도'\n",
    "# print(pd_raw[pd_raw['시도명']=='10'])\n",
    "filter1 = pd_raw['시도명']=='10'\n",
    "# pd_data[filter1]['시도명'] = '강원도' #warning\n",
    "pd_data.loc[filter1, '시도명'] = '강원도'\n",
    "\n",
    "print(pd_data['시도명'].unique())\n",
    "print(pd_data['시도명'].hasnans)"
   ]
  },
  {
   "cell_type": "code",
   "execution_count": 26,
   "id": "72c8cdf4",
   "metadata": {},
   "outputs": [
    {
     "name": "stdout",
     "output_type": "stream",
     "text": [
      "['사유없음' '원활' '불편' '안전' '주민건의' '교행불가' '교통소통' '혼잡' '본도로 진입불가' '주택밀집지역'\n",
      " '고가도로' '교통사고 다발' '원통전통시장주차장 출입구' '부채도로' '주민편의' '순환차로' '도로협소' '혼자지역'\n",
      " '차량교행']\n",
      "False\n",
      "['사유없음' '원활' '불편' '안전' '주민건의' '교행불가' '교통소통' '혼잡' '본도로 진입불가' '주택밀집지역'\n",
      " '고가도로' '교통사고 다발' '원통전통시장주차장 출입구' '부채도로' '주민편의' '순환차로' '도로협소' '차량교행']\n",
      "False\n"
     ]
    },
    {
     "name": "stderr",
     "output_type": "stream",
     "text": [
      "C:\\Users\\ITPS\\AppData\\Local\\Temp\\ipykernel_6120\\2538289331.py:27: SettingWithCopyWarning: \n",
      "A value is trying to be set on a copy of a slice from a DataFrame.\n",
      "Try using .loc[row_indexer,col_indexer] = value instead\n",
      "\n",
      "See the caveats in the documentation: https://pandas.pydata.org/pandas-docs/stable/user_guide/indexing.html#returning-a-view-versus-a-copy\n",
      "  pd_data.loc[:, '지정사유'] = pd_data.loc[:, '지정사유'].apply(e1)\n"
     ]
    }
   ],
   "source": [
    "# 지정사유\n",
    "\n",
    "print(pd_data['지정사유'].unique())\n",
    "print(pd_data['지정사유'].hasnans)\n",
    "\n",
    "\n",
    "#결측치\n",
    "na_filter = pd_data['지정사유'].isna()\n",
    "#print(na_filter.value_counts())\n",
    "pd_data.loc[na_filter, '지정사유'] = '불분명'   # pd_data['지정사유'].fillna('불분명')\n",
    "\n",
    "#오류치: 같은내용 다른이름 정리\n",
    "def e1(x):\n",
    "    if '원활' in x:\n",
    "        return '원활'\n",
    "    elif '불편' in x:\n",
    "        return '불편'\n",
    "    elif '안전' in x:\n",
    "        return '안전'\n",
    "    elif '혼잡' in x:\n",
    "        return '혼잡'\n",
    "    elif '혼자' in x:\n",
    "        return '혼잡'\n",
    "    else:\n",
    "        return x\n",
    "\n",
    "pd_data.loc[:, '지정사유'] = pd_data.loc[:, '지정사유'].apply(e1)\n",
    "\n",
    "# 이상치(outline): 없음\n",
    "\n",
    "print(pd_data['지정사유'].unique())\n",
    "print(pd_data['지정사유'].hasnans)"
   ]
  },
  {
   "cell_type": "code",
   "execution_count": 28,
   "id": "975ac5d6",
   "metadata": {},
   "outputs": [
    {
     "name": "stdout",
     "output_type": "stream",
     "text": [
      "['알 수 없음' 2017.0 2018.0 2014.0 2005.0 2019.0 2022.0 2016.0 2012.0 1999.0\n",
      " 2021.0 2015.0 2013.0 2004.0 2002.0 2008.0 2009.0 2010.0 2011.0 1998.0\n",
      " 2001.0 2003.0 2006.0 2000.0 1995.0 2020.0 2007.0 1990.0 1997.0 1996.0]\n",
      "False\n",
      "False    2159\n",
      "Name: 지정연도, dtype: int64\n"
     ]
    }
   ],
   "source": [
    "# 지정연도\n",
    "print(pd_data['지정연도'].unique())\n",
    "print(pd_data['지정연도'].hasnans)\n",
    "\n",
    "# 결측치\n",
    "na_filter = pd_data['지정연도'].isna()\n",
    "print(na_filter.value_counts())\n"
   ]
  },
  {
   "cell_type": "code",
   "execution_count": 39,
   "id": "63c14819",
   "metadata": {},
   "outputs": [
    {
     "name": "stdout",
     "output_type": "stream",
     "text": [
      "[ 5.   9.   4.   6.   7.5  8.   7.  12.  15.  16.   3.5  5.5  3.  10.\n",
      " 14.   4.5  6.5 15.5  2.5  7.1  9.8  9.7  6.3  3.7  8.5  8.2 14.6  2.\n",
      "  4.9  4.6  2.8  4.8  5.6  8.1  6.4  4.1  6.6  5.7  4.7  4.3  3.8  9.1\n",
      "  7.4  5.3  5.8  4.2 17.  13.5 24.  11.   9.5 22.  19.   3.2  4.4  5.1\n",
      "  5.9  3.9 32.   5.4  3.4 18.   7.3  3.3 13.   7.6  8.4  5.2  7.8  6.2\n",
      "  6.7  8.8  7.7  8.3  6.1  6.9  6.8]\n",
      "False\n",
      "-0.5 11.5\n",
      "False    2104\n",
      "True       55\n",
      "Name: 도로폭, dtype: int64\n",
      "[ 5.   9.   4.   6.   7.5  8.   7.   nan  3.5  5.5  3.  10.   4.5  6.5\n",
      "  2.5  7.1  9.8  9.7  6.3  3.7  8.5  8.2  2.   4.9  4.6  2.8  4.8  5.6\n",
      "  8.1  6.4  4.1  6.6  5.7  4.7  4.3  3.8  9.1  7.4  5.3  5.8  4.2 11.\n",
      "  9.5  3.2  4.4  5.1  5.9  3.9  5.4  3.4  7.3  3.3  7.6  8.4  5.2  7.8\n",
      "  6.2  6.7  8.8  7.7  8.3  6.1  6.9  6.8]\n",
      "True\n"
     ]
    }
   ],
   "source": [
    "#도로폭\n",
    "print(pd_data['도로폭'].unique())\n",
    "print(pd_data['도로폭'].hasnans)\n",
    "\n",
    "# 결측치, 오류치 : 없음\n",
    "\n",
    "# 이상치 : upper보다 큰 겂을 np.NaN으로 교체, 후에 dropna() 이용 샘플 삭제\n",
    "# print(pd_data['도로폭'].describe())\n",
    "# print(pd_data['도로폭'].describe())\n",
    "q1, q3 = pd_data['도로폭'].quantile([0.25, 0.75])\n",
    "iqr = q3 - q1\n",
    "upper = q3 + 1.5*iqr\n",
    "lower = q1 - 1.5*iqr\n",
    "print(lower, upper)\n",
    "filter1 = pd_data['도로폭']>upper\n",
    "print(filter1.value_counts())\n",
    "pd_data.loc[filter1, '도로폭'] = np.NaN\n",
    "\n",
    "print(pd_data['도로폭'].unique())\n",
    "print(pd_data['도로폭'].hasnans)"
   ]
  },
  {
   "cell_type": "code",
   "execution_count": 34,
   "id": "e1fe94cb",
   "metadata": {},
   "outputs": [
    {
     "name": "stdout",
     "output_type": "stream",
     "text": [
      "[1.0 2.0 4.0 3.0 5.0 '5' 60.0]\n",
      "False\n",
      "False    2159\n",
      "Name: 도로차로수, dtype: int64\n",
      "False    2158\n",
      "True        1\n",
      "Name: 도로차로수, dtype: int64\n",
      "[1.0 2.0 4.0 3.0 5.0 '5' nan]\n",
      "True\n"
     ]
    }
   ],
   "source": [
    "# 도로 차로수\n",
    "print(pd_data['도로차로수'].unique())\n",
    "print(pd_data['도로차로수'].hasnans)\n",
    "\n",
    "#결측치: 1개 샘플, 후에 dropna()이용 제서.\n",
    "na_filter = pd_data['도로차로수'].isna()\n",
    "print(na_filter.value_counts())\n",
    "\n",
    "# 오류치: 60\n",
    "filter1 = pd_data['도로차로수']==60\n",
    "print(filter1.value_counts())\n",
    "pd_data.loc[filter1, '도로차로수'] = np.NaN\n",
    "\n",
    "# 이상치: 없음\n",
    "print(pd_data['도로차로수'].unique())\n",
    "print(pd_data['도로차로수'].hasnans)"
   ]
  },
  {
   "cell_type": "code",
   "execution_count": 41,
   "id": "e4dd9cbd",
   "metadata": {
    "scrolled": true
   },
   "outputs": [
    {
     "name": "stdout",
     "output_type": "stream",
     "text": [
      "['Y', 'N', NaN]\n",
      "Categories (3, object): [' ', 'N', 'Y']\n",
      "True\n",
      "False    2159\n",
      "Name: 보차분리여부, dtype: int64\n",
      "['Y', 'N', NaN]\n",
      "Categories (3, object): [' ', 'N', 'Y']\n",
      "True\n"
     ]
    }
   ],
   "source": [
    "# 보차분리여부\n",
    "print(pd_data['보차분리여부'].unique())\n",
    "print(pd_data['보차분리여부'].hasnans)\n",
    "\n",
    "#결측치: 1개 ' ' 결측치 --> np.NaN로 대체, 후에 dropna()이용 삭제.\n",
    "na_filter = pd_data['보차분리여부'].isna()\n",
    "\n",
    "filter1 = pd_data['보차분리여부']==' '\n",
    "print(filter1.value_counts())\n",
    "pd_data.loc[filter1, '보차분리여부'] = np.NaN\n",
    "\n",
    "print(pd_data['보차분리여부'].unique())\n",
    "print(pd_data['보차분리여부'].hasnans)"
   ]
  },
  {
   "cell_type": "code",
   "execution_count": 10,
   "id": "7ae41fe1",
   "metadata": {},
   "outputs": [
    {
     "name": "stdout",
     "output_type": "stream",
     "text": [
      "(2159, 6)\n",
      "          시도명  지정사유    지정연도          도로폭   도로차로수 보차분리여부\n",
      "count    2159  2159    2159  2159.000000  2159.0   2159\n",
      "unique     13    32      30          NaN     7.0      3\n",
      "top     서울특별시  사유없음  알 수 없음          NaN     1.0      N\n",
      "freq      755  1567    1609          NaN  2042.0   1657\n",
      "mean      NaN   NaN     NaN     5.917508     NaN    NaN\n",
      "std       NaN   NaN     NaN     2.297448     NaN    NaN\n",
      "min       NaN   NaN     NaN     2.000000     NaN    NaN\n",
      "25%       NaN   NaN     NaN     4.000000     NaN    NaN\n",
      "50%       NaN   NaN     NaN     6.000000     NaN    NaN\n",
      "75%       NaN   NaN     NaN     7.000000     NaN    NaN\n",
      "max       NaN   NaN     NaN    32.000000     NaN    NaN\n",
      "시도명 False\n",
      "지정사유 False\n",
      "지정연도 False\n",
      "도로폭 False\n",
      "도로차로수 False\n",
      "보차분리여부 False\n"
     ]
    }
   ],
   "source": [
    "print(pd_data.shape)\n",
    "print(pd_data.describe(include='all'))\n",
    "\n",
    "for e in pd_data:\n",
    "    print(e, pd_data[e].hasnans)\n",
    "    if pd_data[e].hasnans==True:\n",
    "        print(pd_data[e].isna().value_counts())"
   ]
  },
  {
   "cell_type": "code",
   "execution_count": null,
   "id": "03a4457e",
   "metadata": {},
   "outputs": [],
   "source": []
  }
 ],
 "metadata": {
  "kernelspec": {
   "display_name": "Python 3 (ipykernel)",
   "language": "python",
   "name": "python3"
  },
  "language_info": {
   "codemirror_mode": {
    "name": "ipython",
    "version": 3
   },
   "file_extension": ".py",
   "mimetype": "text/x-python",
   "name": "python",
   "nbconvert_exporter": "python",
   "pygments_lexer": "ipython3",
   "version": "3.10.9"
  }
 },
 "nbformat": 4,
 "nbformat_minor": 5
}
