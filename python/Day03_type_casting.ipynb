{
 "cells": [
  {
   "cell_type": "code",
   "execution_count": 20,
   "id": "75f9c975",
   "metadata": {},
   "outputs": [
    {
     "name": "stdout",
     "output_type": "stream",
     "text": [
      "abc\n",
      "<class 'str'>\n",
      "IndexError\n",
      "-1\n",
      "<class 'int'>\n"
     ]
    }
   ],
   "source": [
    "a = 'abc'\n",
    "print(a)\n",
    "print(type(a))\n",
    "\n",
    "x = []\n",
    "try:\n",
    "    print(x[0])\n",
    "except ValueError:\n",
    "    b = -1\n",
    "except IndexError:\n",
    "    print('IndexError')\n",
    "\n",
    "print(b)\n",
    "print(type(b))"
   ]
  },
  {
   "cell_type": "code",
   "execution_count": null,
   "id": "53635fa0",
   "metadata": {},
   "outputs": [],
   "source": []
  }
 ],
 "metadata": {
  "kernelspec": {
   "display_name": "Python 3 (ipykernel)",
   "language": "python",
   "name": "python3"
  },
  "language_info": {
   "codemirror_mode": {
    "name": "ipython",
    "version": 3
   },
   "file_extension": ".py",
   "mimetype": "text/x-python",
   "name": "python",
   "nbconvert_exporter": "python",
   "pygments_lexer": "ipython3",
   "version": "3.10.9"
  }
 },
 "nbformat": 4,
 "nbformat_minor": 5
}
