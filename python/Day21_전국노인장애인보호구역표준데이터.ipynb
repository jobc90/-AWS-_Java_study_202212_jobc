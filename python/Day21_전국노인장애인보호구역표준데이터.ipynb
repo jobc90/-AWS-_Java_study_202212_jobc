{
 "cells": [
  {
   "cell_type": "markdown",
   "id": "5d5d8bb8",
   "metadata": {},
   "source": [
    "### 1~3 각 개별 jupyter note에서 전처리 후, pickle 또는 csv저장.\n",
    "\n",
    "1. 전국일방통행도로표준데이터\n",
    "    * 시도명, 지정사유, 지정연도, 도로폭, 도로차로수, 보차분리여부\\\n",
    "    \n",
    "2. 전국어린이보호구역표준데이터 시도명 작업 필요\n",
    "    * 시설종류, 관할경찰서명, CCTV설치여부, CCTV설치대수, 제공기관명, 보호구역도로폭\n",
    "\n",
    "3. 전국노인장애인보호구역표준데이터\n",
    "    * 시도명, 제한속도, CCTV설치여부, CCTV설치대수, 보호구역도로폭"
   ]
  },
  {
   "cell_type": "code",
   "execution_count": 142,
   "id": "6cb22cc6",
   "metadata": {},
   "outputs": [
    {
     "name": "stdout",
     "output_type": "stream",
     "text": [
      "Index(['장소유형코드', '대상시설명', '시도명', '시군구명', '시군구코드', '소재지도로명주소', '소재지지번주소', '위도',\n",
      "       '경도', '제한속도', '관리기관명', '관리기관전화번호', '관할경찰서명', 'CCTV설치여부', 'CCTV설치대수',\n",
      "       '보호구역도로폭', '데이터기준일자', '제공기관코드', '제공기관명'],\n",
      "      dtype='object')\n"
     ]
    }
   ],
   "source": [
    "import numpy as np\n",
    "import pandas as pd\n",
    "import requests\n",
    "import matplotlib.pyplot as plt\n",
    "\n",
    "pd_data = pd.read_csv('전국노인장애인보호구역표준데이터.csv', encoding='cp949')\n",
    "# EDA : Exploratory Data Aanalysis\n",
    "print(pd_data.columns)\n",
    "\n"
   ]
  },
  {
   "cell_type": "code",
   "execution_count": 143,
   "id": "dadc64c6",
   "metadata": {},
   "outputs": [
    {
     "name": "stdout",
     "output_type": "stream",
     "text": [
      "Index(['시도명', '제한속도', 'CCTV설치여부', 'CCTV설치대수', '보호구역도로폭'], dtype='object')\n",
      "시도명          object\n",
      "제한속도          int64\n",
      "CCTV설치여부     object\n",
      "CCTV설치대수    float64\n",
      "보호구역도로폭      object\n",
      "dtype: object\n"
     ]
    }
   ],
   "source": [
    "column_selection = ['시도명', '제한속도', 'CCTV설치여부', 'CCTV설치대수', '보호구역도로폭']\n",
    "pd_data = pd_data[column_selection]\n",
    "\n",
    "print(pd_data.columns)\n",
    "print(pd_data.dtypes)"
   ]
  },
  {
   "cell_type": "code",
   "execution_count": 144,
   "id": "7b1e168c",
   "metadata": {},
   "outputs": [
    {
     "name": "stdout",
     "output_type": "stream",
     "text": [
      "['서울특별시' '경상북도' '충청남도' '강원도' '경기도' '전라북도' '대전광역시' '경상남도' '인천광역시' '울산광역시'\n",
      " '부산광역시' '대구광역시' '충청북도' '전라남도' '광주광역시' '세종특별자치시' '제주특별자치도']\n",
      "False\n",
      "['서울특별시' '충청도' '충청남도' '강원도' '경기도' '전라도' '대전광역시' '인천광역시' '울산광역시' '부산광역시'\n",
      " '대구광역시' '충청북도' '광주광역시' '세종특별자치시' '제주특별자치도']\n",
      "False\n"
     ]
    }
   ],
   "source": [
    "# 시도명\n",
    "# 결측치 없음\n",
    "# 이상치 없음, 하지만 데이터 통합분석이 목적이므로 \n",
    "# 전북과 전남 -> 전라도 경북과 경남 -> 경상도, 충북과 충남 -> 충청도로 변경\n",
    "\n",
    "print(pd_data['시도명'].unique())\n",
    "print(pd_data['시도명'].hasnans)\n",
    "\n",
    "filter1 = pd_data['시도명']=='전라북도'\n",
    "# pd_data[filter1]['시도명'] = '강원도' #warning\n",
    "pd_data.loc[filter1, '시도명'] = '전라도'\n",
    "\n",
    "filter2 = pd_data['시도명']=='전라남도'\n",
    "# pd_data[filter1]['시도명'] = '강원도' #warning\n",
    "pd_data.loc[filter2, '시도명'] = '전라도'\n",
    "\n",
    "filter3 = pd_data['시도명']=='경상북도'\n",
    "# pd_data[filter1]['시도명'] = '강원도' #warning\n",
    "pd_data.loc[filter3, '시도명'] = '경상도'\n",
    "\n",
    "filter4 = pd_data['시도명']=='경상남도'\n",
    "# pd_data[filter1]['시도명'] = '강원도' #warning\n",
    "pd_data.loc[filter4, '시도명'] = '경상도'\n",
    "\n",
    "filter5 = pd_data['시도명']=='충청북도'\n",
    "# pd_data[filter1]['시도명'] = '강원도' #warning\n",
    "pd_data.loc[filter3, '시도명'] = '충청도'\n",
    "\n",
    "filter6 = pd_data['시도명']=='충청남도'\n",
    "# pd_data[filter1]['시도명'] = '강원도' #warning\n",
    "pd_data.loc[filter4, '시도명'] = '충청도'\n",
    "\n",
    "print(pd_data['시도명'].unique())\n",
    "print(pd_data['시도명'].hasnans)"
   ]
  },
  {
   "cell_type": "code",
   "execution_count": 145,
   "id": "6a77b64b",
   "metadata": {},
   "outputs": [
    {
     "name": "stdout",
     "output_type": "stream",
     "text": [
      "[30 50 60 40 38 39 41 42 43 44 45 46 47 48 49 51 52 53 54 55 31 32 33 34\n",
      " 35 36 37 20]\n",
      "False\n",
      "[30 50 60 40 20]\n",
      "False\n",
      "30    2374\n",
      "50      91\n",
      "40      34\n",
      "60      17\n",
      "20       2\n",
      "Name: 제한속도, dtype: int64\n"
     ]
    }
   ],
   "source": [
    "# 제한속도\n",
    "# 결측치 없음\n",
    "# 이상치 : 20부터60까지 다양한 값을 가지나 10단위 범위로 지정(1의자리 버림)하여 카운트 용이하게 변경(20 ~ 60)\n",
    "\n",
    "\n",
    "\n",
    "print(pd_data['제한속도'].unique())\n",
    "print(pd_data['제한속도'].hasnans)\n",
    "\n",
    "\n",
    "for i in pd_data['제한속도']:\n",
    "    pd_data['제한속도'].replace(i, (i//10)*10, inplace=True)\n",
    "\n",
    "        \n",
    "print(pd_data['제한속도'].unique())\n",
    "print(pd_data['제한속도'].hasnans)\n",
    "print(pd_data['제한속도'].value_counts()) "
   ]
  },
  {
   "cell_type": "code",
   "execution_count": 146,
   "id": "8bde091b",
   "metadata": {},
   "outputs": [
    {
     "name": "stdout",
     "output_type": "stream",
     "text": [
      "['Y' 'N']\n",
      "False\n"
     ]
    }
   ],
   "source": [
    "# CCTV설치여부\n",
    "# 처리 불필요\n",
    "print(pd_data['CCTV설치여부'].unique())\n",
    "print(pd_data['CCTV설치여부'].hasnans)"
   ]
  },
  {
   "cell_type": "code",
   "execution_count": 147,
   "id": "d39fccbe",
   "metadata": {},
   "outputs": [
    {
     "name": "stdout",
     "output_type": "stream",
     "text": [
      "[ 1. nan  0.  2.  4.  3.  5.  8.  9.]\n",
      "True\n",
      "NaN    1551\n",
      "0.0     568\n",
      "1.0     273\n",
      "2.0      81\n",
      "3.0      20\n",
      "4.0      14\n",
      "5.0       9\n",
      "8.0       1\n",
      "9.0       1\n",
      "Name: CCTV설치대수, dtype: int64\n",
      "[1.0 '알 수 없음' 0.0 2.0 4.0 3.0 5.0 8.0 9.0]\n",
      "False\n",
      "알 수 없음    1551\n",
      "0.0        568\n",
      "1.0        273\n",
      "2.0         81\n",
      "3.0         20\n",
      "4.0         14\n",
      "5.0          9\n",
      "8.0          1\n",
      "9.0          1\n",
      "Name: CCTV설치대수, dtype: int64\n"
     ]
    }
   ],
   "source": [
    "# CCTV설치대수\n",
    "# 결측치(NaN) = '알 수 없음'으로 변경\n",
    "print(pd_data['CCTV설치대수'].unique())\n",
    "print(pd_data['CCTV설치대수'].hasnans)\n",
    "print(pd_data['CCTV설치대수'].value_counts(dropna=False))\n",
    "\n",
    "pd_data['CCTV설치대수'].replace(np.NaN, '알 수 없음', inplace=True)\n",
    "\n",
    "print(pd_data['CCTV설치대수'].unique())\n",
    "print(pd_data['CCTV설치대수'].hasnans)\n",
    "print(pd_data['CCTV설치대수'].value_counts(dropna=False))"
   ]
  },
  {
   "cell_type": "code",
   "execution_count": 148,
   "id": "f47098b1",
   "metadata": {},
   "outputs": [
    {
     "name": "stdout",
     "output_type": "stream",
     "text": [
      "['3' '6' '7' '8' '9' nan '7.5' '6.5' '15' '11' '4' '20' '12' '13' '28'\n",
      " '20~34' '10' '15~20' '24' '25' '5' '14' '6~12' '16' '17~22' '4.5~5' '4.5'\n",
      " '20~23' '6~8' '33' '30' '12~13' '10~12' '8~9' '9~10' '4~30' '7~12' '35'\n",
      " '9.6~14.6' '14~25' '12~20' '21' '5~20' '1' '6~14' '5~7' '5~6' '7~11'\n",
      " '8~20' '4~8' '4~7' '18' '16~20' '5.5' '23' '6~10' '10~30' '6~7' '8~10'\n",
      " '36' '6~25' '22' '5.2' '10~15' '8.5' '6.5~12' '5~10' '0' '29' '5~8' '5~9'\n",
      " '33~35' '8 ~25' '7~9' '13~14' '5~11' '5~30' '5~15' '10~14' '26' '7~8'\n",
      " '4.5~6.5' '18~36' '5~16' '17' '10~35' '19' '8~12' '6~9' '7.5~12' '4~8.5'\n",
      " '5.0~11' '7.5~8' '8.5~25' '8.5~11' '6~13' '7~10' '40' '8~14' '20~30'\n",
      " '3~5' '8~35' '12~16' '13~15' '7~15' '5.7' '8.4' '3~4' '6.3~14.8' '2']\n",
      "True\n",
      "6          301\n",
      "8          281\n",
      "7          189\n",
      "7~11        85\n",
      "10          68\n",
      "          ... \n",
      "4~30         1\n",
      "4.5~6.5      1\n",
      "18~36        1\n",
      "5~16         1\n",
      "5~20         1\n",
      "Name: 보호구역도로폭, Length: 109, dtype: int64\n"
     ]
    }
   ],
   "source": [
    "# 보호구역도로폭\n",
    "\n",
    "print(pd_data['보호구역도로폭'].unique())\n",
    "print(pd_data['보호구역도로폭'].hasnans)\n",
    "print(pd_data['보호구역도로폭'].value_counts())\n"
   ]
  },
  {
   "cell_type": "code",
   "execution_count": 149,
   "id": "a8d6cec8",
   "metadata": {},
   "outputs": [
    {
     "name": "stdout",
     "output_type": "stream",
     "text": [
      "9.0      93\n",
      "7.0      44\n",
      "12.5     20\n",
      "18.0      8\n",
      "6.0       8\n",
      "6.5       6\n",
      "5.5       6\n",
      "10.0      6\n",
      "8.0       6\n",
      "17.5      5\n",
      "7.5       5\n",
      "11.0      5\n",
      "14.0      4\n",
      "9.5       3\n",
      "21.5      3\n",
      "8.5       3\n",
      "15.5      2\n",
      "9.75      2\n",
      "4.0       2\n",
      "27.0      2\n",
      "10.55     2\n",
      "19.5      2\n",
      "22.5      1\n",
      "3.5       1\n",
      "25.0      1\n",
      "16.75     1\n",
      "7.75      1\n",
      "6.25      1\n",
      "4.75      1\n",
      "20.0      1\n",
      "16.0      1\n",
      "12.0      1\n",
      "13.5      1\n",
      "16.5      1\n",
      "34.0      1\n",
      "17.0      1\n",
      "9.25      1\n",
      "12.1      1\n",
      "10.5      1\n",
      "Name: 보호구역도로폭, dtype: int64\n",
      "10.0    2270\n",
      "9.0       93\n",
      "7.0       44\n",
      "12.5      20\n",
      "18.0       8\n",
      "6.0        8\n",
      "6.5        6\n",
      "5.5        6\n",
      "8.0        6\n",
      "11.0       5\n",
      "17.5       5\n",
      "7.5        5\n",
      "14.0       4\n",
      "8.5        3\n",
      "21.5       3\n",
      "9.5        3\n",
      "10.6       2\n",
      "9.8        2\n",
      "4.0        2\n",
      "19.5       2\n",
      "27.0       2\n",
      "15.5       2\n",
      "6.2        1\n",
      "7.8        1\n",
      "25.0       1\n",
      "16.8       1\n",
      "10.5       1\n",
      "3.5        1\n",
      "22.5       1\n",
      "17.0       1\n",
      "12.0       1\n",
      "13.5       1\n",
      "16.5       1\n",
      "12.1       1\n",
      "9.2        1\n",
      "20.0       1\n",
      "4.8        1\n",
      "16.0       1\n",
      "34.0       1\n",
      "Name: 보호구역도로폭, dtype: int64\n"
     ]
    }
   ],
   "source": [
    "# 보호구역도로폭\n",
    "# 오류치: 숫자~숫자 형태의 문자열 --> '숫자a'와 '숫자b'의 평균치(np.float64) 값으로 대체\n",
    "# 결측치: 전체 도로폭 평균치로 대체.\n",
    "# 전체 값 소수점 1째 자리까지 반올림(평균치가 10.005709이 나와 자리수 통일)\n",
    "\n",
    "        \n",
    "def myfn1(x):\n",
    "    if type(x) == type(' '):\n",
    "        if '~' in x:\n",
    "            m = np.array(x.split('~')).astype(np.float64).mean()\n",
    "            return str(m)\n",
    "    \n",
    "  \n",
    "# 도로폭: 오류치 처리\n",
    "# 숫자~숫자 형태의 문자열 --> '숫자a'와 '숫자b'의 평균치(np.float64) 값으로 대체\n",
    "#print(pd_data['보호구역도로폭'].value_counts())\n",
    "y = pd_data['보호구역도로폭'].apply(myfn1)\n",
    "print(y.value_counts())\n",
    "\n",
    "\n",
    "\n",
    "# 도로폭: 결측치 처리\n",
    "# 전체 도로폭 평균치로 대체.\n",
    "#print(pd_data['보호구역도로폭'].isna().value_counts())\n",
    "y = y.astype(np.float64)\n",
    "y = y.replace(np.NaN, y.mean())\n",
    "pd_data['보호구역도로폭'] = y\n",
    "\n",
    "for i in pd_data['보호구역도로폭']:\n",
    "    pd_data['보호구역도로폭'].replace(i, round(i, 1), inplace=True)\n",
    "\n",
    "# print(pd_data['보호구역도로폭'].unique())\n",
    "# print(pd_data['보호구역도로폭'].hasnans)\n",
    "print(pd_data['보호구역도로폭'].value_counts(dropna=False))"
   ]
  },
  {
   "cell_type": "code",
   "execution_count": 52,
   "id": "1d4407e8",
   "metadata": {},
   "outputs": [
    {
     "name": "stdout",
     "output_type": "stream",
     "text": [
      "(2518, 5)\n",
      "         시도명         제한속도 CCTV설치여부    CCTV설치대수 보호구역도로폭\n",
      "count   2518  2518.000000     2518  967.000000    1484\n",
      "unique    15          NaN        2         NaN     109\n",
      "top     충청남도          NaN        N         NaN       6\n",
      "freq     606          NaN     2010         NaN     301\n",
      "mean     NaN    31.052423      NaN    0.633919     NaN\n",
      "std      NaN     4.567556      NaN    1.008457     NaN\n",
      "min      NaN    20.000000      NaN    0.000000     NaN\n",
      "25%      NaN    30.000000      NaN    0.000000     NaN\n",
      "50%      NaN    30.000000      NaN    0.000000     NaN\n",
      "75%      NaN    30.000000      NaN    1.000000     NaN\n",
      "max      NaN    60.000000      NaN    9.000000     NaN\n",
      "시도명 False\n",
      "제한속도 False\n",
      "CCTV설치여부 False\n",
      "CCTV설치대수 True\n",
      "True     1551\n",
      "False     967\n",
      "Name: CCTV설치대수, dtype: int64\n",
      "보호구역도로폭 True\n",
      "False    1484\n",
      "True     1034\n",
      "Name: 보호구역도로폭, dtype: int64\n"
     ]
    }
   ],
   "source": [
    "print(pd_data.shape)\n",
    "print(pd_data.describe(include='all'))\n",
    "\n",
    "for e in pd_data:\n",
    "    print(e, pd_data[e].hasnans)\n",
    "    if pd_data[e].hasnans==True:\n",
    "        print(pd_data[e].isna().value_counts())"
   ]
  },
  {
   "cell_type": "code",
   "execution_count": null,
   "id": "dfc91ce0",
   "metadata": {},
   "outputs": [],
   "source": []
  }
 ],
 "metadata": {
  "kernelspec": {
   "display_name": "Python 3 (ipykernel)",
   "language": "python",
   "name": "python3"
  },
  "language_info": {
   "codemirror_mode": {
    "name": "ipython",
    "version": 3
   },
   "file_extension": ".py",
   "mimetype": "text/x-python",
   "name": "python",
   "nbconvert_exporter": "python",
   "pygments_lexer": "ipython3",
   "version": "3.10.9"
  }
 },
 "nbformat": 4,
 "nbformat_minor": 5
}
