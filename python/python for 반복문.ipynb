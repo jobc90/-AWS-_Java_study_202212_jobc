{
 "cells": [
  {
   "cell_type": "code",
   "execution_count": 56,
   "id": "6025228b",
   "metadata": {},
   "outputs": [
    {
     "name": "stdout",
     "output_type": "stream",
     "text": [
      "1\n",
      "2\n",
      "3\n",
      "4\n",
      "5\n",
      "6\n"
     ]
    }
   ],
   "source": [
    "# for문을 사용하지 않은 출력\n",
    "data = [1, 2, 3, 4 ,5 ,6]\n",
    "\n",
    "# data[i] i가 규칙적으로 1씩 증가함\n",
    "print(data[0])\n",
    "print(data[1])\n",
    "print(data[2])\n",
    "print(data[3])\n",
    "print(data[4])\n",
    "print(data[5])"
   ]
  },
  {
   "cell_type": "code",
   "execution_count": 58,
   "id": "827b3484",
   "metadata": {},
   "outputs": [
    {
     "name": "stdout",
     "output_type": "stream",
     "text": [
      "for 문을 사용한 출력\n",
      "1\n",
      "2\n",
      "3\n",
      "4\n",
      "5\n",
      "6\n"
     ]
    }
   ],
   "source": [
    "# for 문을 사용한 출력\n",
    "\n",
    "# for 문 안의 data[i] 에서 i가 1씩 증가함\n",
    "print(\"for 문을 사용한 출력\")\n",
    "for i in range(6):\n",
    "    print(data[i])"
   ]
  },
  {
   "cell_type": "code",
   "execution_count": 59,
   "id": "d9537749",
   "metadata": {},
   "outputs": [
    {
     "name": "stdout",
     "output_type": "stream",
     "text": [
      "for each(향상된 for문이라고 부르기도 함)을 사용한 출력\n",
      "1\n",
      "2\n",
      "3\n",
      "4\n",
      "5\n",
      "6\n"
     ]
    }
   ],
   "source": [
    "# for each(향상된 for문이라고 부르기도 함)을 사용한 출력\n",
    "\n",
    "# for 문 안의 i에 data[0], data[1] ... data[n] (n은 data의 마지막 인덱스)가 들어감\n",
    "print(\"for each(향상된 for문이라고 부르기도 함)을 사용한 출력\")\n",
    "for i in data:\n",
    "    print(i)"
   ]
  },
  {
   "cell_type": "code",
   "execution_count": 62,
   "id": "b165d43d",
   "metadata": {},
   "outputs": [
    {
     "name": "stdout",
     "output_type": "stream",
     "text": [
      "for 문을 사용하지 않은 list 안의 list 출력\n",
      "[1, 2, 3]\n",
      "[4, 5, 6]\n",
      "\n",
      "\n",
      "for 문을 사용한 list 안의 list 출력\n",
      "[1, 2, 3]\n",
      "[4, 5, 6]\n",
      "\n",
      "\n",
      "for each 문을 사용한 list 안의 list 출력\n",
      "[1, 2, 3]\n",
      "[4, 5, 6]\n"
     ]
    }
   ],
   "source": [
    "# for문을 사용하지 않은 list 안의 list 출력\n",
    "data = [[1,2,3], [4,5,6]]\n",
    "\n",
    "# data라는 list 안에 [1,2,3], [4,5,6] 이라는 리스트가 존재함\n",
    "# data[n] (n은 data의 인덱스)으로 출력하면 data 안의 리스트가 출력됨\n",
    "print(\"for 문을 사용하지 않은 list 안의 list 출력\")\n",
    "print(data[0])\n",
    "print(data[1])\n",
    "\n",
    "print('\\n') \n",
    "\n",
    "# for 문을 사용한 list 안의 list 출력\n",
    "print(\"for 문을 사용한 list 안의 list 출력\")\n",
    "for i in range(2):\n",
    "    print(data[i])\n",
    "          \n",
    "print('\\n') \n",
    "    \n",
    "# for each 문을 사용한 list 안의 list 출력\n",
    "# for 문 안의 i에 data[0], data[1] ... data[n] (n은 data의 마지막 인덱스)가 들어감\n",
    "print(\"for each 문을 사용한 list 안의 list 출력\")\n",
    "for i in data:\n",
    "    print(i)"
   ]
  },
  {
   "cell_type": "code",
   "execution_count": 61,
   "id": "50f7be8d",
   "metadata": {},
   "outputs": [
    {
     "name": "stdout",
     "output_type": "stream",
     "text": [
      "for문을 사용하지 않은 list 안의 원소 출력\n",
      "1\n",
      "2\n",
      "3\n",
      "4\n",
      "5\n",
      "6\n",
      "\n",
      "\n",
      "for 문을 한번 사용한 list 안의 각 원소 (1, 2, 3, 4, 5, 6) 출력\n",
      "1\n",
      "2\n",
      "3\n",
      "4\n",
      "5\n",
      "6\n",
      "\n",
      "\n",
      "for 문을 두번 사용한 list 안의 각 원소 출력\n",
      "1\n",
      "2\n",
      "3\n",
      "4\n",
      "5\n",
      "6\n"
     ]
    }
   ],
   "source": [
    "# for문을 사용하지 않은 list 안의 list의 원소 출력\n",
    "\n",
    "# list인 data 안에 있는 list [data[0] == [1,2,3], data[1] == [4,5,6]]의 각 1, 2, 3, 4 ,5, 6을 꺼내오는법\n",
    "print(\"for문을 사용하지 않은 list 안의 원소 출력\")\n",
    "print(data[0][0])\n",
    "print(data[0][1])\n",
    "print(data[0][2])\n",
    "print(data[1][0])\n",
    "print(data[1][1])\n",
    "print(data[1][2])\n",
    "\n",
    "print(\"\\n\")\n",
    "\n",
    "# for 문을 한번 사용한 list 안의 각 원소 (1, 2, 3, 4, 5, 6) 출력\n",
    "# data[i][n] 에서 n이 0부터 2까지 규칙적으로 1씩 증가함\n",
    "print(\"for 문을 한번 사용한 list 안의 각 원소 (1, 2, 3, 4, 5, 6) 출력\")\n",
    "for i in range(2):\n",
    "    print(data[i][0])\n",
    "    print(data[i][1])\n",
    "    print(data[i][2])\n",
    "    \n",
    "print(\"\\n\")\n",
    "    \n",
    "# for 문을 두번 사용한 list 안의 각 원소 출력\n",
    "print(\"for 문을 두번 사용한 list 안의 각 원소 출력\")\n",
    "for i in range(2):\n",
    "    for j in range(3):\n",
    "        print(data[i][j])"
   ]
  },
  {
   "cell_type": "code",
   "execution_count": 41,
   "id": "f4da7ca4",
   "metadata": {},
   "outputs": [
    {
     "name": "stdout",
     "output_type": "stream",
     "text": [
      "for each 문을 사용한 list 안의 list 출력\n",
      "[1, 2, 3]\n",
      "[4, 5, 6]\n",
      "\n",
      "\n",
      "for each 문을 한번만 사용한 list 안의 원소 출력\n",
      "1\n",
      "2\n",
      "3\n",
      "4\n",
      "5\n",
      "6\n",
      "\n",
      "\n",
      "for each 문 안에 for 문을 사용한 list 안의 원소 출력\n",
      "1\n",
      "2\n",
      "3\n",
      "4\n",
      "5\n",
      "6\n"
     ]
    }
   ],
   "source": [
    "# for each 문을 한번만 사용한 list 안의 원소 출력\n",
    "# i[n] 에서 n이 0부터 2까지 규칙적으로 1씩 증가함\n",
    "print(\"for each 문을 한번만 사용한 list 안의 원소 출력\")\n",
    "for i in data:\n",
    "    print(i[0])\n",
    "    print(i[1])\n",
    "    print(i[2])\n",
    "    \n",
    "print(\"\\n\")\n",
    "\n",
    "# for each 문 안에 for 문을 사용한 list 안의 원소 출력\n",
    "print(\"for each 문 안에 for 문을 사용한 list 안의 원소 출력\")\n",
    "for i in data:\n",
    "    for j in range(3):\n",
    "        print(i[j])"
   ]
  }
 ],
 "metadata": {
  "kernelspec": {
   "display_name": "Python 3 (ipykernel)",
   "language": "python",
   "name": "python3"
  },
  "language_info": {
   "codemirror_mode": {
    "name": "ipython",
    "version": 3
   },
   "file_extension": ".py",
   "mimetype": "text/x-python",
   "name": "python",
   "nbconvert_exporter": "python",
   "pygments_lexer": "ipython3",
   "version": "3.10.9"
  }
 },
 "nbformat": 4,
 "nbformat_minor": 5
}
