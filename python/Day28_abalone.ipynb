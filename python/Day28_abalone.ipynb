{
 "cells": [
  {
   "cell_type": "code",
   "execution_count": 4,
   "id": "85c937e8",
   "metadata": {},
   "outputs": [],
   "source": [
    "import numpy as np\n",
    "import pandas as pd\n",
    "import matplotlib.pyplot as plt\n",
    "from matplotlib import font_manager, rc\n",
    "f_path = \"c:/Windows/Fonts/malgun.ttf\"\n",
    "font_name = font_manager.FontProperties(fname=f_path).get_name()\n",
    "rc('font', family=font_name)\n",
    "\n",
    "import math\n",
    "import pickle\n",
    "import requests\n",
    "from scipy import stats\n",
    "\n",
    "def my_split(s):\n",
    "    block_start = False\n",
    "    start_index = 0\n",
    "    ret_list=[]\n",
    "    for i, c in enumerate(s):\n",
    "        if block_start==False:\n",
    "            if c==',':\n",
    "                ret_list.append(s[start_index:i])\n",
    "                start_index=i+1\n",
    "            elif c=='\"':\n",
    "                block_start=True\n",
    "                start_index = i\n",
    "        else:\n",
    "            if c=='\"':\n",
    "                block_start=False\n",
    "    if s[-1]!=',':\n",
    "        ret_list.append(s[start_index:])\n",
    "    return ret_list\n",
    "\n",
    "def split_len(data_list):\n",
    "    len_list=[]\n",
    "    for e in data_list:\n",
    "        len_list.append(len(e))\n",
    "    print(set(len_list))\n",
    "    if len(set(len_list))>1:\n",
    "        for i in set(len_list):\n",
    "            print(i, len_list.count(i))\n",
    "\n",
    "def dist_np(p1, p2): #  [3,10]  [5,25]\n",
    "    return math.sqrt(sum((p2-p1)**2))\n",
    "\n",
    "def process_product_names(s):\n",
    "    r = []\n",
    "    remove_after = ['(', ' 외', ' 외']\n",
    "    split_at = ['+', ',']\n",
    "    for c in remove_after:\n",
    "        if c in s:\n",
    "            s = s[:s.index(c)]\n",
    "        \n",
    "    for c in split_at:\n",
    "        if c in s:\n",
    "            r = r + s.split(c)\n",
    "            \n",
    "    if len(r) == 0:\n",
    "        r.append(s)\n",
    "    \n",
    "    return r\n"
   ]
  },
  {
   "cell_type": "code",
   "execution_count": 12,
   "id": "3e65f87c",
   "metadata": {},
   "outputs": [
    {
     "name": "stdout",
     "output_type": "stream",
     "text": [
      "[['M' '0.455' '0.365' ... '0.101' '0.15' '15']\n",
      " ['M' '0.35' '0.265' ... '0.0485' '0.07' '7']\n",
      " ['F' '0.53' '0.42' ... '0.1415' '0.21' '9']\n",
      " ...\n",
      " ['M' '0.6' '0.475' ... '0.2875' '0.308' '9']\n",
      " ['F' '0.625' '0.485' ... '0.261' '0.296' '10']\n",
      " ['M' '0.71' '0.555' ... '0.3765' '0.495' '12']]\n"
     ]
    }
   ],
   "source": [
    "abalone_np = requests.get('https://archive.ics.uci.edu/ml/machine-learning-databases/abalone/abalone.data')\n",
    "#print(abalone_np.text)\n",
    "\n",
    "np.set_printoptions(precision=5, suppress=True)\n",
    "\n",
    "raw_data=[]\n",
    "for line in abalone_np.text.split('\\n'):\n",
    "    raw_data.append(line.split(','))\n",
    "    \n",
    "#print(raw_data)\n",
    "# t = set()            \n",
    "# for e in raw_data:\n",
    "#     t.add(len(e))\n",
    "# print(t)\n",
    "\n",
    "np_data = np.array(raw_data[:-1])\n",
    "print(np_data)\n",
    "#np_data = np_data[:, 0:].astype(np.float64)\n",
    "#print(np_data[:3])\n",
    "#print(np_data)\n"
   ]
  }
 ],
 "metadata": {
  "kernelspec": {
   "display_name": "Python 3 (ipykernel)",
   "language": "python",
   "name": "python3"
  },
  "language_info": {
   "codemirror_mode": {
    "name": "ipython",
    "version": 3
   },
   "file_extension": ".py",
   "mimetype": "text/x-python",
   "name": "python",
   "nbconvert_exporter": "python",
   "pygments_lexer": "ipython3",
   "version": "3.10.9"
  }
 },
 "nbformat": 4,
 "nbformat_minor": 5
}
