{
 "cells": [
  {
   "cell_type": "code",
   "execution_count": 24,
   "id": "db1d2ac1",
   "metadata": {},
   "outputs": [
    {
     "name": "stdout",
     "output_type": "stream",
     "text": [
      "const\n",
      "myclass: 100, def\n",
      "<class '__main__.myclass'>\n",
      "500 def\n"
     ]
    }
   ],
   "source": [
    "class myclass:\n",
    "    myvar1 = 10\n",
    "    myvar2 = 'abc'\n",
    "    \n",
    "    #파이썬에서의 생성자 - 클래스를 instance에 넣을 때 자동으로 생성되는 메소드\n",
    "    def __init__(self, a = 0, b = 'aaa'):          \n",
    "        print('const')\n",
    "        self.myvar1 = a\n",
    "        self.myvar2 = b\n",
    "    \n",
    "    def mymethod1(self, n): #self매개변수를 꼭 사용해야 한다.\n",
    "        print(self.myvar1 * n, self.myvar2)\n",
    "        \n",
    "    def __str__(self): #String toString\n",
    "        return 'myclass: {}, {}'.format(self.myvar1, self.myvar2)\n",
    "        \n",
    "a = myclass(100, 'def')\n",
    "print(a)\n",
    "print(type(a))\n",
    "\n",
    "a.mymethod1(5)\n"
   ]
  },
  {
   "cell_type": "code",
   "execution_count": 28,
   "id": "d4920e01",
   "metadata": {},
   "outputs": [
    {
     "name": "stdout",
     "output_type": "stream",
     "text": [
      "const\n",
      "0 aaa\n"
     ]
    }
   ],
   "source": [
    "#클래스 상속\n",
    "class myclass2(myclass):\n",
    "    pass\n",
    "    \n",
    "b = myclass2()\n",
    "b.mymethod1(10)"
   ]
  }
 ],
 "metadata": {
  "kernelspec": {
   "display_name": "Python 3 (ipykernel)",
   "language": "python",
   "name": "python3"
  },
  "language_info": {
   "codemirror_mode": {
    "name": "ipython",
    "version": 3
   },
   "file_extension": ".py",
   "mimetype": "text/x-python",
   "name": "python",
   "nbconvert_exporter": "python",
   "pygments_lexer": "ipython3",
   "version": "3.10.9"
  }
 },
 "nbformat": 4,
 "nbformat_minor": 5
}
