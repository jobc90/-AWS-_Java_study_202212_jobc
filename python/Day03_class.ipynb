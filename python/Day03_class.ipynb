{
 "cells": [
  {
   "cell_type": "code",
   "execution_count": 1,
   "id": "db1d2ac1",
   "metadata": {},
   "outputs": [
    {
     "name": "stdout",
     "output_type": "stream",
     "text": [
      "const\n",
      "myclass: 100, def\n",
      "<class '__main__.myclass'>\n",
      "500 def\n"
     ]
    }
   ],
   "source": [
    "class myclass:\n",
    "    myvar1 = 10\n",
    "    myvar2 = 'abc'\n",
    "    \n",
    "    #파이썬에서의 생성자 - 클래스를 instance에 넣을 때 자동으로 생성되는 메소드\n",
    "    def __init__(self, a = 0, b = 'aaa'):          \n",
    "        print('const')\n",
    "        self.myvar1 = a\n",
    "        self.myvar2 = b\n",
    "    \n",
    "    def mymethod1(self, n): #self매개변수를 꼭 사용해야 한다.\n",
    "        print(self.myvar1 * n, self.myvar2)\n",
    "        \n",
    "    def __str__(self): #String toString과 비슷한 개념, 클래스의 기본형을 print하면 나오는 내용\n",
    "        return 'myclass: {}, {}'.format(self.myvar1, self.myvar2)\n",
    "        \n",
    "a = myclass(100, 'def') # myclass를 생성하면 __init__의 함수가 자동으로 불러와진다.\n",
    "print(a)\n",
    "print(type(a))\n",
    "\n",
    "a.mymethod1(5)\n"
   ]
  },
  {
   "cell_type": "code",
   "execution_count": 5,
   "id": "d4920e01",
   "metadata": {},
   "outputs": [
    {
     "name": "stdout",
     "output_type": "stream",
     "text": [
      "const\n",
      "myclass2 - mymethod 0\n",
      "myclass2 - mymethod2\n"
     ]
    }
   ],
   "source": [
    "#클래스 상속\n",
    "class myclass2(myclass):\n",
    "    def mymethod1(self, n):\n",
    "        print('myclass2 - mymethod', self.myvar1*n)\n",
    "    def mymethod2(self):\n",
    "        print('myclass2 - mymethod2')\n",
    "    \n",
    "b = myclass2()\n",
    "b.mymethod1(10)\n",
    "b.mymethod2()"
   ]
  },
  {
   "cell_type": "code",
   "execution_count": 8,
   "id": "3f099064",
   "metadata": {},
   "outputs": [
    {
     "name": "stdout",
     "output_type": "stream",
     "text": [
      "['a', 'b', 'c', 'd', 'e', 'f', 'c', 'g', 'h', 'i']\n",
      "['a', 'c', 'd', 'e', 'f', 'c', 'g', 'h', 'i']\n"
     ]
    }
   ],
   "source": [
    "list_1 = list('abcdefcghi')\n",
    "print(list_1)\n",
    "list_1.remove('b')\n",
    "print(list_1)"
   ]
  },
  {
   "cell_type": "code",
   "execution_count": 18,
   "id": "1949eb41",
   "metadata": {},
   "outputs": [
    {
     "name": "stdout",
     "output_type": "stream",
     "text": [
      "['a', 'b', 'd', 'e', 'f', 'g', 'h', 'i']\n",
      "['a', 'b', 'd', 'e', 'f', 'g', 'h', 'i']\n",
      "['a', 'b', 'd', 'e', 'f', 'g', 'h', 'i']\n"
     ]
    }
   ],
   "source": [
    "def list_remove_all(target_list, target_value):\n",
    "    while target_value in target_list:\n",
    "        target_list.remove(target_value)\n",
    "    return target_list\n",
    "\n",
    "def list_remove_all2(target_list, target_value):\n",
    "    while True:\n",
    "        try:\n",
    "            target_list.remove(target_value)\n",
    "        except:\n",
    "            return target_list\n",
    "        \n",
    "def list_remove_all3(target_list, target_value):\n",
    "    return [value for value in target_list if value != target_value]\n",
    "\n",
    "\n",
    "ret_list = list_remove_all(list('abcdefcghi'), 'c')\n",
    "ret_list2 = list_remove_all2(list('abcdefcghi'), 'c')\n",
    "ret_list3 = list_remove_all(list('abcdefcghi'), 'c')\n",
    "print(ret_list)\n",
    "print(ret_list2)\n",
    "print(ret_list3)"
   ]
  },
  {
   "cell_type": "code",
   "execution_count": 23,
   "id": "da05e296",
   "metadata": {
    "scrolled": true
   },
   "outputs": [
    {
     "name": "stdout",
     "output_type": "stream",
     "text": [
      "['a', 'b', 'c', 'c', 'd', 'c', 1, 2]\n",
      "['a', 'b', 'd', 1, 2]\n"
     ]
    }
   ],
   "source": [
    "class mylist(list):\n",
    "    def remove_all(self, target_value):\n",
    "        while target_value in self:\n",
    "            self.remove(target_value)\n",
    "        return self\n",
    "\n",
    "\n",
    "mylist_1 = mylist(list('abccdc'))\n",
    "mylist_1.append(1)\n",
    "mylist_1.append(2)\n",
    "print(mylist_1)\n",
    "mylist_1.remove_all('c')\n",
    "print(mylist_1.remove_all('c'))"
   ]
  }
 ],
 "metadata": {
  "kernelspec": {
   "display_name": "Python 3 (ipykernel)",
   "language": "python",
   "name": "python3"
  },
  "language_info": {
   "codemirror_mode": {
    "name": "ipython",
    "version": 3
   },
   "file_extension": ".py",
   "mimetype": "text/x-python",
   "name": "python",
   "nbconvert_exporter": "python",
   "pygments_lexer": "ipython3",
   "version": "3.10.9"
  }
 },
 "nbformat": 4,
 "nbformat_minor": 5
}
