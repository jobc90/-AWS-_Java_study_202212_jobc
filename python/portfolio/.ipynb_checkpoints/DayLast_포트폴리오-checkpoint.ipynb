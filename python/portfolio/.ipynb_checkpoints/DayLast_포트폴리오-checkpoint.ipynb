{
 "cells": [
  {
   "cell_type": "markdown",
   "id": "63a36859",
   "metadata": {},
   "source": [
    "### 시각화 전략\n",
    " - 시각화의 목표\n",
    " - 시각화의 범위\n",
    " - 시각화의 개발절차\n",
    " \n",
    "### 시각화 요구사항\n",
    " - 사용자 수준 / 취향\n",
    " - 시나리오 : 스토리보드 개발\n",
    " \n",
    "### 데이터 시각화 명세서\n",
    " - 시각화 표현의 형태, 규칙, 패턴, 상호작용\n",
    " \n",
    "### 시각화 명세서 기반 설계\n",
    " - 시각화 UI 설계"
   ]
  },
  {
   "cell_type": "markdown",
   "id": "098948fb",
   "metadata": {},
   "source": [
    "## 예시 : 2륜차 등록대수\n",
    "\n",
    "### 시각화 전략\n",
    "- 시각화의 목표 : 코로나와 배달 이륜차 등록대수 관계\n",
    "- 시각화의 범위 : 부산광역시\n",
    "- 시각화의 개발절차 : kosis.kr에서 데이터 확보, 분석 후 시각화\n",
    "\n",
    "### 시각화 요구사항\n",
    "- 사용자 수준 / 취향 : 배달 알바를 해야 하는가 고민중.\n",
    "- 시나리오 / 스토리보드 개발 : 코로나 전에 비해 코로나 기간중 폭발적 증가세 보임. 코로나 이후 급격한 감소세. 이전보다는 많은것이 사실이나 많이 빠졌음.\n",
    "\n",
    "### 데이터 시각화 명세서\n",
    "- 시각화 표현의 형태, 규칙, 패턴, 상호작용: 년도별 lineplot, 시기별 중형 이륜차 비율, 눈으로 크기 확인 용이할 경우 숫자 표시하지 않음.\n",
    " \n",
    "### 시각화 명세서 기반 설계\n",
    "- 시각화 UI 설계 : 상단 절반 년도별 lineplot, 하단 3등분하여 코로나 이전, 코로나 기간, 코로나 이후 크기별 비율 pie chart."
   ]
  },
  {
   "cell_type": "markdown",
   "id": "caeba4c6",
   "metadata": {},
   "source": [
    "## 부산 기업체 수와 인구수\n",
    "\n",
    "### 시각화 전략\n",
    "- 시각화의 목표 : 부산에 위치한 기업체의 수와 부산인구수의 관계를 알아본다.\n",
    "- 시각화 범위 : 부산의 실태조사를 위함이므로 부산에 한해서 조사\n",
    "- 시각화 계발절차 : kosis에서 부산광역시사업체조사, 주민등록인구통계의 데이터를 확보 통합하여 시각화\n",
    "\n",
    "### 시각화 요구사항\n",
    "- 사용자 수준 / 취향 : 부산에서 안정적인 일자리를 찾을 수 있는가에 대한 고민.\n",
    "- 시나리오 / 스토리보드 개발 : 부산의 청년인구는 꾸준한 감소세를 보임. 부산에 위치하는 기업체의 수를 연도별로 알아보고 그에 따른 인구수의 변화를 함께 시각화하여 자료로 만든다.\n",
    "\n",
    "### 데이터 시각화 명세서\n",
    "- 시각화 표현의 형태, 규칙, 패턴, 상호작용: 년도별 인구수와 기업체의 수, 구.군별 인구수와 업체수의 증감\n",
    "\n",
    "### 시각화 명세서 기반 설계\n",
    "- 시각화 UI 설계 : 년도별 인구수와 기업체의 수 상관도 lineplot, 구.군별 인구와 기업체 증감 chart, 핵심 노동인력의 나이를 25~50세로 생각하고 해당 나이대에서의 변화를 chart"
   ]
  },
  {
   "cell_type": "code",
   "execution_count": 39,
   "id": "9acda278",
   "metadata": {},
   "outputs": [
    {
     "name": "stdout",
     "output_type": "stream",
     "text": [
      "     시점 구·군별 농업 임업 및 어업  광업    제조업 전기 가스 증기 및 공기조절 공급업 수도하수및폐기물처리원료재생업   건설업  \\\n",
      "1  2017   전체         79  18  31012                  49             431  8819   \n",
      "2  2017   중구         21   1    685                   -               7   140   \n",
      "3  2017   서구         23   3    498                   3              12   208   \n",
      "4  2017   동구          5   1   1227                   2               9   384   \n",
      "5  2017  영도구          3   -   1573                   2              20   266   \n",
      "\n",
      "  도매 및 소매업 운수 및 창고업  ... 정보통신업 금융 및 보험업   부동산업 전문 과학 및 기술 서비스업  \\\n",
      "1    80645    27227  ...  1796     3301  11388            6825   \n",
      "2     6082     2154  ...   104      209    370             344   \n",
      "3     3616      739  ...    27       67    240             123   \n",
      "4     4857     1156  ...    97      385    379             436   \n",
      "5     2131     1097  ...    41       49    238             103   \n",
      "\n",
      "  사업시설관리사업지원및임대서비스업 공공행정 국방 및 사회보장 행정 교육서비스업 보건업 및 사회복지 서비스업  \\\n",
      "1              5240               705  12282            9147   \n",
      "2               422                37    176             221   \n",
      "3               181                33    339             289   \n",
      "4               448                48    259             361   \n",
      "5               139                37    298             274   \n",
      "\n",
      "  예술 스포츠 및 여가관련서비스업 협회 및 단체 수리 및 기타 개인서비스업  \n",
      "1              7228                  29027  \n",
      "2               330                   1096  \n",
      "3               174                   1110  \n",
      "4               172                   1436  \n",
      "5               180                   1072  \n",
      "\n",
      "[5 rows x 21 columns]\n",
      "Index(['시점', '구·군별', '농업 임업 및 어업', '광업', '제조업', '전기 가스 증기 및 공기조절 공급업',\n",
      "       '수도하수및폐기물처리원료재생업', '건설업', '도매 및 소매업', '운수 및 창고업', '숙박 및 음식점업', '정보통신업',\n",
      "       '금융 및 보험업', '부동산업', '전문 과학 및 기술 서비스업', '사업시설관리사업지원및임대서비스업',\n",
      "       '공공행정 국방 및 사회보장 행정', '교육서비스업', '보건업 및 사회복지 서비스업', '예술 스포츠 및 여가관련서비스업',\n",
      "       '협회 및 단체 수리 및 기타 개인서비스업'],\n",
      "      dtype='object')\n"
     ]
    }
   ],
   "source": [
    "import numpy as np\n",
    "import pandas as pd\n",
    "import matplotlib.pyplot as plt\n",
    "from matplotlib import font_manager, rc\n",
    "import seaborn as sns\n",
    "f_path = \"c:/Windows/Fonts/malgun.ttf\"\n",
    "font_name = font_manager.FontProperties(fname=f_path).get_name()\n",
    "rc('font', family=font_name)\n",
    "\n",
    "pd_data = pd.read_csv('산업대분류__읍·면·동별_사업체수__종사자수_20230313164622.csv',encoding='cp949')\n",
    "pd_data = pd_data.drop(index=0)\n",
    "pd_data = pd_data.drop('전체 산업', axis=1)\n",
    "pd_data = pd_data.rename(columns={'읍·면·동별(1)': '구·군별'})\n",
    "pd_data.head()\n",
    "print(pd_data[:5])\n",
    "print(pd_data.columns)\n",
    "\n"
   ]
  },
  {
   "cell_type": "code",
   "execution_count": 31,
   "id": "1ad41b29",
   "metadata": {},
   "outputs": [
    {
     "name": "stdout",
     "output_type": "stream",
     "text": [
      "Index(['시점', '구·군별', '인구수  (명)'], dtype='object')\n"
     ]
    }
   ],
   "source": [
    "pd_data2 =  pd.read_csv('부산광역시_전체_세대_및_인구개황_20230313164634.csv',encoding='cp949')\n",
    "pd_data2.head()\n",
    "print(pd_data2.columns)"
   ]
  },
  {
   "cell_type": "code",
   "execution_count": 50,
   "id": "ace658cf",
   "metadata": {
    "scrolled": false
   },
   "outputs": [
    {
     "name": "stdout",
     "output_type": "stream",
     "text": [
      "Index(['시점', '구·군별', '농업 임업 및 어업', '광업', '제조업', '전기 가스 증기 및 공기조절 공급업',\n",
      "       '수도하수및폐기물처리원료재생업', '건설업', '도매 및 소매업', '운수 및 창고업', '숙박 및 음식점업', '정보통신업',\n",
      "       '금융 및 보험업', '부동산업', '전문 과학 및 기술 서비스업', '사업시설관리사업지원및임대서비스업',\n",
      "       '공공행정 국방 및 사회보장 행정', '교육서비스업', '보건업 및 사회복지 서비스업', '예술 스포츠 및 여가관련서비스업',\n",
      "       '협회 및 단체 수리 및 기타 개인서비스업', '인구수  (명)'],\n",
      "      dtype='object')\n"
     ]
    }
   ],
   "source": [
    "merged_data = pd.concat([pd_data, pd_data2['인구수  (명)']], axis=1)\n",
    "print(merged_data.columns)"
   ]
  }
 ],
 "metadata": {
  "kernelspec": {
   "display_name": "Python 3 (ipykernel)",
   "language": "python",
   "name": "python3"
  },
  "language_info": {
   "codemirror_mode": {
    "name": "ipython",
    "version": 3
   },
   "file_extension": ".py",
   "mimetype": "text/x-python",
   "name": "python",
   "nbconvert_exporter": "python",
   "pygments_lexer": "ipython3",
   "version": "3.10.9"
  }
 },
 "nbformat": 4,
 "nbformat_minor": 5
}
