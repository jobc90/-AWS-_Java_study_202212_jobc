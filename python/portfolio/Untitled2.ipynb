{
 "cells": [
  {
   "cell_type": "code",
   "execution_count": 53,
   "id": "4a74d3fa",
   "metadata": {},
   "outputs": [
    {
     "name": "stdout",
     "output_type": "stream",
     "text": [
      "     petal_length  petal_width  sepal_length  sepal_width           class\n",
      "0             4.9          3.0           1.4          0.2     Iris-setosa\n",
      "1             4.7          3.2           1.3          0.2     Iris-setosa\n",
      "2             4.6          3.1           1.5          0.2     Iris-setosa\n",
      "3             5.0          3.6           1.4          0.2     Iris-setosa\n",
      "4             5.4          3.9           1.7          0.4     Iris-setosa\n",
      "..            ...          ...           ...          ...             ...\n",
      "144           6.7          3.0           5.2          2.3  Iris-virginica\n",
      "145           6.3          2.5           5.0          1.9  Iris-virginica\n",
      "146           6.5          3.0           5.2          2.0  Iris-virginica\n",
      "147           6.2          3.4           5.4          2.3  Iris-virginica\n",
      "148           5.9          3.0           5.1          1.8  Iris-virginica\n",
      "\n",
      "[149 rows x 5 columns]\n",
      "     0    1    2    3    4\n",
      "0  100  101  102  103  104\n",
      "1  105  106  107  108  109\n",
      "2  110  111  112  113  114\n",
      "3  115  116  117  118  119\n"
     ]
    }
   ],
   "source": [
    "import numpy as np\n",
    "\n",
    "import pandas as pd\n",
    "\n",
    "import random\n",
    "\n",
    " \n",
    "\n",
    "random.seed(123)\n",
    "\n",
    "pd_iris = pd.read_csv('https://archive.ics.uci.edu/ml/machine-learning-databases/iris/iris.data')\n",
    "\n",
    "pd_iris.columns = ['petal_length', 'petal_width', 'sepal_length', 'sepal_width', 'class']\n",
    "\n",
    "rand_axis0 = [random.randint(0,150) for _ in range(5)]\n",
    "\n",
    "rand_axis1 = [random.randint(0, 4) for _ in range(5)]\n",
    "\n",
    "pd_iris.iloc[rand_axis0, rand_axis1] = np.NaN\n",
    "\n",
    " \n",
    "\n",
    "rand_axis0 = [random.randint(0,150) for _ in range(5)]\n",
    "\n",
    "rand_axis1 = [random.randint(0, 4) for _ in range(5)]\n",
    "\n",
    "pd_iris.iloc[rand_axis0, rand_axis1] = 123.4 + random.randint(0,4)/10\n",
    "\n",
    " \n",
    "\n",
    "df1 = pd.DataFrame(np.arange(100, 120).reshape(4,5), dtype='str')\n",
    "print(pd_iris)\n",
    "\n",
    "print(df1)"
   ]
  },
  {
   "cell_type": "code",
   "execution_count": 55,
   "id": "f0d879a3",
   "metadata": {},
   "outputs": [
    {
     "name": "stdout",
     "output_type": "stream",
     "text": [
      "    petal_length petal_width sepal_length sepal_width           class\n",
      "0            4.9         3.0          1.4         0.2     Iris-setosa\n",
      "1            4.7         3.2          1.3         0.2     Iris-setosa\n",
      "2            4.6         3.1          1.5         0.2     Iris-setosa\n",
      "3            5.0         3.6          1.4         0.2     Iris-setosa\n",
      "4            5.4         3.9          1.7         0.4     Iris-setosa\n",
      "..           ...         ...          ...         ...             ...\n",
      "148          5.9         3.0          5.1         1.8  Iris-virginica\n",
      "149          100         101          102         103             104\n",
      "150          105         106          107         108             109\n",
      "151          110         111          112         113             114\n",
      "152          115         116          117         118             119\n",
      "\n",
      "[153 rows x 5 columns]\n"
     ]
    }
   ],
   "source": [
    "df1.columns = ['petal_length', 'petal_width', 'sepal_length', 'sepal_width', 'class']\n",
    "\n",
    "df2 = pd.concat([pd_iris, df1], axis=0, ignore_index=True)\n",
    "\n",
    "print(df2)"
   ]
  },
  {
   "cell_type": "code",
   "execution_count": 22,
   "id": "bf1d849e",
   "metadata": {},
   "outputs": [
    {
     "data": {
      "text/plain": [
       "False    145\n",
       "True       4\n",
       "Name: petal_length, dtype: int64"
      ]
     },
     "execution_count": 22,
     "metadata": {},
     "output_type": "execute_result"
    }
   ],
   "source": [
    "pd_iris['petal_length'].isna().value_counts()"
   ]
  },
  {
   "cell_type": "code",
   "execution_count": 12,
   "id": "65b94e7e",
   "metadata": {},
   "outputs": [
    {
     "name": "stdout",
     "output_type": "stream",
     "text": [
      "petal_length True\n",
      "False    145\n",
      "True       4\n",
      "Name: petal_length, dtype: int64\n",
      "petal_width False\n",
      "sepal_length False\n",
      "sepal_width True\n",
      "False    145\n",
      "True       4\n",
      "Name: sepal_width, dtype: int64\n",
      "class True\n",
      "False    146\n",
      "True       3\n",
      "Name: class, dtype: int64\n"
     ]
    }
   ],
   "source": [
    "comlumn_selection = ['petal_length','petal_width','sepal_length','sepal_width','class']\n",
    "data = pd_iris[comlumn_selection]\n",
    "for e in data :\n",
    "    print(e,data[e].hasnans)\n",
    "    if data[e].hasnans == True :\n",
    "        print(data[e].isna().value_counts())"
   ]
  },
  {
   "cell_type": "code",
   "execution_count": 13,
   "id": "4aee0a88",
   "metadata": {},
   "outputs": [
    {
     "data": {
      "text/plain": [
       "array([4.9, 4.7, 4.6, 5. , 5.4, 4.4, 4.8, 4.3, nan, 5.7, 5.1, 5.2, 5.5,\n",
       "       4.5, 5.3, 7. , 6.4, 6.9, 6.5, 6.3, 6.6, 5.9, 6. , 6.1, 5.6, 6.7,\n",
       "       5.8, 6.2, 6.8, 7.1, 7.3, 7.2, 7.7, 7.4, 7.9])"
      ]
     },
     "execution_count": 13,
     "metadata": {},
     "output_type": "execute_result"
    }
   ],
   "source": [
    "pd_iris['petal_length'].unique()"
   ]
  },
  {
   "cell_type": "code",
   "execution_count": 18,
   "id": "e0b67472",
   "metadata": {},
   "outputs": [
    {
     "name": "stdout",
     "output_type": "stream",
     "text": [
      "count    145.000000\n",
      "mean       5.843448\n",
      "std        0.824605\n",
      "min        4.300000\n",
      "25%        5.100000\n",
      "50%        5.800000\n",
      "75%        6.400000\n",
      "max        7.900000\n",
      "Name: petal_length, dtype: float64\n",
      "3.1499999999999986 8.350000000000001\n",
      "False    149\n",
      "Name: petal_length, dtype: int64\n",
      "[4.9 4.7 4.6 5.  5.4 4.4 4.8 4.3 nan 5.7 5.1 5.2 5.5 4.5 5.3 7.  6.4 6.9\n",
      " 6.5 6.3 6.6 5.9 6.  6.1 5.6 6.7 5.8 6.2 6.8 7.1 7.3 7.2 7.7 7.4 7.9]\n",
      "True\n"
     ]
    }
   ],
   "source": [
    "print(pd_iris['petal_length'].describe())\n",
    "q1, q3 = pd_iris['petal_length'].quantile([0.25,0.75])\n",
    "iqr = q3 - q1\n",
    "upper = q3 + 1.5*iqr\n",
    "lower = q1 - 1.5*iqr\n",
    "print(lower,upper)\n",
    "filter = pd_iris['petal_length']>upper\n",
    "print(filter.value_counts())\n",
    "pd_iris.loc[filter,'petal_length'] = np.NaN\n",
    "\n",
    "print(pd_iris['petal_length'].unique())\n",
    "print(pd_iris['petal_length'].hasnans)"
   ]
  },
  {
   "cell_type": "code",
   "execution_count": 19,
   "id": "eb876b24",
   "metadata": {},
   "outputs": [
    {
     "name": "stdout",
     "output_type": "stream",
     "text": [
      "False    145\n",
      "True       4\n",
      "Name: petal_length, dtype: int64\n"
     ]
    }
   ],
   "source": [
    "na_filter = pd_iris['petal_length'].isna()\n",
    "\n",
    "print(na_filter.value_counts())\n",
    "\n",
    "pd_iris.loc[na_filter,'petal_length'] = 'np.NaN'\n",
    "\n",
    "pd_iris_f = pd_iris['petal_length'].dropna()"
   ]
  },
  {
   "cell_type": "code",
   "execution_count": null,
   "id": "9b92d4ec",
   "metadata": {},
   "outputs": [],
   "source": []
  }
 ],
 "metadata": {
  "kernelspec": {
   "display_name": "Python 3 (ipykernel)",
   "language": "python",
   "name": "python3"
  },
  "language_info": {
   "codemirror_mode": {
    "name": "ipython",
    "version": 3
   },
   "file_extension": ".py",
   "mimetype": "text/x-python",
   "name": "python",
   "nbconvert_exporter": "python",
   "pygments_lexer": "ipython3",
   "version": "3.10.9"
  }
 },
 "nbformat": 4,
 "nbformat_minor": 5
}
