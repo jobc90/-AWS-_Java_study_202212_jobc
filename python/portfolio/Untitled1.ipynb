{
 "cells": [
  {
   "cell_type": "code",
   "execution_count": 17,
   "id": "393f6bc4",
   "metadata": {},
   "outputs": [],
   "source": [
    "def my_sq_prod(number_list):\n",
    "\n",
    "   return_value = 1\n",
    "\n",
    "   for number in number_list:\n",
    "\n",
    "        return_value = return_value * number**2\n",
    "\n",
    "   return return_value\n",
    "\n",
    "\n",
    "\n",
    "assert my_sq_prod([1,2,3]) == 36"
   ]
  },
  {
   "cell_type": "code",
   "execution_count": 15,
   "id": "ed8142e6",
   "metadata": {},
   "outputs": [
    {
     "name": "stdout",
     "output_type": "stream",
     "text": [
      "return_list = [1, 4, 9]\n",
      " 제곱한 값의 곱 = 36\n"
     ]
    }
   ],
   "source": [
    "import math\n",
    "import numpy as np\n",
    "\n",
    "def my_sq_prod2(np.array):\n",
    "    \n",
    "    for i in np.array:\n",
    "\n",
    "        return_list.append(i**2)\n",
    "\n",
    "    print(\"return_list =\", return_list)\n",
    "\n",
    "    print(\" 제곱한 값의 곱 =\", math.prod(return_list))\n",
    "\n",
    "my_sq_prod2([1,2,3])"
   ]
  },
  {
   "cell_type": "code",
   "execution_count": 19,
   "id": "e64b8c2c",
   "metadata": {},
   "outputs": [],
   "source": [
    "import numpy as np\n",
    "\n",
    "def my_sq_prod3(ndarray):\n",
    "    return np.prod(ndarray ** 2)\n",
    "\n",
    "assert my_sq_prod3(np.array([4,5,6])) == 14400"
   ]
  },
  {
   "cell_type": "code",
   "execution_count": 23,
   "id": "9ba933fb",
   "metadata": {},
   "outputs": [
    {
     "name": "stdout",
     "output_type": "stream",
     "text": [
      "30\n"
     ]
    }
   ],
   "source": [
    "def my_sq_prod(number_list):\n",
    "\n",
    "   return_value = 1\n",
    "\n",
    "   for number in number_list:\n",
    "\n",
    "        return_value = return_value * number**2\n",
    "\n",
    "   return return_value\n",
    "\n",
    "\n",
    "def score_check():\n",
    "\n",
    "   score = 0\n",
    "\n",
    "   if my_sq_prod([1,2,3])==36:\n",
    "\n",
    "       score += 30\n",
    "\n",
    "   print(score)\n",
    "\n",
    "if __name__ == \"__main__\":\n",
    "    score_check()"
   ]
  }
 ],
 "metadata": {
  "kernelspec": {
   "display_name": "Python 3 (ipykernel)",
   "language": "python",
   "name": "python3"
  },
  "language_info": {
   "codemirror_mode": {
    "name": "ipython",
    "version": 3
   },
   "file_extension": ".py",
   "mimetype": "text/x-python",
   "name": "python",
   "nbconvert_exporter": "python",
   "pygments_lexer": "ipython3",
   "version": "3.10.9"
  }
 },
 "nbformat": 4,
 "nbformat_minor": 5
}
