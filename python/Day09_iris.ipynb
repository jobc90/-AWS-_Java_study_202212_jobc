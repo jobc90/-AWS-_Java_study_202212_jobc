{
 "cells": [
  {
   "cell_type": "code",
   "execution_count": 42,
   "id": "2f20849e",
   "metadata": {},
   "outputs": [
    {
     "name": "stdout",
     "output_type": "stream",
     "text": [
      "5.1,3.5,1.4,0.2,Iris-setosa\n",
      "4.9,3.0,1.4,0.2,Iris-setosa\n",
      "4.7,3.2,1.3,0.2,Iris-setosa\n",
      "4.6,3.1,1.5,0.2,Iris-setosa\n",
      "5.0,3.6,1.4,0.2,Iris-setosa\n",
      "5.4,3.9,1.7,0.4,Iris-setosa\n",
      "4.6,3.4,1.4,0.3,Iris-setosa\n",
      "5.0,3.4,1.5,0.2,Iris-setosa\n",
      "4.4,2.9,1.4,0.2,Iris-setosa\n",
      "4.9,3.1,1.5,0.1,Iris-setosa\n",
      "5.4,3.7,1.5,0.2,Iris-setosa\n",
      "4.8,3.4,1.6,0.2,Iris-setosa\n",
      "4.8,3.0,1.4,0.1,Iris-setosa\n",
      "4.3,3.0,1.1,0.1,Iris-setosa\n",
      "5.8,4.0,1.2,0.2,Iris-setosa\n",
      "5.7,4.4,1.5,0.4,Iris-setosa\n",
      "5.4,3.9,1.3,0.4,Iris-setosa\n",
      "5.1,3.5,1.4,0.3,Iris-setosa\n",
      "5.7,3.8,1.7,0.3,Iris-setosa\n",
      "5.1,3.8,1.5,0.3,Iris-setosa\n",
      "5.4,3.4,1.7,0.2,Iris-setosa\n",
      "5.1,3.7,1.5,0.4,Iris-setosa\n",
      "4.6,3.6,1.0,0.2,Iris-setosa\n",
      "5.1,3.3,1.7,0.5,Iris-setosa\n",
      "4.8,3.4,1.9,0.2,Iris-setosa\n",
      "5.0,3.0,1.6,0.2,Iris-setosa\n",
      "5.0,3.4,1.6,0.4,Iris-setosa\n",
      "5.2,3.5,1.5,0.2,Iris-setosa\n",
      "5.2,3.4,1.4,0.2,Iris-setosa\n",
      "4.7,3.2,1.6,0.2,Iris-setosa\n",
      "4.8,3.1,1.6,0.2,Iris-setosa\n",
      "5.4,3.4,1.5,0.4,Iris-setosa\n",
      "5.2,4.1,1.5,0.1,Iris-setosa\n",
      "5.5,4.2,1.4,0.2,Iris-setosa\n",
      "4.9,3.1,1.5,0.1,Iris-setosa\n",
      "5.0,3.2,1.2,0.2,Iris-setosa\n",
      "5.5,3.5,1.3,0.2,Iris-setosa\n",
      "4.9,3.1,1.5,0.1,Iris-setosa\n",
      "4.4,3.0,1.3,0.2,Iris-setosa\n",
      "5.1,3.4,1.5,0.2,Iris-setosa\n",
      "5.0,3.5,1.3,0.3,Iris-setosa\n",
      "4.5,2.3,1.3,0.3,Iris-setosa\n",
      "4.4,3.2,1.3,0.2,Iris-setosa\n",
      "5.0,3.5,1.6,0.6,Iris-setosa\n",
      "5.1,3.8,1.9,0.4,Iris-setosa\n",
      "4.8,3.0,1.4,0.3,Iris-setosa\n",
      "5.1,3.8,1.6,0.2,Iris-setosa\n",
      "4.6,3.2,1.4,0.2,Iris-setosa\n",
      "5.3,3.7,1.5,0.2,Iris-setosa\n",
      "5.0,3.3,1.4,0.2,Iris-setosa\n",
      "7.0,3.2,4.7,1.4,Iris-versicolor\n",
      "6.4,3.2,4.5,1.5,Iris-versicolor\n",
      "6.9,3.1,4.9,1.5,Iris-versicolor\n",
      "5.5,2.3,4.0,1.3,Iris-versicolor\n",
      "6.5,2.8,4.6,1.5,Iris-versicolor\n",
      "5.7,2.8,4.5,1.3,Iris-versicolor\n",
      "6.3,3.3,4.7,1.6,Iris-versicolor\n",
      "4.9,2.4,3.3,1.0,Iris-versicolor\n",
      "6.6,2.9,4.6,1.3,Iris-versicolor\n",
      "5.2,2.7,3.9,1.4,Iris-versicolor\n",
      "5.0,2.0,3.5,1.0,Iris-versicolor\n",
      "5.9,3.0,4.2,1.5,Iris-versicolor\n",
      "6.0,2.2,4.0,1.0,Iris-versicolor\n",
      "6.1,2.9,4.7,1.4,Iris-versicolor\n",
      "5.6,2.9,3.6,1.3,Iris-versicolor\n",
      "6.7,3.1,4.4,1.4,Iris-versicolor\n",
      "5.6,3.0,4.5,1.5,Iris-versicolor\n",
      "5.8,2.7,4.1,1.0,Iris-versicolor\n",
      "6.2,2.2,4.5,1.5,Iris-versicolor\n",
      "5.6,2.5,3.9,1.1,Iris-versicolor\n",
      "5.9,3.2,4.8,1.8,Iris-versicolor\n",
      "6.1,2.8,4.0,1.3,Iris-versicolor\n",
      "6.3,2.5,4.9,1.5,Iris-versicolor\n",
      "6.1,2.8,4.7,1.2,Iris-versicolor\n",
      "6.4,2.9,4.3,1.3,Iris-versicolor\n",
      "6.6,3.0,4.4,1.4,Iris-versicolor\n",
      "6.8,2.8,4.8,1.4,Iris-versicolor\n",
      "6.7,3.0,5.0,1.7,Iris-versicolor\n",
      "6.0,2.9,4.5,1.5,Iris-versicolor\n",
      "5.7,2.6,3.5,1.0,Iris-versicolor\n",
      "5.5,2.4,3.8,1.1,Iris-versicolor\n",
      "5.5,2.4,3.7,1.0,Iris-versicolor\n",
      "5.8,2.7,3.9,1.2,Iris-versicolor\n",
      "6.0,2.7,5.1,1.6,Iris-versicolor\n",
      "5.4,3.0,4.5,1.5,Iris-versicolor\n",
      "6.0,3.4,4.5,1.6,Iris-versicolor\n",
      "6.7,3.1,4.7,1.5,Iris-versicolor\n",
      "6.3,2.3,4.4,1.3,Iris-versicolor\n",
      "5.6,3.0,4.1,1.3,Iris-versicolor\n",
      "5.5,2.5,4.0,1.3,Iris-versicolor\n",
      "5.5,2.6,4.4,1.2,Iris-versicolor\n",
      "6.1,3.0,4.6,1.4,Iris-versicolor\n",
      "5.8,2.6,4.0,1.2,Iris-versicolor\n",
      "5.0,2.3,3.3,1.0,Iris-versicolor\n",
      "5.6,2.7,4.2,1.3,Iris-versicolor\n",
      "5.7,3.0,4.2,1.2,Iris-versicolor\n",
      "5.7,2.9,4.2,1.3,Iris-versicolor\n",
      "6.2,2.9,4.3,1.3,Iris-versicolor\n",
      "5.1,2.5,3.0,1.1,Iris-versicolor\n",
      "5.7,2.8,4.1,1.3,Iris-versicolor\n",
      "6.3,3.3,6.0,2.5,Iris-virginica\n",
      "5.8,2.7,5.1,1.9,Iris-virginica\n",
      "7.1,3.0,5.9,2.1,Iris-virginica\n",
      "6.3,2.9,5.6,1.8,Iris-virginica\n",
      "6.5,3.0,5.8,2.2,Iris-virginica\n",
      "7.6,3.0,6.6,2.1,Iris-virginica\n",
      "4.9,2.5,4.5,1.7,Iris-virginica\n",
      "7.3,2.9,6.3,1.8,Iris-virginica\n",
      "6.7,2.5,5.8,1.8,Iris-virginica\n",
      "7.2,3.6,6.1,2.5,Iris-virginica\n",
      "6.5,3.2,5.1,2.0,Iris-virginica\n",
      "6.4,2.7,5.3,1.9,Iris-virginica\n",
      "6.8,3.0,5.5,2.1,Iris-virginica\n",
      "5.7,2.5,5.0,2.0,Iris-virginica\n",
      "5.8,2.8,5.1,2.4,Iris-virginica\n",
      "6.4,3.2,5.3,2.3,Iris-virginica\n",
      "6.5,3.0,5.5,1.8,Iris-virginica\n",
      "7.7,3.8,6.7,2.2,Iris-virginica\n",
      "7.7,2.6,6.9,2.3,Iris-virginica\n",
      "6.0,2.2,5.0,1.5,Iris-virginica\n",
      "6.9,3.2,5.7,2.3,Iris-virginica\n",
      "5.6,2.8,4.9,2.0,Iris-virginica\n",
      "7.7,2.8,6.7,2.0,Iris-virginica\n",
      "6.3,2.7,4.9,1.8,Iris-virginica\n",
      "6.7,3.3,5.7,2.1,Iris-virginica\n",
      "7.2,3.2,6.0,1.8,Iris-virginica\n",
      "6.2,2.8,4.8,1.8,Iris-virginica\n",
      "6.1,3.0,4.9,1.8,Iris-virginica\n",
      "6.4,2.8,5.6,2.1,Iris-virginica\n",
      "7.2,3.0,5.8,1.6,Iris-virginica\n",
      "7.4,2.8,6.1,1.9,Iris-virginica\n",
      "7.9,3.8,6.4,2.0,Iris-virginica\n",
      "6.4,2.8,5.6,2.2,Iris-virginica\n",
      "6.3,2.8,5.1,1.5,Iris-virginica\n",
      "6.1,2.6,5.6,1.4,Iris-virginica\n",
      "7.7,3.0,6.1,2.3,Iris-virginica\n",
      "6.3,3.4,5.6,2.4,Iris-virginica\n",
      "6.4,3.1,5.5,1.8,Iris-virginica\n",
      "6.0,3.0,4.8,1.8,Iris-virginica\n",
      "6.9,3.1,5.4,2.1,Iris-virginica\n",
      "6.7,3.1,5.6,2.4,Iris-virginica\n",
      "6.9,3.1,5.1,2.3,Iris-virginica\n",
      "5.8,2.7,5.1,1.9,Iris-virginica\n",
      "6.8,3.2,5.9,2.3,Iris-virginica\n",
      "6.7,3.3,5.7,2.5,Iris-virginica\n",
      "6.7,3.0,5.2,2.3,Iris-virginica\n",
      "6.3,2.5,5.0,1.9,Iris-virginica\n",
      "6.5,3.0,5.2,2.0,Iris-virginica\n",
      "6.2,3.4,5.4,2.3,Iris-virginica\n",
      "5.9,3.0,5.1,1.8,Iris-virginica\n",
      "\n",
      "\n"
     ]
    }
   ],
   "source": [
    "import requests\n",
    "import numpy as np\n",
    "\n",
    "x = requests.get('https://archive.ics.uci.edu/ml/machine-learning-databases/iris/iris.data')\n",
    "\n",
    "print(x.text)"
   ]
  },
  {
   "cell_type": "code",
   "execution_count": 37,
   "id": "f7b62afc",
   "metadata": {},
   "outputs": [],
   "source": [
    "raw_data = []\n",
    "for line in x.text.split('\\n'):\n",
    "    raw_data.append(line.split(','))\n",
    "    \n",
    "for sample in raw_data:\n",
    "    if len(sample) < 1:\n",
    "        continue\n",
    "    for i, value in enumerate(sample[:4]):\n",
    "        try:\n",
    "            sample[i] = float(value)\n",
    "        except:\n",
    "            sample[i] = 0.0"
   ]
  },
  {
   "cell_type": "code",
   "execution_count": 38,
   "id": "0c9becf3",
   "metadata": {},
   "outputs": [
    {
     "name": "stdout",
     "output_type": "stream",
     "text": [
      "[4.9, 3.0, 1.4, 0.2, 'Iris-setosa']\n"
     ]
    }
   ],
   "source": [
    "print(raw_data[1])\n",
    "#if (raw_data[1][-1] == 'Iris-setosa'):\n",
    "    "
   ]
  },
  {
   "cell_type": "code",
   "execution_count": 39,
   "id": "163e8ac8",
   "metadata": {},
   "outputs": [
    {
     "name": "stdout",
     "output_type": "stream",
     "text": [
      "[[5.1, 3.5, 1.4, 0.2, 0.0], [4.9, 3.0, 1.4, 0.2, 0.0], [4.7, 3.2, 1.3, 0.2, 0.0], [4.6, 3.1, 1.5, 0.2, 0.0], [5.0, 3.6, 1.4, 0.2, 0.0], [5.4, 3.9, 1.7, 0.4, 0.0], [4.6, 3.4, 1.4, 0.3, 0.0], [5.0, 3.4, 1.5, 0.2, 0.0], [4.4, 2.9, 1.4, 0.2, 0.0], [4.9, 3.1, 1.5, 0.1, 0.0], [5.4, 3.7, 1.5, 0.2, 0.0], [4.8, 3.4, 1.6, 0.2, 0.0], [4.8, 3.0, 1.4, 0.1, 0.0], [4.3, 3.0, 1.1, 0.1, 0.0], [5.8, 4.0, 1.2, 0.2, 0.0], [5.7, 4.4, 1.5, 0.4, 0.0], [5.4, 3.9, 1.3, 0.4, 0.0], [5.1, 3.5, 1.4, 0.3, 0.0], [5.7, 3.8, 1.7, 0.3, 0.0], [5.1, 3.8, 1.5, 0.3, 0.0], [5.4, 3.4, 1.7, 0.2, 0.0], [5.1, 3.7, 1.5, 0.4, 0.0], [4.6, 3.6, 1.0, 0.2, 0.0], [5.1, 3.3, 1.7, 0.5, 0.0], [4.8, 3.4, 1.9, 0.2, 0.0], [5.0, 3.0, 1.6, 0.2, 0.0], [5.0, 3.4, 1.6, 0.4, 0.0], [5.2, 3.5, 1.5, 0.2, 0.0], [5.2, 3.4, 1.4, 0.2, 0.0], [4.7, 3.2, 1.6, 0.2, 0.0], [4.8, 3.1, 1.6, 0.2, 0.0], [5.4, 3.4, 1.5, 0.4, 0.0], [5.2, 4.1, 1.5, 0.1, 0.0], [5.5, 4.2, 1.4, 0.2, 0.0], [4.9, 3.1, 1.5, 0.1, 0.0], [5.0, 3.2, 1.2, 0.2, 0.0], [5.5, 3.5, 1.3, 0.2, 0.0], [4.9, 3.1, 1.5, 0.1, 0.0], [4.4, 3.0, 1.3, 0.2, 0.0], [5.1, 3.4, 1.5, 0.2, 0.0], [5.0, 3.5, 1.3, 0.3, 0.0], [4.5, 2.3, 1.3, 0.3, 0.0], [4.4, 3.2, 1.3, 0.2, 0.0], [5.0, 3.5, 1.6, 0.6, 0.0], [5.1, 3.8, 1.9, 0.4, 0.0], [4.8, 3.0, 1.4, 0.3, 0.0], [5.1, 3.8, 1.6, 0.2, 0.0], [4.6, 3.2, 1.4, 0.2, 0.0], [5.3, 3.7, 1.5, 0.2, 0.0], [5.0, 3.3, 1.4, 0.2, 0.0], [7.0, 3.2, 4.7, 1.4, 1.0], [6.4, 3.2, 4.5, 1.5, 1.0], [6.9, 3.1, 4.9, 1.5, 1.0], [5.5, 2.3, 4.0, 1.3, 1.0], [6.5, 2.8, 4.6, 1.5, 1.0], [5.7, 2.8, 4.5, 1.3, 1.0], [6.3, 3.3, 4.7, 1.6, 1.0], [4.9, 2.4, 3.3, 1.0, 1.0], [6.6, 2.9, 4.6, 1.3, 1.0], [5.2, 2.7, 3.9, 1.4, 1.0], [5.0, 2.0, 3.5, 1.0, 1.0], [5.9, 3.0, 4.2, 1.5, 1.0], [6.0, 2.2, 4.0, 1.0, 1.0], [6.1, 2.9, 4.7, 1.4, 1.0], [5.6, 2.9, 3.6, 1.3, 1.0], [6.7, 3.1, 4.4, 1.4, 1.0], [5.6, 3.0, 4.5, 1.5, 1.0], [5.8, 2.7, 4.1, 1.0, 1.0], [6.2, 2.2, 4.5, 1.5, 1.0], [5.6, 2.5, 3.9, 1.1, 1.0], [5.9, 3.2, 4.8, 1.8, 1.0], [6.1, 2.8, 4.0, 1.3, 1.0], [6.3, 2.5, 4.9, 1.5, 1.0], [6.1, 2.8, 4.7, 1.2, 1.0], [6.4, 2.9, 4.3, 1.3, 1.0], [6.6, 3.0, 4.4, 1.4, 1.0], [6.8, 2.8, 4.8, 1.4, 1.0], [6.7, 3.0, 5.0, 1.7, 1.0], [6.0, 2.9, 4.5, 1.5, 1.0], [5.7, 2.6, 3.5, 1.0, 1.0], [5.5, 2.4, 3.8, 1.1, 1.0], [5.5, 2.4, 3.7, 1.0, 1.0], [5.8, 2.7, 3.9, 1.2, 1.0], [6.0, 2.7, 5.1, 1.6, 1.0], [5.4, 3.0, 4.5, 1.5, 1.0], [6.0, 3.4, 4.5, 1.6, 1.0], [6.7, 3.1, 4.7, 1.5, 1.0], [6.3, 2.3, 4.4, 1.3, 1.0], [5.6, 3.0, 4.1, 1.3, 1.0], [5.5, 2.5, 4.0, 1.3, 1.0], [5.5, 2.6, 4.4, 1.2, 1.0], [6.1, 3.0, 4.6, 1.4, 1.0], [5.8, 2.6, 4.0, 1.2, 1.0], [5.0, 2.3, 3.3, 1.0, 1.0], [5.6, 2.7, 4.2, 1.3, 1.0], [5.7, 3.0, 4.2, 1.2, 1.0], [5.7, 2.9, 4.2, 1.3, 1.0], [6.2, 2.9, 4.3, 1.3, 1.0], [5.1, 2.5, 3.0, 1.1, 1.0], [5.7, 2.8, 4.1, 1.3, 1.0], [6.3, 3.3, 6.0, 2.5, 2.0], [5.8, 2.7, 5.1, 1.9, 2.0], [7.1, 3.0, 5.9, 2.1, 2.0], [6.3, 2.9, 5.6, 1.8, 2.0], [6.5, 3.0, 5.8, 2.2, 2.0], [7.6, 3.0, 6.6, 2.1, 2.0], [4.9, 2.5, 4.5, 1.7, 2.0], [7.3, 2.9, 6.3, 1.8, 2.0], [6.7, 2.5, 5.8, 1.8, 2.0], [7.2, 3.6, 6.1, 2.5, 2.0], [6.5, 3.2, 5.1, 2.0, 2.0], [6.4, 2.7, 5.3, 1.9, 2.0], [6.8, 3.0, 5.5, 2.1, 2.0], [5.7, 2.5, 5.0, 2.0, 2.0], [5.8, 2.8, 5.1, 2.4, 2.0], [6.4, 3.2, 5.3, 2.3, 2.0], [6.5, 3.0, 5.5, 1.8, 2.0], [7.7, 3.8, 6.7, 2.2, 2.0], [7.7, 2.6, 6.9, 2.3, 2.0], [6.0, 2.2, 5.0, 1.5, 2.0], [6.9, 3.2, 5.7, 2.3, 2.0], [5.6, 2.8, 4.9, 2.0, 2.0], [7.7, 2.8, 6.7, 2.0, 2.0], [6.3, 2.7, 4.9, 1.8, 2.0], [6.7, 3.3, 5.7, 2.1, 2.0], [7.2, 3.2, 6.0, 1.8, 2.0], [6.2, 2.8, 4.8, 1.8, 2.0], [6.1, 3.0, 4.9, 1.8, 2.0], [6.4, 2.8, 5.6, 2.1, 2.0], [7.2, 3.0, 5.8, 1.6, 2.0], [7.4, 2.8, 6.1, 1.9, 2.0], [7.9, 3.8, 6.4, 2.0, 2.0], [6.4, 2.8, 5.6, 2.2, 2.0], [6.3, 2.8, 5.1, 1.5, 2.0], [6.1, 2.6, 5.6, 1.4, 2.0], [7.7, 3.0, 6.1, 2.3, 2.0], [6.3, 3.4, 5.6, 2.4, 2.0], [6.4, 3.1, 5.5, 1.8, 2.0], [6.0, 3.0, 4.8, 1.8, 2.0], [6.9, 3.1, 5.4, 2.1, 2.0], [6.7, 3.1, 5.6, 2.4, 2.0], [6.9, 3.1, 5.1, 2.3, 2.0], [5.8, 2.7, 5.1, 1.9, 2.0], [6.8, 3.2, 5.9, 2.3, 2.0], [6.7, 3.3, 5.7, 2.5, 2.0], [6.7, 3.0, 5.2, 2.3, 2.0], [6.3, 2.5, 5.0, 1.9, 2.0], [6.5, 3.0, 5.2, 2.0, 2.0], [6.2, 3.4, 5.4, 2.3, 2.0], [5.9, 3.0, 5.1, 1.8, 2.0], [-1.0], [-1.0]]\n"
     ]
    }
   ],
   "source": [
    "for i in raw_data:\n",
    "    if(i[-1] == 'Iris-setosa'):\n",
    "        i[-1] = 0.0\n",
    "    elif(i[-1] == 'Iris-versicolor'):\n",
    "        i[-1] = 1.0\n",
    "    elif(i[-1] == 'Iris-virginica'):\n",
    "        i[-1] = 2.0\n",
    "    else:\n",
    "        i[-1] = -1.0\n",
    "        \n",
    "print(raw_data)\n",
    "\n",
    "# 강사님 코드\n",
    "# for sample in raw_data:\n",
    "#     if len(sample)<2:\n",
    "#         continue\n",
    "#     if 'setosa' in sample[-1]:\n",
    "#         sample[-1] = 0.0\n",
    "#     elif'versicolor' in sample[-1]:\n",
    "#         sample[-1] = 1.0\n",
    "#     elif'virginica' in sample[-1]:\n",
    "#         sample[-1] = 2.0\n",
    "    \n",
    "                \n",
    "        "
   ]
  },
  {
   "cell_type": "code",
   "execution_count": 40,
   "id": "0f7bbc6c",
   "metadata": {
    "scrolled": true
   },
   "outputs": [
    {
     "name": "stdout",
     "output_type": "stream",
     "text": [
      "[[5.9, 3.0, 5.1, 1.8, 2.0], [-1.0], [-1.0]]\n",
      "152\n",
      "150\n"
     ]
    }
   ],
   "source": [
    "print(raw_data[-3:])\n",
    "print(len(raw_data))\n",
    "raw_data = raw_data[:150]\n",
    "print(len(raw_data))"
   ]
  },
  {
   "cell_type": "code",
   "execution_count": 90,
   "id": "f09b17e9",
   "metadata": {},
   "outputs": [
    {
     "name": "stdout",
     "output_type": "stream",
     "text": [
      "[[5.1 3.5 1.4 0.2 0. ]\n",
      " [4.9 3.  1.4 0.2 0. ]\n",
      " [4.7 3.2 1.3 0.2 0. ]\n",
      " [4.6 3.1 1.5 0.2 0. ]\n",
      " [5.  3.6 1.4 0.2 0. ]\n",
      " [5.4 3.9 1.7 0.4 0. ]\n",
      " [4.6 3.4 1.4 0.3 0. ]\n",
      " [5.  3.4 1.5 0.2 0. ]\n",
      " [4.4 2.9 1.4 0.2 0. ]\n",
      " [4.9 3.1 1.5 0.1 0. ]\n",
      " [5.4 3.7 1.5 0.2 0. ]\n",
      " [4.8 3.4 1.6 0.2 0. ]\n",
      " [4.8 3.  1.4 0.1 0. ]\n",
      " [4.3 3.  1.1 0.1 0. ]\n",
      " [5.8 4.  1.2 0.2 0. ]\n",
      " [5.7 4.4 1.5 0.4 0. ]\n",
      " [5.4 3.9 1.3 0.4 0. ]\n",
      " [5.1 3.5 1.4 0.3 0. ]\n",
      " [5.7 3.8 1.7 0.3 0. ]\n",
      " [5.1 3.8 1.5 0.3 0. ]\n",
      " [5.4 3.4 1.7 0.2 0. ]\n",
      " [5.1 3.7 1.5 0.4 0. ]\n",
      " [4.6 3.6 1.  0.2 0. ]\n",
      " [5.1 3.3 1.7 0.5 0. ]\n",
      " [4.8 3.4 1.9 0.2 0. ]\n",
      " [5.  3.  1.6 0.2 0. ]\n",
      " [5.  3.4 1.6 0.4 0. ]\n",
      " [5.2 3.5 1.5 0.2 0. ]\n",
      " [5.2 3.4 1.4 0.2 0. ]\n",
      " [4.7 3.2 1.6 0.2 0. ]\n",
      " [4.8 3.1 1.6 0.2 0. ]\n",
      " [5.4 3.4 1.5 0.4 0. ]\n",
      " [5.2 4.1 1.5 0.1 0. ]\n",
      " [5.5 4.2 1.4 0.2 0. ]\n",
      " [4.9 3.1 1.5 0.1 0. ]\n",
      " [5.  3.2 1.2 0.2 0. ]\n",
      " [5.5 3.5 1.3 0.2 0. ]\n",
      " [4.9 3.1 1.5 0.1 0. ]\n",
      " [4.4 3.  1.3 0.2 0. ]\n",
      " [5.1 3.4 1.5 0.2 0. ]\n",
      " [5.  3.5 1.3 0.3 0. ]\n",
      " [4.5 2.3 1.3 0.3 0. ]\n",
      " [4.4 3.2 1.3 0.2 0. ]\n",
      " [5.  3.5 1.6 0.6 0. ]\n",
      " [5.1 3.8 1.9 0.4 0. ]\n",
      " [4.8 3.  1.4 0.3 0. ]\n",
      " [5.1 3.8 1.6 0.2 0. ]\n",
      " [4.6 3.2 1.4 0.2 0. ]\n",
      " [5.3 3.7 1.5 0.2 0. ]\n",
      " [5.  3.3 1.4 0.2 0. ]]\n"
     ]
    }
   ],
   "source": [
    "np_data = np.array(raw_data)\n",
    "#np_data.shape\n",
    "#print(np_data[:, -1])\n",
    "setosa = (np_data[:, -1] == 0.0)\n",
    "print(np_data[setosa])\n"
   ]
  },
  {
   "cell_type": "markdown",
   "id": "1c382c92",
   "metadata": {},
   "source": [
    "### 기본 통계값\n",
    "- 전체(150샘플) 평균, 표준편차 - sepal length, sepal width, petal length, petal width\n",
    "- 품종별 평균, 표준편차\n",
    "\n",
    "- 평균 np.mean()\n",
    "- 표준편차 np.std()"
   ]
  },
  {
   "cell_type": "code",
   "execution_count": 63,
   "id": "35b69a75",
   "metadata": {},
   "outputs": [
    {
     "name": "stdout",
     "output_type": "stream",
     "text": [
      "전품종 sepal length 평균 : 5.843333333333334\n",
      "전품종 sepal width 평균 : 3.0540000000000003\n",
      "전품종 petal length 평균 : 3.758666666666666\n",
      "전품종 petal width 평균 : 1.1986666666666668\n",
      "\n",
      "전품종 sepal length 표준편차 : 0.8253012917851409\n",
      "전품종 sepal width 표준편차 : 0.4321465800705435\n",
      "전품종 petal length 표준편차 : 1.7585291834055212\n",
      "전품종 petal width 표준편차 : 0.7606126185881716\n"
     ]
    }
   ],
   "source": [
    "#print(np_data[:, 0])\n",
    "print('전품종 sepal length 평균 :', np.mean(np_data[:, 0]))\n",
    "print('전품종 sepal width 평균 :', np.mean(np_data[:, 1]))\n",
    "print('전품종 petal length 평균 :', np.mean(np_data[:, 2]))\n",
    "print('전품종 petal width 평균 :', np.mean(np_data[:, 3]))\n",
    "print()\n",
    "print('전품종 sepal length 표준편차 :', np.std(np_data[:, 0]))\n",
    "print('전품종 sepal width 표준편차 :', np.std(np_data[:, 1]))\n",
    "print('전품종 petal length 표준편차 :', np.std(np_data[:, 2]))\n",
    "print('전품종 petal width 표준편차 :', np.std(np_data[:, 3]))\n"
   ]
  },
  {
   "cell_type": "code",
   "execution_count": 97,
   "id": "278809ad",
   "metadata": {},
   "outputs": [
    {
     "name": "stdout",
     "output_type": "stream",
     "text": [
      "setosa sepal length 평균 : 5.006\n",
      "setosa sepal width 평균 : 3.418\n",
      "setosa petal length 평균 : 1.464\n",
      "setosa petal width 평균 : 0.244\n",
      "\n",
      "setosa sepal length 표준편차 : 0.3489469873777391\n",
      "setosa sepal width 표준편차 : 0.37719490982779713\n",
      "setosa petal length 표준편차 : 0.17176728442867112\n",
      "setosa petal width 표준편차 : 0.10613199329137281\n"
     ]
    }
   ],
   "source": [
    "setosa = (np_data[:, -1] == 0.0)\n",
    "#print(np_data[setosa])\n",
    "\n",
    "print('setosa sepal length 평균 :', np.mean(np_data[setosa][:, 0]))\n",
    "print('setosa sepal width 평균 :', np.mean(np_data[setosa][:, 1]))\n",
    "print('setosa petal length 평균 :', np.mean(np_data[setosa][:, 2]))\n",
    "print('setosa petal width 평균 :', np.mean(np_data[setosa][:, 3]))\n",
    "print()\n",
    "print('setosa sepal length 표준편차 :', np.std(np_data[setosa][:, 0]))\n",
    "print('setosa sepal width 표준편차 :', np.std(np_data[setosa][:, 1]))\n",
    "print('setosa petal length 표준편차 :', np.std(np_data[setosa][:, 2]))\n",
    "print('setosa petal width 표준편차 :', np.std(np_data[setosa][:, 3]))\n",
    "\n"
   ]
  },
  {
   "cell_type": "code",
   "execution_count": 95,
   "id": "af84febb",
   "metadata": {},
   "outputs": [
    {
     "name": "stdout",
     "output_type": "stream",
     "text": [
      "versicolor sepal length 평균 : 5.936\n",
      "versicolor sepal width 평균 : 2.7700000000000005\n",
      "versicolor petal length 평균 : 4.26\n",
      "versicolor petal width 평균 : 1.3259999999999998\n",
      "\n",
      "versicolor sepal length 표준편차 : 0.5109833656783751\n",
      "versicolor sepal width 표준편차 : 0.31064449134018135\n",
      "versicolor petal length 표준편차 : 0.4651881339845203\n",
      "versicolor petal width 표준편차 : 0.19576516544063705\n"
     ]
    }
   ],
   "source": [
    "versicolor = (np_data[:, -1] == 1.0)\n",
    "#print(np_data[versicolor])\n",
    "\n",
    "print('versicolor sepal length 평균 :', np.mean(np_data[versicolor][:, 0]))\n",
    "print('versicolor sepal width 평균 :', np.mean(np_data[versicolor][:, 1]))\n",
    "print('versicolor petal length 평균 :', np.mean(np_data[versicolor][:, 2]))\n",
    "print('versicolor petal width 평균 :', np.mean(np_data[versicolor][:, 3]))\n",
    "print()\n",
    "print('versicolor sepal length 표준편차 :', np.std(np_data[versicolor][:, 0]))\n",
    "print('versicolor sepal width 표준편차 :', np.std(np_data[versicolor][:, 1]))\n",
    "print('versicolor petal length 표준편차 :', np.std(np_data[versicolor][:, 2]))\n",
    "print('versicolor petal width 표준편차 :', np.std(np_data[versicolor][:, 3]))\n"
   ]
  },
  {
   "cell_type": "code",
   "execution_count": 94,
   "id": "a480df31",
   "metadata": {},
   "outputs": [
    {
     "name": "stdout",
     "output_type": "stream",
     "text": [
      "virginica sepal length 평균 : 6.587999999999998\n",
      "virginica sepal width 평균 : 2.974\n",
      "virginica petal length 평균 : 5.5520000000000005\n",
      "virginica petal width 평균 : 2.0260000000000002\n",
      "\n",
      "virginica sepal length 표준편차 : 0.6294886813914926\n",
      "virginica sepal width 표준편차 : 0.3192553836664309\n",
      "virginica petal length 표준편차 : 0.546347874526844\n",
      "virginica petal width 표준편차 : 0.2718896835115301\n"
     ]
    }
   ],
   "source": [
    "virginica = (np_data[:, -1] == 2.0)\n",
    "#print(np_data[virginica])\n",
    "\n",
    "print('virginica sepal length 평균 :', np.mean(np_data[virginica][:, 0]))\n",
    "print('virginica sepal width 평균 :', np.mean(np_data[virginica][:, 1]))\n",
    "print('virginica petal length 평균 :', np.mean(np_data[virginica][:, 2]))\n",
    "print('virginica petal width 평균 :', np.mean(np_data[virginica][:, 3]))\n",
    "print()\n",
    "print('virginica sepal length 표준편차 :', np.std(np_data[virginica][:, 0]))\n",
    "print('virginica sepal width 표준편차 :', np.std(np_data[virginica][:, 1]))\n",
    "print('virginica petal length 표준편차 :', np.std(np_data[virginica][:, 2]))\n",
    "print('virginica petal width 표준편차 :', np.std(np_data[virginica][:, 3]))\n"
   ]
  },
  {
   "cell_type": "code",
   "execution_count": 99,
   "id": "0a0f5e97",
   "metadata": {
    "scrolled": true
   },
   "outputs": [
    {
     "name": "stdout",
     "output_type": "stream",
     "text": [
      "[6.588 2.974 5.552 2.026 2.   ]\n",
      "[0.62948868 0.31925538 0.54634787 0.27188968 0.        ]\n"
     ]
    }
   ],
   "source": [
    "setosa = (np_data[:, -1] == 0.0)\n",
    "versicolor = (np_data[:, -1] == 1.0)\n",
    "virginica = (np_data[:, -1] == 2.0)\n",
    "\n",
    "print(np.mean(np_data[virginica], axis=0))\n",
    "print(np.std(np_data[virginica], axis=0))"
   ]
  }
 ],
 "metadata": {
  "kernelspec": {
   "display_name": "Python 3 (ipykernel)",
   "language": "python",
   "name": "python3"
  },
  "language_info": {
   "codemirror_mode": {
    "name": "ipython",
    "version": 3
   },
   "file_extension": ".py",
   "mimetype": "text/x-python",
   "name": "python",
   "nbconvert_exporter": "python",
   "pygments_lexer": "ipython3",
   "version": "3.10.9"
  }
 },
 "nbformat": 4,
 "nbformat_minor": 5
}
