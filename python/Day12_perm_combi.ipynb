{
 "cells": [
  {
   "cell_type": "code",
   "execution_count": 3,
   "id": "5fc157fa",
   "metadata": {},
   "outputs": [],
   "source": [
    "import numpy as np\n",
    "# permutation (순열)\n",
    "\n",
    "# 1에서부터 6까지 숫자가 적힌 공이 든 박스에서 2개의 공을 꺼낼때\n",
    "# 나올수 있는 모든 경우의 수 : 6*5\n",
    "# -- without replacement\n",
    "\n",
    "# n = 6\n",
    "# r = 2\n",
    "\n",
    "# n!/(n-r)!"
   ]
  },
  {
   "cell_type": "code",
   "execution_count": 9,
   "id": "859d9c6c",
   "metadata": {},
   "outputs": [
    {
     "name": "stdout",
     "output_type": "stream",
     "text": [
      "[0 1 2 3 4 5 6 7 8 9]\n"
     ]
    }
   ],
   "source": [
    "# 제귀함수 : 자기 자신을 부르는(사용하는) 함수\n",
    "# - 탈출조건이 중요.\n",
    "def fact_r(n):\n",
    "    if n==2:\n",
    "        return n\n",
    "    return fact_r(n-1)*n\n",
    "\n",
    "def fact(n):\n",
    "    ret = 1\n",
    "    while n>1:\n",
    "        ret *= n\n",
    "        n -= 1\n",
    "    return ret\n",
    "\n",
    "a = np.arange(10)\n",
    "print(a)\n",
    "\n",
    "\n",
    "\n",
    "#6! = 6*5*4*3*2*1 = 6*5!\n",
    "\n",
    "def perm(n, r):\n",
    "    return fact_r(n)/fact_r(n-r)\n",
    "\n",
    "assert perm(6,2) == 30.0\n",
    "assert perm(6,3) == 120"
   ]
  }
 ],
 "metadata": {
  "kernelspec": {
   "display_name": "Python 3 (ipykernel)",
   "language": "python",
   "name": "python3"
  },
  "language_info": {
   "codemirror_mode": {
    "name": "ipython",
    "version": 3
   },
   "file_extension": ".py",
   "mimetype": "text/x-python",
   "name": "python",
   "nbconvert_exporter": "python",
   "pygments_lexer": "ipython3",
   "version": "3.10.9"
  }
 },
 "nbformat": 4,
 "nbformat_minor": 5
}
