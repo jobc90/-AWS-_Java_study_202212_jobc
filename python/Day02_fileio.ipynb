{
 "cells": [
  {
   "cell_type": "code",
   "execution_count": 46,
   "id": "ebe29a02",
   "metadata": {},
   "outputs": [
    {
     "name": "stdout",
     "output_type": "stream",
     "text": [
      "['중구', '중구', '서구', '서구', '동구', '동구', '동구', '영도구', '영도구', '부산진구', '부산진구', '부산진구', '동래구', '남구', '남구', '북구', '해운대구', '해운대구', '해운대구', '사하구', '사하구', '다대로', '금정구', '강서구', '강서구', '강서구', '연제구', '연제구', '수영구', '수영구', '사상구', '사상구', '기장군', '기장군', '기장군']\n",
      "['동구', '동래구', '부산진구', '영도구', '사하구', '기장군', '해운대구', '강서구', '사상구', '연제구', '남구', '서구', '북구', '중구', '금정구', '수영구']\n",
      "[3, 1, 3, 2, 3, 3, 3, 3, 2, 2, 2, 2, 1, 2, 1, 2]\n",
      "{'동구': 3, '동래구': 1, '부산진구': 3, '영도구': 2, '사하구': 3, '기장군': 3, '해운대구': 3, '강서구': 3, '사상구': 2, '연제구': 2, '남구': 2, '서구': 2, '북구': 1, '중구': 2, '금정구': 1, '수영구': 2}\n"
     ]
    }
   ],
   "source": [
    "data_list = []\n",
    "with open('부산광역시_노인복지관 현황_20230101.csv', encoding='cp949') as f:\n",
    "    for line in f:\n",
    "        data_list.append(line.split(','))\n",
    "data_list = data_list [1:]\n",
    "\n",
    "gu_list = []\n",
    "for i in data_list:\n",
    "    address = i[2]\n",
    "    address_list = address.split()\n",
    "    gu_list.append(address_list[1])\n",
    "print(gu_list)\n",
    "\n",
    "gu_list[21] = '사하구'\n",
    "gu_set = set(gu_list)\n",
    "#exclude_list = ['다대로']\n",
    "#for i in gu_set:\n",
    "#    print(i + \":\", gu_list.count(i))\n",
    " \n",
    "d_gu_list=[]\n",
    "d_gu_count=[]\n",
    "for i in gu_set:\n",
    "    d_gu_list.append(i)\n",
    "    d_gu_count.append(gu_list.count(i))\n",
    "    \n",
    "print(d_gu_list)\n",
    "print(d_gu_count)\n",
    "\n",
    "\n"
   ]
  },
  {
   "cell_type": "code",
   "execution_count": 48,
   "id": "75e5e8d2",
   "metadata": {},
   "outputs": [
    {
     "name": "stdout",
     "output_type": "stream",
     "text": [
      "{'동구': 3, '동래구': 1, '부산진구': 3, '영도구': 2, '사하구': 3, '기장군': 3, '해운대구': 3, '강서구': 3, '사상구': 2, '연제구': 2, '남구': 2, '서구': 2, '북구': 1, '중구': 2, '금정구': 1, '수영구': 2}\n"
     ]
    }
   ],
   "source": [
    "d1 = dict(zip(d_gu_list, d_gu_count))\n",
    "print(d1)"
   ]
  },
  {
   "cell_type": "code",
   "execution_count": 50,
   "id": "14db3bf6",
   "metadata": {},
   "outputs": [
    {
     "name": "stdout",
     "output_type": "stream",
     "text": [
      "value 5\n"
     ]
    },
    {
     "data": {
      "text/plain": [
       "<function __main__.<lambda>(n)>"
      ]
     },
     "execution_count": 50,
     "metadata": {},
     "output_type": "execute_result"
    }
   ],
   "source": [
    "def fn1(n):\n",
    "    print('value {}'.format(n))\n",
    "\n",
    "fn1(5)\n",
    "\n",
    "lambda n: print('values{}.format(n)')"
   ]
  },
  {
   "cell_type": "code",
   "execution_count": 52,
   "id": "cdbd2ad4",
   "metadata": {},
   "outputs": [
    {
     "name": "stdout",
     "output_type": "stream",
     "text": [
      "{'동구': 3, '부산진구': 3, '사하구': 3, '기장군': 3, '해운대구': 3, '강서구': 3, '영도구': 2, '사상구': 2, '연제구': 2, '남구': 2, '서구': 2, '중구': 2, '수영구': 2, '동래구': 1, '북구': 1, '금정구': 1}\n"
     ]
    }
   ],
   "source": [
    "def fn10(x):\n",
    "    return x[1]\n",
    "#d1_sorted = dict(sorted(d1.items(), key = lambda x: x[1], reverse=True))\n",
    "d1_sorted = dict(sorted(d1.items(), key = fn10, reverse=True))\n",
    "print(d1_sorted)"
   ]
  }
 ],
 "metadata": {
  "kernelspec": {
   "display_name": "Python 3 (ipykernel)",
   "language": "python",
   "name": "python3"
  },
  "language_info": {
   "codemirror_mode": {
    "name": "ipython",
    "version": 3
   },
   "file_extension": ".py",
   "mimetype": "text/x-python",
   "name": "python",
   "nbconvert_exporter": "python",
   "pygments_lexer": "ipython3",
   "version": "3.11.0"
  }
 },
 "nbformat": 4,
 "nbformat_minor": 5
}
