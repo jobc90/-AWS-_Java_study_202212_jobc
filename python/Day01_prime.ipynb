{
 "cells": [
  {
   "cell_type": "code",
   "execution_count": 29,
   "id": "3d394f28",
   "metadata": {},
   "outputs": [
    {
     "name": "stdout",
     "output_type": "stream",
     "text": [
      "소수입니다.\n"
     ]
    }
   ],
   "source": [
    "# 소수찾기\n",
    "n=23\n",
    "flag = 0\n",
    "for i in range(2, n):\n",
    "    if n%i == 0:\n",
    "        print('소수가 아닙니다.')\n",
    "        flag = 1\n",
    "        break\n",
    "if flag == 0:\n",
    "    print('소수입니다.')"
   ]
  },
  {
   "cell_type": "code",
   "execution_count": 1,
   "id": "207a2c2d",
   "metadata": {},
   "outputs": [
    {
     "name": "stdout",
     "output_type": "stream",
     "text": [
      "[2, 3, 5, 7, 11, 13, 17, 19, 23, 29, 31, 37, 41, 43, 47, 53, 59, 61, 67, 71, 73, 79, 83, 89, 97, 101, 103, 107, 109, 113, 127, 131, 137, 139, 149, 151, 157, 163, 167, 173, 179, 181, 191, 193, 197, 199, 211, 223, 227, 229, 233, 239, 241, 251, 257, 263, 269, 271, 277, 281, 283, 293, 307, 311, 313, 317, 331, 337, 347, 349, 353, 359, 367, 373, 379, 383, 389, 397, 401, 409, 419, 421, 431, 433, 439, 443, 449, 457, 461, 463, 467, 479, 487, 491, 499, 503, 509, 521, 523, 541, 547, 557, 563, 569, 571, 577, 587, 593, 599, 601, 607, 613, 617, 619, 631, 641, 643, 647, 653, 659, 661, 673, 677, 683, 691, 701, 709, 719, 727, 733, 739, 743, 751, 757, 761, 769, 773, 787, 797, 809, 811, 821, 823, 827, 829, 839, 853, 857, 859, 863, 877, 881, 883, 887, 907, 911, 919, 929, 937, 941, 947, 953, 967, 971, 977, 983, 991, 997]\n",
      "76127\n"
     ]
    }
   ],
   "source": [
    "# 1000 아래 모든 소수를 list_prime에 넣기.\n",
    "\n",
    "prime_list=[]\n",
    "for n in range(2, 1000):\n",
    "    #n=23\n",
    "    flag = 0\n",
    "    for i in range(2, n):\n",
    "        if n%i == 0:\n",
    "            #print('소수가 아닙니다.')\n",
    "            flag = 1\n",
    "            break\n",
    "    if flag == 0:\n",
    "        #print('소수', n)\n",
    "        prime_list.append(n)\n",
    "print(prime_list)\n",
    "print(sum(prime_list))"
   ]
  },
  {
   "cell_type": "code",
   "execution_count": 18,
   "id": "4e19da97",
   "metadata": {},
   "outputs": [
    {
     "name": "stdout",
     "output_type": "stream",
     "text": [
      "[2, 3, 5, 7, 11, 13, 17, 19, 23, 29, 31, 37, 41, 43, 47, 53, 59, 61, 67, 71, 73, 79, 83, 89, 97]\n"
     ]
    }
   ],
   "source": [
    "#소수를 판별하는 함수를 만들고, 그 함수를 이용하여 list에 담는 방법\n",
    "def is_prime(n):    \n",
    "    for i in range(2, n):\n",
    "        if n%i == 0:\n",
    "            return False\n",
    "    return True\n",
    "\n",
    "\n",
    "is_prime(23) # return True\n",
    "is_prime(24) # return False\n",
    "\n",
    "prime_list=[]\n",
    "for n in range(2, 100):\n",
    "    if is_prime(n)==True:    \n",
    "        prime_list.append(n)\n",
    "print(prime_list)\n",
    "        "
   ]
  }
 ],
 "metadata": {
  "kernelspec": {
   "display_name": "Python 3 (ipykernel)",
   "language": "python",
   "name": "python3"
  },
  "language_info": {
   "codemirror_mode": {
    "name": "ipython",
    "version": 3
   },
   "file_extension": ".py",
   "mimetype": "text/x-python",
   "name": "python",
   "nbconvert_exporter": "python",
   "pygments_lexer": "ipython3",
   "version": "3.10.9"
  }
 },
 "nbformat": 4,
 "nbformat_minor": 5
}
