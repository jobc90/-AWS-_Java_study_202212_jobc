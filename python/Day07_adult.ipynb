{
 "cells": [
  {
   "cell_type": "code",
   "execution_count": 55,
   "id": "bf809f3c",
   "metadata": {},
   "outputs": [
    {
     "name": "stdout",
     "output_type": "stream",
     "text": [
      "39, State-gov, 77516, Bachelors, 13, Never-married\n"
     ]
    }
   ],
   "source": [
    "\n",
    "import requests\n",
    "\n",
    "x = requests.get('https://archive.ics.uci.edu/ml/machine-learning-databases/adult/adult.data')\n",
    "\n",
    "print(x.text[:50])"
   ]
  },
  {
   "cell_type": "code",
   "execution_count": 56,
   "id": "0c33082b",
   "metadata": {},
   "outputs": [],
   "source": [
    "import math\n",
    "\n",
    "#평균\n",
    "def mean(num_list):\n",
    "    #return sum(num_list)/len(num_list)\n",
    "    for i in num_list:\n",
    "        avr = sum(num_list)/len(num_list)\n",
    "    return avr\n",
    "\n",
    "#중간값\n",
    "def median(num_list):\n",
    "    n = len(num_list)\n",
    "    if n % 2 == 0:\n",
    "        return (num_list[n//2 - 1] + num_list[n//2]) / 2\n",
    "    else:\n",
    "        return num_list[n//2] \n",
    "#편차   \n",
    "def dev(num_list):\n",
    "    m = mean(num_list)\n",
    "    return [x-m for x in num_list]\n",
    "\n",
    "#분산\n",
    "def var(num_list):\n",
    "    n = len(num_list)\n",
    "    d = dev(num_list)\n",
    "    return sum([x*x for x in d])/(n-1)\n",
    "\n",
    "#표준편차\n",
    "def stdev(num_list):\n",
    "    return math.sqrt(var(num_list))\n",
    "\n",
    "#공분산\n",
    "def covar(list_1, list_2):\n",
    "    n = len(list_1)\n",
    "    list_1_dev = dev(list_1)\n",
    "    list_2_dev = dev(list_2)\n",
    "    return sum(x * y for x, y in zip(list_1_dev, list_2_dev))/(n-1)\n",
    "\n",
    "#상관도\n",
    "def corel(list_1, list_2):\n",
    "    return covar(list_1, list_2)/(stdev(list_1)*stdev(list_2))\n",
    "\n",
    "#age / capital gain 상관도 1, 10\n",
    "#hours-per-week/capital gain 12, 10"
   ]
  },
  {
   "cell_type": "code",
   "execution_count": 57,
   "id": "f0e6ac35",
   "metadata": {},
   "outputs": [
    {
     "name": "stdout",
     "output_type": "stream",
     "text": [
      "['50', 'Self-emp-not-inc', '83311', 'Bachelors', '13', 'Married-civ-spouse', 'Exec-managerial', 'Husband', 'White', 'Male', '0', '0', '13', 'United-States', '<=50K']\n",
      "Self-emp-not-inc\n"
     ]
    }
   ],
   "source": [
    "pass1 = x.text.split('\\n')\n",
    "#print(pass1[:1])\n",
    "#print(len(pass1))\n",
    "\n",
    "pass2 = []\n",
    "for e in pass1:\n",
    "    y = e.split(', ')\n",
    "    pass2.append(y)\n",
    "    \n",
    "print(pass2[1])\n",
    "\n",
    "print(pass2[1][1])"
   ]
  },
  {
   "cell_type": "code",
   "execution_count": 62,
   "id": "626ceab7",
   "metadata": {},
   "outputs": [],
   "source": [
    "age_list = []                \n",
    "hour_list = []\n",
    "capital_list = []\n",
    "\n",
    "\n",
    "for e in pass2:\n",
    "    \n",
    "    try:\n",
    "        age_list.append(e[0])\n",
    "        hour_list.append(e[12])\n",
    "        capital_list.append(e[10])\n",
    "    except:\n",
    "        pass\n",
    "    \n",
    "\n",
    "for i, n in enumerate(age_list):\n",
    "    try:\n",
    "        age_list[i] = float(n)\n",
    "    except:\n",
    "        age_list[i] = 0\n",
    "        \n",
    "# for i in range(len(age_list)):\n",
    "#     try:\n",
    "#         age_list[i] = float(age_list[i])\n",
    "#     except:\n",
    "#         age_list[i] = 0\n",
    "\n",
    "for i, n in enumerate(hour_list):\n",
    "    try:\n",
    "        hour_list[i] = float(n)\n",
    "    except:\n",
    "        hour_list[i] = 0\n",
    "        \n",
    "for i, n in enumerate(capital_list):\n",
    "    try:\n",
    "        capital_list[i] = float(n)\n",
    "    except:\n",
    "        capital_list[i] = 0"
   ]
  },
  {
   "cell_type": "code",
   "execution_count": 63,
   "id": "1d734a46",
   "metadata": {},
   "outputs": [
    {
     "name": "stdout",
     "output_type": "stream",
     "text": [
      "상관도:  0.07765303617058979\n",
      "상관도:  0.07840861539012314\n"
     ]
    }
   ],
   "source": [
    "print('상관도: ', corel(age_list, capital_list))\n",
    "print('상관도: ', corel(hour_list, capital_list))"
   ]
  },
  {
   "cell_type": "code",
   "execution_count": 82,
   "id": "f9303099",
   "metadata": {},
   "outputs": [],
   "source": [
    "test1 = x.text.split('\\n')\n",
    "#print(pass1[0].split(',')[0]) #age\n",
    "#print(pass1[0].split(',')[10]) #capital\n",
    "#print(pass1[0].split(',')[12]) #hour\n",
    "ag_list = []\n",
    "cap_gain_list = []\n",
    "hours_per_week_list = []\n",
    "\n",
    "for e in test1:\n",
    "    try:\n",
    "        t = e.split(',')\n",
    "        if len(t) <5:\n",
    "            continue\n",
    "        ag_list.append(t[0])\n",
    "        cap_gain_list.append(t[0])\n",
    "        hours_per_week_list.append(t[12])\n",
    "    except:\n",
    "        print(e, type(e))\n",
    "        \n",
    "ag_list = [int(i) for i in ag_list]\n",
    "cap_gain_list = [int(i) for i in cap_gain_list]\n",
    "hours_per_week_list = [int(i) for i in hours_per_week_list]"
   ]
  },
  {
   "cell_type": "code",
   "execution_count": 83,
   "id": "0b540435",
   "metadata": {},
   "outputs": [
    {
     "name": "stdout",
     "output_type": "stream",
     "text": [
      "32561\n",
      "32561\n",
      "32561\n"
     ]
    }
   ],
   "source": [
    "print(len(ag_list))\n",
    "print(len(cap_gain_list))\n",
    "print(len(hours_per_week_list))"
   ]
  },
  {
   "cell_type": "code",
   "execution_count": null,
   "id": "4cdab6b0",
   "metadata": {},
   "outputs": [],
   "source": []
  }
 ],
 "metadata": {
  "kernelspec": {
   "display_name": "Python 3 (ipykernel)",
   "language": "python",
   "name": "python3"
  },
  "language_info": {
   "codemirror_mode": {
    "name": "ipython",
    "version": 3
   },
   "file_extension": ".py",
   "mimetype": "text/x-python",
   "name": "python",
   "nbconvert_exporter": "python",
   "pygments_lexer": "ipython3",
   "version": "3.10.9"
  }
 },
 "nbformat": 4,
 "nbformat_minor": 5
}
